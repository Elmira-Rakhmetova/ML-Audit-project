{
  "nbformat": 4,
  "nbformat_minor": 0,
  "metadata": {
    "accelerator": "GPU",
    "colab": {
      "name": "MLMNC_Group_Project_Team_6_10.ipynb",
      "provenance": [],
      "collapsed_sections": [],
      "toc_visible": true
    },
    "kernelspec": {
      "display_name": "Python 3",
      "name": "python3"
    }
  },
  "cells": [
    {
      "cell_type": "markdown",
      "metadata": {
        "id": "aMeGIRjGKjb1"
      },
      "source": [
        "# MLMNC Group Project - Team 6"
      ]
    },
    {
      "cell_type": "markdown",
      "metadata": {
        "id": "I5LWsh_VKu6x"
      },
      "source": [
        "# 0 - Import of Data & Dependencies"
      ]
    },
    {
      "cell_type": "code",
      "metadata": {
        "id": "vBU6PPP1q0Vo"
      },
      "source": [
        "import pandas as pd\n",
        "import numpy as np\n",
        "\n",
        "# for data preprocessing\n",
        "from sklearn.model_selection import train_test_split\n",
        "\n",
        "# for K_Neighbours\n",
        "from sklearn.neighbors import KNeighborsClassifier\n",
        "from sklearn.model_selection import GridSearchCV\n",
        "\n",
        "# for RandomForest\n",
        "from sklearn.ensemble import RandomForestClassifier\n",
        "\n",
        "# for Decision Tree\n",
        "from sklearn.metrics import confusion_matrix\n",
        "from sklearn.tree import DecisionTreeClassifier\n",
        "\n",
        "# for neural nets\n",
        "import tensorflow as tf\n",
        "\n",
        "# for linear regression\n",
        "from sklearn.linear_model import LinearRegression\n",
        "\n",
        "# for visualizations\n",
        "from sklearn import metrics\n",
        "import matplotlib.pyplot as plt\n",
        "#from sklearn.metrics import accuracy_score, f1_score, precision_score,confusion_matrix, recall_score, roc_auc_score\n",
        "from sklearn.metrics import confusion_matrix\n",
        "import seaborn as sns"
      ],
      "execution_count": 1,
      "outputs": []
    },
    {
      "cell_type": "code",
      "metadata": {
        "id": "O2Xt0cV6Tk9P"
      },
      "source": [
        "audit_risk_original = pd.read_csv('https://raw.githubusercontent.com/Elmira-Rakhmetova/ML-Audit-project/main/audit_risk.csv')\n",
        "trial_original = pd.read_csv('https://raw.githubusercontent.com/Elmira-Rakhmetova/ML-Audit-project/main/trial.csv')"
      ],
      "execution_count": 2,
      "outputs": []
    },
    {
      "cell_type": "markdown",
      "metadata": {
        "id": "0KLIqA4hT5VX"
      },
      "source": [
        "# 1 - Data Exploration & Preparation "
      ]
    },
    {
      "cell_type": "code",
      "metadata": {
        "colab": {
          "base_uri": "https://localhost:8080/",
          "height": 204
        },
        "id": "d3NL33FlzeCU",
        "outputId": "6e89e07b-b338-4d9f-b94e-20dd162b72e8"
      },
      "source": [
        "# how does the data look like?\n",
        "trial_original.head()"
      ],
      "execution_count": 3,
      "outputs": [
        {
          "output_type": "execute_result",
          "data": {
            "text/html": [
              "<div>\n",
              "<style scoped>\n",
              "    .dataframe tbody tr th:only-of-type {\n",
              "        vertical-align: middle;\n",
              "    }\n",
              "\n",
              "    .dataframe tbody tr th {\n",
              "        vertical-align: top;\n",
              "    }\n",
              "\n",
              "    .dataframe thead th {\n",
              "        text-align: right;\n",
              "    }\n",
              "</style>\n",
              "<table border=\"1\" class=\"dataframe\">\n",
              "  <thead>\n",
              "    <tr style=\"text-align: right;\">\n",
              "      <th></th>\n",
              "      <th>Sector_score</th>\n",
              "      <th>LOCATION_ID</th>\n",
              "      <th>PARA_A</th>\n",
              "      <th>SCORE_A</th>\n",
              "      <th>PARA_B</th>\n",
              "      <th>SCORE_B</th>\n",
              "      <th>TOTAL</th>\n",
              "      <th>numbers</th>\n",
              "      <th>Marks</th>\n",
              "      <th>Money_Value</th>\n",
              "      <th>MONEY_Marks</th>\n",
              "      <th>District</th>\n",
              "      <th>Loss</th>\n",
              "      <th>LOSS_SCORE</th>\n",
              "      <th>History</th>\n",
              "      <th>History_score</th>\n",
              "      <th>Score</th>\n",
              "      <th>Risk</th>\n",
              "    </tr>\n",
              "  </thead>\n",
              "  <tbody>\n",
              "    <tr>\n",
              "      <th>0</th>\n",
              "      <td>3.89</td>\n",
              "      <td>23</td>\n",
              "      <td>4.18</td>\n",
              "      <td>6</td>\n",
              "      <td>2.50</td>\n",
              "      <td>2</td>\n",
              "      <td>6.68</td>\n",
              "      <td>5.0</td>\n",
              "      <td>2</td>\n",
              "      <td>3.38</td>\n",
              "      <td>2</td>\n",
              "      <td>2</td>\n",
              "      <td>0</td>\n",
              "      <td>2</td>\n",
              "      <td>0</td>\n",
              "      <td>2</td>\n",
              "      <td>2.4</td>\n",
              "      <td>1</td>\n",
              "    </tr>\n",
              "    <tr>\n",
              "      <th>1</th>\n",
              "      <td>3.89</td>\n",
              "      <td>6</td>\n",
              "      <td>0.00</td>\n",
              "      <td>2</td>\n",
              "      <td>4.83</td>\n",
              "      <td>2</td>\n",
              "      <td>4.83</td>\n",
              "      <td>5.0</td>\n",
              "      <td>2</td>\n",
              "      <td>0.94</td>\n",
              "      <td>2</td>\n",
              "      <td>2</td>\n",
              "      <td>0</td>\n",
              "      <td>2</td>\n",
              "      <td>0</td>\n",
              "      <td>2</td>\n",
              "      <td>2.0</td>\n",
              "      <td>0</td>\n",
              "    </tr>\n",
              "    <tr>\n",
              "      <th>2</th>\n",
              "      <td>3.89</td>\n",
              "      <td>6</td>\n",
              "      <td>0.51</td>\n",
              "      <td>2</td>\n",
              "      <td>0.23</td>\n",
              "      <td>2</td>\n",
              "      <td>0.74</td>\n",
              "      <td>5.0</td>\n",
              "      <td>2</td>\n",
              "      <td>0.00</td>\n",
              "      <td>2</td>\n",
              "      <td>2</td>\n",
              "      <td>0</td>\n",
              "      <td>2</td>\n",
              "      <td>0</td>\n",
              "      <td>2</td>\n",
              "      <td>2.0</td>\n",
              "      <td>0</td>\n",
              "    </tr>\n",
              "    <tr>\n",
              "      <th>3</th>\n",
              "      <td>3.89</td>\n",
              "      <td>6</td>\n",
              "      <td>0.00</td>\n",
              "      <td>2</td>\n",
              "      <td>10.80</td>\n",
              "      <td>6</td>\n",
              "      <td>10.80</td>\n",
              "      <td>6.0</td>\n",
              "      <td>6</td>\n",
              "      <td>11.75</td>\n",
              "      <td>6</td>\n",
              "      <td>2</td>\n",
              "      <td>0</td>\n",
              "      <td>2</td>\n",
              "      <td>0</td>\n",
              "      <td>2</td>\n",
              "      <td>4.4</td>\n",
              "      <td>1</td>\n",
              "    </tr>\n",
              "    <tr>\n",
              "      <th>4</th>\n",
              "      <td>3.89</td>\n",
              "      <td>6</td>\n",
              "      <td>0.00</td>\n",
              "      <td>2</td>\n",
              "      <td>0.08</td>\n",
              "      <td>2</td>\n",
              "      <td>0.08</td>\n",
              "      <td>5.0</td>\n",
              "      <td>2</td>\n",
              "      <td>0.00</td>\n",
              "      <td>2</td>\n",
              "      <td>2</td>\n",
              "      <td>0</td>\n",
              "      <td>2</td>\n",
              "      <td>0</td>\n",
              "      <td>2</td>\n",
              "      <td>2.0</td>\n",
              "      <td>0</td>\n",
              "    </tr>\n",
              "  </tbody>\n",
              "</table>\n",
              "</div>"
            ],
            "text/plain": [
              "   Sector_score LOCATION_ID  PARA_A  ...  History_score  Score  Risk\n",
              "0          3.89          23    4.18  ...              2    2.4     1\n",
              "1          3.89           6    0.00  ...              2    2.0     0\n",
              "2          3.89           6    0.51  ...              2    2.0     0\n",
              "3          3.89           6    0.00  ...              2    4.4     1\n",
              "4          3.89           6    0.00  ...              2    2.0     0\n",
              "\n",
              "[5 rows x 18 columns]"
            ]
          },
          "metadata": {
            "tags": []
          },
          "execution_count": 3
        }
      ]
    },
    {
      "cell_type": "code",
      "metadata": {
        "colab": {
          "base_uri": "https://localhost:8080/",
          "height": 317
        },
        "id": "h6u0NG90ULzo",
        "outputId": "fd0e8355-5423-420f-d5c5-f02bb9c06902"
      },
      "source": [
        "# brief data description \n",
        "trial_original.describe()"
      ],
      "execution_count": 4,
      "outputs": [
        {
          "output_type": "execute_result",
          "data": {
            "text/html": [
              "<div>\n",
              "<style scoped>\n",
              "    .dataframe tbody tr th:only-of-type {\n",
              "        vertical-align: middle;\n",
              "    }\n",
              "\n",
              "    .dataframe tbody tr th {\n",
              "        vertical-align: top;\n",
              "    }\n",
              "\n",
              "    .dataframe thead th {\n",
              "        text-align: right;\n",
              "    }\n",
              "</style>\n",
              "<table border=\"1\" class=\"dataframe\">\n",
              "  <thead>\n",
              "    <tr style=\"text-align: right;\">\n",
              "      <th></th>\n",
              "      <th>Sector_score</th>\n",
              "      <th>PARA_A</th>\n",
              "      <th>SCORE_A</th>\n",
              "      <th>PARA_B</th>\n",
              "      <th>SCORE_B</th>\n",
              "      <th>TOTAL</th>\n",
              "      <th>numbers</th>\n",
              "      <th>Marks</th>\n",
              "      <th>Money_Value</th>\n",
              "      <th>MONEY_Marks</th>\n",
              "      <th>District</th>\n",
              "      <th>Loss</th>\n",
              "      <th>LOSS_SCORE</th>\n",
              "      <th>History</th>\n",
              "      <th>History_score</th>\n",
              "      <th>Score</th>\n",
              "      <th>Risk</th>\n",
              "    </tr>\n",
              "  </thead>\n",
              "  <tbody>\n",
              "    <tr>\n",
              "      <th>count</th>\n",
              "      <td>776.000000</td>\n",
              "      <td>776.000000</td>\n",
              "      <td>776.000000</td>\n",
              "      <td>776.000000</td>\n",
              "      <td>776.000000</td>\n",
              "      <td>776.000000</td>\n",
              "      <td>776.000000</td>\n",
              "      <td>776.000000</td>\n",
              "      <td>775.000000</td>\n",
              "      <td>776.000000</td>\n",
              "      <td>776.000000</td>\n",
              "      <td>776.000000</td>\n",
              "      <td>776.000000</td>\n",
              "      <td>776.000000</td>\n",
              "      <td>776.000000</td>\n",
              "      <td>776.000000</td>\n",
              "      <td>776.000000</td>\n",
              "    </tr>\n",
              "    <tr>\n",
              "      <th>mean</th>\n",
              "      <td>20.184536</td>\n",
              "      <td>2.450194</td>\n",
              "      <td>3.512887</td>\n",
              "      <td>10.799988</td>\n",
              "      <td>3.131443</td>\n",
              "      <td>13.218481</td>\n",
              "      <td>5.067655</td>\n",
              "      <td>2.237113</td>\n",
              "      <td>14.137631</td>\n",
              "      <td>2.909794</td>\n",
              "      <td>2.505155</td>\n",
              "      <td>0.029639</td>\n",
              "      <td>2.061856</td>\n",
              "      <td>0.104381</td>\n",
              "      <td>2.167526</td>\n",
              "      <td>2.702577</td>\n",
              "      <td>0.626289</td>\n",
              "    </tr>\n",
              "    <tr>\n",
              "      <th>std</th>\n",
              "      <td>24.319017</td>\n",
              "      <td>5.678870</td>\n",
              "      <td>1.740549</td>\n",
              "      <td>50.083624</td>\n",
              "      <td>1.698042</td>\n",
              "      <td>51.312829</td>\n",
              "      <td>0.264449</td>\n",
              "      <td>0.803517</td>\n",
              "      <td>66.606519</td>\n",
              "      <td>1.597452</td>\n",
              "      <td>1.228678</td>\n",
              "      <td>0.184280</td>\n",
              "      <td>0.375080</td>\n",
              "      <td>0.531031</td>\n",
              "      <td>0.679869</td>\n",
              "      <td>0.858923</td>\n",
              "      <td>0.484100</td>\n",
              "    </tr>\n",
              "    <tr>\n",
              "      <th>min</th>\n",
              "      <td>1.850000</td>\n",
              "      <td>0.000000</td>\n",
              "      <td>2.000000</td>\n",
              "      <td>0.000000</td>\n",
              "      <td>2.000000</td>\n",
              "      <td>0.000000</td>\n",
              "      <td>5.000000</td>\n",
              "      <td>2.000000</td>\n",
              "      <td>0.000000</td>\n",
              "      <td>2.000000</td>\n",
              "      <td>2.000000</td>\n",
              "      <td>0.000000</td>\n",
              "      <td>2.000000</td>\n",
              "      <td>0.000000</td>\n",
              "      <td>2.000000</td>\n",
              "      <td>2.000000</td>\n",
              "      <td>0.000000</td>\n",
              "    </tr>\n",
              "    <tr>\n",
              "      <th>25%</th>\n",
              "      <td>2.370000</td>\n",
              "      <td>0.210000</td>\n",
              "      <td>2.000000</td>\n",
              "      <td>0.000000</td>\n",
              "      <td>2.000000</td>\n",
              "      <td>0.537500</td>\n",
              "      <td>5.000000</td>\n",
              "      <td>2.000000</td>\n",
              "      <td>0.000000</td>\n",
              "      <td>2.000000</td>\n",
              "      <td>2.000000</td>\n",
              "      <td>0.000000</td>\n",
              "      <td>2.000000</td>\n",
              "      <td>0.000000</td>\n",
              "      <td>2.000000</td>\n",
              "      <td>2.000000</td>\n",
              "      <td>0.000000</td>\n",
              "    </tr>\n",
              "    <tr>\n",
              "      <th>50%</th>\n",
              "      <td>3.890000</td>\n",
              "      <td>0.875000</td>\n",
              "      <td>2.000000</td>\n",
              "      <td>0.405000</td>\n",
              "      <td>2.000000</td>\n",
              "      <td>1.370000</td>\n",
              "      <td>5.000000</td>\n",
              "      <td>2.000000</td>\n",
              "      <td>0.090000</td>\n",
              "      <td>2.000000</td>\n",
              "      <td>2.000000</td>\n",
              "      <td>0.000000</td>\n",
              "      <td>2.000000</td>\n",
              "      <td>0.000000</td>\n",
              "      <td>2.000000</td>\n",
              "      <td>2.400000</td>\n",
              "      <td>1.000000</td>\n",
              "    </tr>\n",
              "    <tr>\n",
              "      <th>75%</th>\n",
              "      <td>55.570000</td>\n",
              "      <td>2.480000</td>\n",
              "      <td>6.000000</td>\n",
              "      <td>4.160000</td>\n",
              "      <td>4.000000</td>\n",
              "      <td>7.707500</td>\n",
              "      <td>5.000000</td>\n",
              "      <td>2.000000</td>\n",
              "      <td>5.595000</td>\n",
              "      <td>4.000000</td>\n",
              "      <td>2.000000</td>\n",
              "      <td>0.000000</td>\n",
              "      <td>2.000000</td>\n",
              "      <td>0.000000</td>\n",
              "      <td>2.000000</td>\n",
              "      <td>3.250000</td>\n",
              "      <td>1.000000</td>\n",
              "    </tr>\n",
              "    <tr>\n",
              "      <th>max</th>\n",
              "      <td>59.850000</td>\n",
              "      <td>85.000000</td>\n",
              "      <td>6.000000</td>\n",
              "      <td>1264.630000</td>\n",
              "      <td>6.000000</td>\n",
              "      <td>1268.910000</td>\n",
              "      <td>9.000000</td>\n",
              "      <td>6.000000</td>\n",
              "      <td>935.030000</td>\n",
              "      <td>6.000000</td>\n",
              "      <td>6.000000</td>\n",
              "      <td>2.000000</td>\n",
              "      <td>6.000000</td>\n",
              "      <td>9.000000</td>\n",
              "      <td>6.000000</td>\n",
              "      <td>5.200000</td>\n",
              "      <td>1.000000</td>\n",
              "    </tr>\n",
              "  </tbody>\n",
              "</table>\n",
              "</div>"
            ],
            "text/plain": [
              "       Sector_score      PARA_A  ...       Score        Risk\n",
              "count    776.000000  776.000000  ...  776.000000  776.000000\n",
              "mean      20.184536    2.450194  ...    2.702577    0.626289\n",
              "std       24.319017    5.678870  ...    0.858923    0.484100\n",
              "min        1.850000    0.000000  ...    2.000000    0.000000\n",
              "25%        2.370000    0.210000  ...    2.000000    0.000000\n",
              "50%        3.890000    0.875000  ...    2.400000    1.000000\n",
              "75%       55.570000    2.480000  ...    3.250000    1.000000\n",
              "max       59.850000   85.000000  ...    5.200000    1.000000\n",
              "\n",
              "[8 rows x 17 columns]"
            ]
          },
          "metadata": {
            "tags": []
          },
          "execution_count": 4
        }
      ]
    },
    {
      "cell_type": "markdown",
      "metadata": {
        "id": "TTCYSszIx5pm"
      },
      "source": [
        "## Data preprocessing"
      ]
    },
    {
      "cell_type": "code",
      "metadata": {
        "id": "k7ixeEszx86f"
      },
      "source": [
        "trial = trial_original.copy()"
      ],
      "execution_count": 5,
      "outputs": []
    },
    {
      "cell_type": "code",
      "metadata": {
        "colab": {
          "base_uri": "https://localhost:8080/"
        },
        "id": "LuyZfz_GycG3",
        "outputId": "1169337d-c8cf-4b73-c337-9b97a18c1d48"
      },
      "source": [
        "trial.info()"
      ],
      "execution_count": 6,
      "outputs": [
        {
          "output_type": "stream",
          "text": [
            "<class 'pandas.core.frame.DataFrame'>\n",
            "RangeIndex: 776 entries, 0 to 775\n",
            "Data columns (total 18 columns):\n",
            " #   Column         Non-Null Count  Dtype  \n",
            "---  ------         --------------  -----  \n",
            " 0   Sector_score   776 non-null    float64\n",
            " 1   LOCATION_ID    776 non-null    object \n",
            " 2   PARA_A         776 non-null    float64\n",
            " 3   SCORE_A        776 non-null    int64  \n",
            " 4   PARA_B         776 non-null    float64\n",
            " 5   SCORE_B        776 non-null    int64  \n",
            " 6   TOTAL          776 non-null    float64\n",
            " 7   numbers        776 non-null    float64\n",
            " 8   Marks          776 non-null    int64  \n",
            " 9   Money_Value    775 non-null    float64\n",
            " 10  MONEY_Marks    776 non-null    int64  \n",
            " 11  District       776 non-null    int64  \n",
            " 12  Loss           776 non-null    int64  \n",
            " 13  LOSS_SCORE     776 non-null    int64  \n",
            " 14  History        776 non-null    int64  \n",
            " 15  History_score  776 non-null    int64  \n",
            " 16  Score          776 non-null    float64\n",
            " 17  Risk           776 non-null    int64  \n",
            "dtypes: float64(7), int64(10), object(1)\n",
            "memory usage: 109.2+ KB\n"
          ],
          "name": "stdout"
        }
      ]
    },
    {
      "cell_type": "markdown",
      "metadata": {
        "id": "UHTjgYpVOP45"
      },
      "source": [
        "We observe `object` datatype in column \"LOCATION ID\"; as it is supposed to be a numerical variable, we have to exlude the rows with text:"
      ]
    },
    {
      "cell_type": "code",
      "metadata": {
        "colab": {
          "base_uri": "https://localhost:8080/"
        },
        "id": "9gUGoYuFC1CQ",
        "outputId": "21fc003a-d387-4e4f-f80e-214a3ede1eb5"
      },
      "source": [
        "trial.LOCATION_ID.unique()"
      ],
      "execution_count": 7,
      "outputs": [
        {
          "output_type": "execute_result",
          "data": {
            "text/plain": [
              "array(['23', '6', '7', '8', '13', '37', '24', '3', '4', '14', '5', '20',\n",
              "       '19', '21', '22', '9', '11', '12', '29', '30', '38', '31', '2',\n",
              "       '32', '16', '33', '15', '36', '34', '18', '25', '39', '27', '35',\n",
              "       '40', '41', '42', '1', '28', 'LOHARU', 'NUH', 'SAFIDON', '43',\n",
              "       '44', '17'], dtype=object)"
            ]
          },
          "metadata": {
            "tags": []
          },
          "execution_count": 7
        }
      ]
    },
    {
      "cell_type": "code",
      "metadata": {
        "id": "5UUWE8juDndD"
      },
      "source": [
        "trial = trial[(trial.LOCATION_ID != 'LOHARU')]\n",
        "trial = trial[(trial.LOCATION_ID != 'NUH')]\n",
        "trial = trial[(trial.LOCATION_ID != 'SAFIDON')]\n",
        "trial = trial.astype(float)"
      ],
      "execution_count": 8,
      "outputs": []
    },
    {
      "cell_type": "markdown",
      "metadata": {
        "id": "NHS5icFwzyuc"
      },
      "source": [
        "We also observe 1 `nan` value in column \"Money_Value\" and need to exlude it: \n",
        "\n",
        "```python\n",
        "trial = trial.dropna()\n",
        "```"
      ]
    },
    {
      "cell_type": "code",
      "metadata": {
        "id": "0gD6AuCfz9X7"
      },
      "source": [
        "trial = trial.dropna()"
      ],
      "execution_count": 9,
      "outputs": []
    },
    {
      "cell_type": "markdown",
      "metadata": {
        "id": "2ZeWri8cM8Dv"
      },
      "source": [
        "## Variable analysis: correlations\n",
        "The relationships between the variables are firstly analyzed through correlation matrix: "
      ]
    },
    {
      "cell_type": "code",
      "metadata": {
        "colab": {
          "base_uri": "https://localhost:8080/",
          "height": 418
        },
        "id": "wzLnR0vvzqrt",
        "outputId": "0780f864-63b8-40ad-9edf-7667c0cd26ba"
      },
      "source": [
        "trial.corr(method='pearson').style.format('{:.2f}').background_gradient()"
      ],
      "execution_count": 10,
      "outputs": [
        {
          "output_type": "execute_result",
          "data": {
            "text/html": [
              "<style  type=\"text/css\" >\n",
              "#T_a895a3f2_3a86_11eb_8389_0242ac1c0002row0_col0,#T_a895a3f2_3a86_11eb_8389_0242ac1c0002row1_col1,#T_a895a3f2_3a86_11eb_8389_0242ac1c0002row2_col2,#T_a895a3f2_3a86_11eb_8389_0242ac1c0002row3_col3,#T_a895a3f2_3a86_11eb_8389_0242ac1c0002row4_col4,#T_a895a3f2_3a86_11eb_8389_0242ac1c0002row5_col5,#T_a895a3f2_3a86_11eb_8389_0242ac1c0002row6_col6,#T_a895a3f2_3a86_11eb_8389_0242ac1c0002row7_col7,#T_a895a3f2_3a86_11eb_8389_0242ac1c0002row8_col8,#T_a895a3f2_3a86_11eb_8389_0242ac1c0002row9_col9,#T_a895a3f2_3a86_11eb_8389_0242ac1c0002row10_col10,#T_a895a3f2_3a86_11eb_8389_0242ac1c0002row11_col11,#T_a895a3f2_3a86_11eb_8389_0242ac1c0002row12_col12,#T_a895a3f2_3a86_11eb_8389_0242ac1c0002row13_col13,#T_a895a3f2_3a86_11eb_8389_0242ac1c0002row14_col14,#T_a895a3f2_3a86_11eb_8389_0242ac1c0002row15_col15,#T_a895a3f2_3a86_11eb_8389_0242ac1c0002row16_col16,#T_a895a3f2_3a86_11eb_8389_0242ac1c0002row17_col17{\n",
              "            background-color:  #023858;\n",
              "            color:  #f1f1f1;\n",
              "        }#T_a895a3f2_3a86_11eb_8389_0242ac1c0002row0_col1,#T_a895a3f2_3a86_11eb_8389_0242ac1c0002row1_col9,#T_a895a3f2_3a86_11eb_8389_0242ac1c0002row15_col1{\n",
              "            background-color:  #f8f1f8;\n",
              "            color:  #000000;\n",
              "        }#T_a895a3f2_3a86_11eb_8389_0242ac1c0002row0_col2,#T_a895a3f2_3a86_11eb_8389_0242ac1c0002row0_col3,#T_a895a3f2_3a86_11eb_8389_0242ac1c0002row0_col4,#T_a895a3f2_3a86_11eb_8389_0242ac1c0002row0_col5,#T_a895a3f2_3a86_11eb_8389_0242ac1c0002row0_col6,#T_a895a3f2_3a86_11eb_8389_0242ac1c0002row0_col7,#T_a895a3f2_3a86_11eb_8389_0242ac1c0002row0_col8,#T_a895a3f2_3a86_11eb_8389_0242ac1c0002row0_col9,#T_a895a3f2_3a86_11eb_8389_0242ac1c0002row0_col10,#T_a895a3f2_3a86_11eb_8389_0242ac1c0002row0_col11,#T_a895a3f2_3a86_11eb_8389_0242ac1c0002row0_col12,#T_a895a3f2_3a86_11eb_8389_0242ac1c0002row0_col13,#T_a895a3f2_3a86_11eb_8389_0242ac1c0002row0_col14,#T_a895a3f2_3a86_11eb_8389_0242ac1c0002row0_col15,#T_a895a3f2_3a86_11eb_8389_0242ac1c0002row0_col16,#T_a895a3f2_3a86_11eb_8389_0242ac1c0002row0_col17,#T_a895a3f2_3a86_11eb_8389_0242ac1c0002row1_col11,#T_a895a3f2_3a86_11eb_8389_0242ac1c0002row3_col0,#T_a895a3f2_3a86_11eb_8389_0242ac1c0002row11_col1{\n",
              "            background-color:  #fff7fb;\n",
              "            color:  #000000;\n",
              "        }#T_a895a3f2_3a86_11eb_8389_0242ac1c0002row1_col0,#T_a895a3f2_3a86_11eb_8389_0242ac1c0002row2_col4,#T_a895a3f2_3a86_11eb_8389_0242ac1c0002row12_col5,#T_a895a3f2_3a86_11eb_8389_0242ac1c0002row17_col4{\n",
              "            background-color:  #cdd0e5;\n",
              "            color:  #000000;\n",
              "        }#T_a895a3f2_3a86_11eb_8389_0242ac1c0002row1_col2,#T_a895a3f2_3a86_11eb_8389_0242ac1c0002row3_col1,#T_a895a3f2_3a86_11eb_8389_0242ac1c0002row4_col11,#T_a895a3f2_3a86_11eb_8389_0242ac1c0002row9_col14,#T_a895a3f2_3a86_11eb_8389_0242ac1c0002row11_col5,#T_a895a3f2_3a86_11eb_8389_0242ac1c0002row12_col6,#T_a895a3f2_3a86_11eb_8389_0242ac1c0002row13_col6,#T_a895a3f2_3a86_11eb_8389_0242ac1c0002row15_col11,#T_a895a3f2_3a86_11eb_8389_0242ac1c0002row15_col12{\n",
              "            background-color:  #e1dfed;\n",
              "            color:  #000000;\n",
              "        }#T_a895a3f2_3a86_11eb_8389_0242ac1c0002row1_col3,#T_a895a3f2_3a86_11eb_8389_0242ac1c0002row15_col8{\n",
              "            background-color:  #acc0dd;\n",
              "            color:  #000000;\n",
              "        }#T_a895a3f2_3a86_11eb_8389_0242ac1c0002row1_col4,#T_a895a3f2_3a86_11eb_8389_0242ac1c0002row6_col12,#T_a895a3f2_3a86_11eb_8389_0242ac1c0002row6_col13,#T_a895a3f2_3a86_11eb_8389_0242ac1c0002row9_col11{\n",
              "            background-color:  #ede7f2;\n",
              "            color:  #000000;\n",
              "        }#T_a895a3f2_3a86_11eb_8389_0242ac1c0002row1_col5,#T_a895a3f2_3a86_11eb_8389_0242ac1c0002row5_col14,#T_a895a3f2_3a86_11eb_8389_0242ac1c0002row7_col14,#T_a895a3f2_3a86_11eb_8389_0242ac1c0002row11_col2{\n",
              "            background-color:  #c5cce3;\n",
              "            color:  #000000;\n",
              "        }#T_a895a3f2_3a86_11eb_8389_0242ac1c0002row1_col6,#T_a895a3f2_3a86_11eb_8389_0242ac1c0002row1_col7,#T_a895a3f2_3a86_11eb_8389_0242ac1c0002row17_col1{\n",
              "            background-color:  #e9e5f1;\n",
              "            color:  #000000;\n",
              "        }#T_a895a3f2_3a86_11eb_8389_0242ac1c0002row1_col8,#T_a895a3f2_3a86_11eb_8389_0242ac1c0002row11_col9,#T_a895a3f2_3a86_11eb_8389_0242ac1c0002row11_col13,#T_a895a3f2_3a86_11eb_8389_0242ac1c0002row12_col7,#T_a895a3f2_3a86_11eb_8389_0242ac1c0002row12_col11{\n",
              "            background-color:  #ebe6f2;\n",
              "            color:  #000000;\n",
              "        }#T_a895a3f2_3a86_11eb_8389_0242ac1c0002row1_col10,#T_a895a3f2_3a86_11eb_8389_0242ac1c0002row10_col14{\n",
              "            background-color:  #b7c5df;\n",
              "            color:  #000000;\n",
              "        }#T_a895a3f2_3a86_11eb_8389_0242ac1c0002row1_col12,#T_a895a3f2_3a86_11eb_8389_0242ac1c0002row8_col1{\n",
              "            background-color:  #f2ecf5;\n",
              "            color:  #000000;\n",
              "        }#T_a895a3f2_3a86_11eb_8389_0242ac1c0002row1_col13,#T_a895a3f2_3a86_11eb_8389_0242ac1c0002row1_col15,#T_a895a3f2_3a86_11eb_8389_0242ac1c0002row7_col12,#T_a895a3f2_3a86_11eb_8389_0242ac1c0002row10_col0{\n",
              "            background-color:  #f4edf6;\n",
              "            color:  #000000;\n",
              "        }#T_a895a3f2_3a86_11eb_8389_0242ac1c0002row1_col14{\n",
              "            background-color:  #fbf3f9;\n",
              "            color:  #000000;\n",
              "        }#T_a895a3f2_3a86_11eb_8389_0242ac1c0002row1_col16,#T_a895a3f2_3a86_11eb_8389_0242ac1c0002row6_col7,#T_a895a3f2_3a86_11eb_8389_0242ac1c0002row7_col6,#T_a895a3f2_3a86_11eb_8389_0242ac1c0002row8_col4{\n",
              "            background-color:  #b8c6e0;\n",
              "            color:  #000000;\n",
              "        }#T_a895a3f2_3a86_11eb_8389_0242ac1c0002row1_col17,#T_a895a3f2_3a86_11eb_8389_0242ac1c0002row4_col2{\n",
              "            background-color:  #bcc7e1;\n",
              "            color:  #000000;\n",
              "        }#T_a895a3f2_3a86_11eb_8389_0242ac1c0002row2_col0,#T_a895a3f2_3a86_11eb_8389_0242ac1c0002row5_col0,#T_a895a3f2_3a86_11eb_8389_0242ac1c0002row12_col8,#T_a895a3f2_3a86_11eb_8389_0242ac1c0002row13_col11{\n",
              "            background-color:  #e7e3f0;\n",
              "            color:  #000000;\n",
              "        }#T_a895a3f2_3a86_11eb_8389_0242ac1c0002row2_col1,#T_a895a3f2_3a86_11eb_8389_0242ac1c0002row5_col11{\n",
              "            background-color:  #f1ebf5;\n",
              "            color:  #000000;\n",
              "        }#T_a895a3f2_3a86_11eb_8389_0242ac1c0002row2_col3,#T_a895a3f2_3a86_11eb_8389_0242ac1c0002row5_col17,#T_a895a3f2_3a86_11eb_8389_0242ac1c0002row10_col5{\n",
              "            background-color:  #2d8abd;\n",
              "            color:  #000000;\n",
              "        }#T_a895a3f2_3a86_11eb_8389_0242ac1c0002row2_col5,#T_a895a3f2_3a86_11eb_8389_0242ac1c0002row4_col3{\n",
              "            background-color:  #7eadd1;\n",
              "            color:  #000000;\n",
              "        }#T_a895a3f2_3a86_11eb_8389_0242ac1c0002row2_col6,#T_a895a3f2_3a86_11eb_8389_0242ac1c0002row12_col3,#T_a895a3f2_3a86_11eb_8389_0242ac1c0002row12_col17,#T_a895a3f2_3a86_11eb_8389_0242ac1c0002row13_col3,#T_a895a3f2_3a86_11eb_8389_0242ac1c0002row13_col17,#T_a895a3f2_3a86_11eb_8389_0242ac1c0002row16_col9{\n",
              "            background-color:  #a9bfdc;\n",
              "            color:  #000000;\n",
              "        }#T_a895a3f2_3a86_11eb_8389_0242ac1c0002row2_col7,#T_a895a3f2_3a86_11eb_8389_0242ac1c0002row17_col9{\n",
              "            background-color:  #d1d2e6;\n",
              "            color:  #000000;\n",
              "        }#T_a895a3f2_3a86_11eb_8389_0242ac1c0002row2_col8{\n",
              "            background-color:  #cacee5;\n",
              "            color:  #000000;\n",
              "        }#T_a895a3f2_3a86_11eb_8389_0242ac1c0002row2_col9,#T_a895a3f2_3a86_11eb_8389_0242ac1c0002row6_col3,#T_a895a3f2_3a86_11eb_8389_0242ac1c0002row11_col17{\n",
              "            background-color:  #71a8ce;\n",
              "            color:  #000000;\n",
              "        }#T_a895a3f2_3a86_11eb_8389_0242ac1c0002row2_col10{\n",
              "            background-color:  #84b0d3;\n",
              "            color:  #000000;\n",
              "        }#T_a895a3f2_3a86_11eb_8389_0242ac1c0002row2_col11,#T_a895a3f2_3a86_11eb_8389_0242ac1c0002row2_col14,#T_a895a3f2_3a86_11eb_8389_0242ac1c0002row5_col1,#T_a895a3f2_3a86_11eb_8389_0242ac1c0002row7_col11,#T_a895a3f2_3a86_11eb_8389_0242ac1c0002row11_col6,#T_a895a3f2_3a86_11eb_8389_0242ac1c0002row12_col15,#T_a895a3f2_3a86_11eb_8389_0242ac1c0002row13_col2,#T_a895a3f2_3a86_11eb_8389_0242ac1c0002row15_col13{\n",
              "            background-color:  #d9d8ea;\n",
              "            color:  #000000;\n",
              "        }#T_a895a3f2_3a86_11eb_8389_0242ac1c0002row2_col12,#T_a895a3f2_3a86_11eb_8389_0242ac1c0002row2_col13,#T_a895a3f2_3a86_11eb_8389_0242ac1c0002row4_col12,#T_a895a3f2_3a86_11eb_8389_0242ac1c0002row4_col13{\n",
              "            background-color:  #ede8f3;\n",
              "            color:  #000000;\n",
              "        }#T_a895a3f2_3a86_11eb_8389_0242ac1c0002row2_col15,#T_a895a3f2_3a86_11eb_8389_0242ac1c0002row7_col9{\n",
              "            background-color:  #c9cee4;\n",
              "            color:  #000000;\n",
              "        }#T_a895a3f2_3a86_11eb_8389_0242ac1c0002row2_col16{\n",
              "            background-color:  #509ac6;\n",
              "            color:  #000000;\n",
              "        }#T_a895a3f2_3a86_11eb_8389_0242ac1c0002row2_col17,#T_a895a3f2_3a86_11eb_8389_0242ac1c0002row15_col3{\n",
              "            background-color:  #79abd0;\n",
              "            color:  #000000;\n",
              "        }#T_a895a3f2_3a86_11eb_8389_0242ac1c0002row3_col2{\n",
              "            background-color:  #4897c4;\n",
              "            color:  #000000;\n",
              "        }#T_a895a3f2_3a86_11eb_8389_0242ac1c0002row3_col4,#T_a895a3f2_3a86_11eb_8389_0242ac1c0002row8_col6,#T_a895a3f2_3a86_11eb_8389_0242ac1c0002row8_col15,#T_a895a3f2_3a86_11eb_8389_0242ac1c0002row14_col8{\n",
              "            background-color:  #b3c3de;\n",
              "            color:  #000000;\n",
              "        }#T_a895a3f2_3a86_11eb_8389_0242ac1c0002row3_col5{\n",
              "            background-color:  #2c89bd;\n",
              "            color:  #000000;\n",
              "        }#T_a895a3f2_3a86_11eb_8389_0242ac1c0002row3_col6,#T_a895a3f2_3a86_11eb_8389_0242ac1c0002row4_col17,#T_a895a3f2_3a86_11eb_8389_0242ac1c0002row5_col15,#T_a895a3f2_3a86_11eb_8389_0242ac1c0002row9_col17{\n",
              "            background-color:  #9fbad9;\n",
              "            color:  #000000;\n",
              "        }#T_a895a3f2_3a86_11eb_8389_0242ac1c0002row3_col7,#T_a895a3f2_3a86_11eb_8389_0242ac1c0002row4_col8,#T_a895a3f2_3a86_11eb_8389_0242ac1c0002row13_col10,#T_a895a3f2_3a86_11eb_8389_0242ac1c0002row17_col8{\n",
              "            background-color:  #b1c2de;\n",
              "            color:  #000000;\n",
              "        }#T_a895a3f2_3a86_11eb_8389_0242ac1c0002row3_col8{\n",
              "            background-color:  #a4bcda;\n",
              "            color:  #000000;\n",
              "        }#T_a895a3f2_3a86_11eb_8389_0242ac1c0002row3_col9,#T_a895a3f2_3a86_11eb_8389_0242ac1c0002row6_col14{\n",
              "            background-color:  #c2cbe2;\n",
              "            color:  #000000;\n",
              "        }#T_a895a3f2_3a86_11eb_8389_0242ac1c0002row3_col10{\n",
              "            background-color:  #4094c3;\n",
              "            color:  #000000;\n",
              "        }#T_a895a3f2_3a86_11eb_8389_0242ac1c0002row3_col11,#T_a895a3f2_3a86_11eb_8389_0242ac1c0002row13_col8,#T_a895a3f2_3a86_11eb_8389_0242ac1c0002row14_col9,#T_a895a3f2_3a86_11eb_8389_0242ac1c0002row16_col1{\n",
              "            background-color:  #e0deed;\n",
              "            color:  #000000;\n",
              "        }#T_a895a3f2_3a86_11eb_8389_0242ac1c0002row3_col12,#T_a895a3f2_3a86_11eb_8389_0242ac1c0002row13_col7,#T_a895a3f2_3a86_11eb_8389_0242ac1c0002row14_col11{\n",
              "            background-color:  #e4e1ef;\n",
              "            color:  #000000;\n",
              "        }#T_a895a3f2_3a86_11eb_8389_0242ac1c0002row3_col13,#T_a895a3f2_3a86_11eb_8389_0242ac1c0002row5_col12,#T_a895a3f2_3a86_11eb_8389_0242ac1c0002row5_col13,#T_a895a3f2_3a86_11eb_8389_0242ac1c0002row11_col14{\n",
              "            background-color:  #e3e0ee;\n",
              "            color:  #000000;\n",
              "        }#T_a895a3f2_3a86_11eb_8389_0242ac1c0002row3_col14{\n",
              "            background-color:  #cccfe5;\n",
              "            color:  #000000;\n",
              "        }#T_a895a3f2_3a86_11eb_8389_0242ac1c0002row3_col15{\n",
              "            background-color:  #adc1dd;\n",
              "            color:  #000000;\n",
              "        }#T_a895a3f2_3a86_11eb_8389_0242ac1c0002row3_col16{\n",
              "            background-color:  #0569a4;\n",
              "            color:  #f1f1f1;\n",
              "        }#T_a895a3f2_3a86_11eb_8389_0242ac1c0002row3_col17{\n",
              "            background-color:  #056ead;\n",
              "            color:  #f1f1f1;\n",
              "        }#T_a895a3f2_3a86_11eb_8389_0242ac1c0002row4_col0,#T_a895a3f2_3a86_11eb_8389_0242ac1c0002row15_col0,#T_a895a3f2_3a86_11eb_8389_0242ac1c0002row15_col9{\n",
              "            background-color:  #dad9ea;\n",
              "            color:  #000000;\n",
              "        }#T_a895a3f2_3a86_11eb_8389_0242ac1c0002row4_col1,#T_a895a3f2_3a86_11eb_8389_0242ac1c0002row6_col1,#T_a895a3f2_3a86_11eb_8389_0242ac1c0002row7_col1,#T_a895a3f2_3a86_11eb_8389_0242ac1c0002row9_col12,#T_a895a3f2_3a86_11eb_8389_0242ac1c0002row12_col1{\n",
              "            background-color:  #f0eaf4;\n",
              "            color:  #000000;\n",
              "        }#T_a895a3f2_3a86_11eb_8389_0242ac1c0002row4_col5,#T_a895a3f2_3a86_11eb_8389_0242ac1c0002row16_col4{\n",
              "            background-color:  #81aed2;\n",
              "            color:  #000000;\n",
              "        }#T_a895a3f2_3a86_11eb_8389_0242ac1c0002row4_col6,#T_a895a3f2_3a86_11eb_8389_0242ac1c0002row6_col4{\n",
              "            background-color:  #02395a;\n",
              "            color:  #f1f1f1;\n",
              "        }#T_a895a3f2_3a86_11eb_8389_0242ac1c0002row4_col7,#T_a895a3f2_3a86_11eb_8389_0242ac1c0002row14_col6,#T_a895a3f2_3a86_11eb_8389_0242ac1c0002row15_col7{\n",
              "            background-color:  #bbc7e0;\n",
              "            color:  #000000;\n",
              "        }#T_a895a3f2_3a86_11eb_8389_0242ac1c0002row4_col9,#T_a895a3f2_3a86_11eb_8389_0242ac1c0002row9_col0,#T_a895a3f2_3a86_11eb_8389_0242ac1c0002row12_col2{\n",
              "            background-color:  #d8d7e9;\n",
              "            color:  #000000;\n",
              "        }#T_a895a3f2_3a86_11eb_8389_0242ac1c0002row4_col10{\n",
              "            background-color:  #7bacd1;\n",
              "            color:  #000000;\n",
              "        }#T_a895a3f2_3a86_11eb_8389_0242ac1c0002row4_col14,#T_a895a3f2_3a86_11eb_8389_0242ac1c0002row5_col9,#T_a895a3f2_3a86_11eb_8389_0242ac1c0002row7_col2,#T_a895a3f2_3a86_11eb_8389_0242ac1c0002row16_col11,#T_a895a3f2_3a86_11eb_8389_0242ac1c0002row17_col15{\n",
              "            background-color:  #c4cbe3;\n",
              "            color:  #000000;\n",
              "        }#T_a895a3f2_3a86_11eb_8389_0242ac1c0002row4_col15{\n",
              "            background-color:  #9cb9d9;\n",
              "            color:  #000000;\n",
              "        }#T_a895a3f2_3a86_11eb_8389_0242ac1c0002row4_col16,#T_a895a3f2_3a86_11eb_8389_0242ac1c0002row9_col2{\n",
              "            background-color:  #5c9fc9;\n",
              "            color:  #000000;\n",
              "        }#T_a895a3f2_3a86_11eb_8389_0242ac1c0002row5_col2,#T_a895a3f2_3a86_11eb_8389_0242ac1c0002row7_col3,#T_a895a3f2_3a86_11eb_8389_0242ac1c0002row9_col16{\n",
              "            background-color:  #80aed2;\n",
              "            color:  #000000;\n",
              "        }#T_a895a3f2_3a86_11eb_8389_0242ac1c0002row5_col3{\n",
              "            background-color:  #187cb6;\n",
              "            color:  #000000;\n",
              "        }#T_a895a3f2_3a86_11eb_8389_0242ac1c0002row5_col4,#T_a895a3f2_3a86_11eb_8389_0242ac1c0002row10_col6,#T_a895a3f2_3a86_11eb_8389_0242ac1c0002row14_col3{\n",
              "            background-color:  #93b5d6;\n",
              "            color:  #000000;\n",
              "        }#T_a895a3f2_3a86_11eb_8389_0242ac1c0002row5_col6{\n",
              "            background-color:  #83afd3;\n",
              "            color:  #000000;\n",
              "        }#T_a895a3f2_3a86_11eb_8389_0242ac1c0002row5_col7{\n",
              "            background-color:  #a7bddb;\n",
              "            color:  #000000;\n",
              "        }#T_a895a3f2_3a86_11eb_8389_0242ac1c0002row5_col8,#T_a895a3f2_3a86_11eb_8389_0242ac1c0002row6_col17,#T_a895a3f2_3a86_11eb_8389_0242ac1c0002row10_col2,#T_a895a3f2_3a86_11eb_8389_0242ac1c0002row15_col17{\n",
              "            background-color:  #97b7d7;\n",
              "            color:  #000000;\n",
              "        }#T_a895a3f2_3a86_11eb_8389_0242ac1c0002row5_col10{\n",
              "            background-color:  #2383ba;\n",
              "            color:  #000000;\n",
              "        }#T_a895a3f2_3a86_11eb_8389_0242ac1c0002row5_col16{\n",
              "            background-color:  #034b76;\n",
              "            color:  #f1f1f1;\n",
              "        }#T_a895a3f2_3a86_11eb_8389_0242ac1c0002row6_col0,#T_a895a3f2_3a86_11eb_8389_0242ac1c0002row7_col0,#T_a895a3f2_3a86_11eb_8389_0242ac1c0002row11_col15{\n",
              "            background-color:  #dddbec;\n",
              "            color:  #000000;\n",
              "        }#T_a895a3f2_3a86_11eb_8389_0242ac1c0002row6_col2,#T_a895a3f2_3a86_11eb_8389_0242ac1c0002row10_col4,#T_a895a3f2_3a86_11eb_8389_0242ac1c0002row15_col4,#T_a895a3f2_3a86_11eb_8389_0242ac1c0002row16_col14{\n",
              "            background-color:  #9ebad9;\n",
              "            color:  #000000;\n",
              "        }#T_a895a3f2_3a86_11eb_8389_0242ac1c0002row6_col5,#T_a895a3f2_3a86_11eb_8389_0242ac1c0002row8_col3{\n",
              "            background-color:  #78abd0;\n",
              "            color:  #000000;\n",
              "        }#T_a895a3f2_3a86_11eb_8389_0242ac1c0002row6_col8,#T_a895a3f2_3a86_11eb_8389_0242ac1c0002row9_col5{\n",
              "            background-color:  #afc1dd;\n",
              "            color:  #000000;\n",
              "        }#T_a895a3f2_3a86_11eb_8389_0242ac1c0002row6_col9,#T_a895a3f2_3a86_11eb_8389_0242ac1c0002row13_col5{\n",
              "            background-color:  #ced0e6;\n",
              "            color:  #000000;\n",
              "        }#T_a895a3f2_3a86_11eb_8389_0242ac1c0002row6_col10,#T_a895a3f2_3a86_11eb_8389_0242ac1c0002row14_col16{\n",
              "            background-color:  #75a9cf;\n",
              "            color:  #000000;\n",
              "        }#T_a895a3f2_3a86_11eb_8389_0242ac1c0002row6_col11,#T_a895a3f2_3a86_11eb_8389_0242ac1c0002row8_col0,#T_a895a3f2_3a86_11eb_8389_0242ac1c0002row14_col13{\n",
              "            background-color:  #e0dded;\n",
              "            color:  #000000;\n",
              "        }#T_a895a3f2_3a86_11eb_8389_0242ac1c0002row6_col15,#T_a895a3f2_3a86_11eb_8389_0242ac1c0002row7_col5,#T_a895a3f2_3a86_11eb_8389_0242ac1c0002row11_col16{\n",
              "            background-color:  #99b8d8;\n",
              "            color:  #000000;\n",
              "        }#T_a895a3f2_3a86_11eb_8389_0242ac1c0002row6_col16,#T_a895a3f2_3a86_11eb_8389_0242ac1c0002row17_col10{\n",
              "            background-color:  #4e9ac6;\n",
              "            color:  #000000;\n",
              "        }#T_a895a3f2_3a86_11eb_8389_0242ac1c0002row7_col4,#T_a895a3f2_3a86_11eb_8389_0242ac1c0002row8_col9,#T_a895a3f2_3a86_11eb_8389_0242ac1c0002row11_col10,#T_a895a3f2_3a86_11eb_8389_0242ac1c0002row17_col7{\n",
              "            background-color:  #bfc9e1;\n",
              "            color:  #000000;\n",
              "        }#T_a895a3f2_3a86_11eb_8389_0242ac1c0002row7_col8,#T_a895a3f2_3a86_11eb_8389_0242ac1c0002row8_col7,#T_a895a3f2_3a86_11eb_8389_0242ac1c0002row16_col5{\n",
              "            background-color:  #034d79;\n",
              "            color:  #f1f1f1;\n",
              "        }#T_a895a3f2_3a86_11eb_8389_0242ac1c0002row7_col10,#T_a895a3f2_3a86_11eb_8389_0242ac1c0002row10_col8{\n",
              "            background-color:  #4c99c5;\n",
              "            color:  #000000;\n",
              "        }#T_a895a3f2_3a86_11eb_8389_0242ac1c0002row7_col13,#T_a895a3f2_3a86_11eb_8389_0242ac1c0002row11_col12{\n",
              "            background-color:  #eee9f3;\n",
              "            color:  #000000;\n",
              "        }#T_a895a3f2_3a86_11eb_8389_0242ac1c0002row7_col15,#T_a895a3f2_3a86_11eb_8389_0242ac1c0002row8_col14,#T_a895a3f2_3a86_11eb_8389_0242ac1c0002row14_col7{\n",
              "            background-color:  #bdc8e1;\n",
              "            color:  #000000;\n",
              "        }#T_a895a3f2_3a86_11eb_8389_0242ac1c0002row7_col16,#T_a895a3f2_3a86_11eb_8389_0242ac1c0002row8_col10{\n",
              "            background-color:  #358fc0;\n",
              "            color:  #000000;\n",
              "        }#T_a895a3f2_3a86_11eb_8389_0242ac1c0002row7_col17,#T_a895a3f2_3a86_11eb_8389_0242ac1c0002row10_col15,#T_a895a3f2_3a86_11eb_8389_0242ac1c0002row15_col6{\n",
              "            background-color:  #96b6d7;\n",
              "            color:  #000000;\n",
              "        }#T_a895a3f2_3a86_11eb_8389_0242ac1c0002row8_col2,#T_a895a3f2_3a86_11eb_8389_0242ac1c0002row9_col7{\n",
              "            background-color:  #c1cae2;\n",
              "            color:  #000000;\n",
              "        }#T_a895a3f2_3a86_11eb_8389_0242ac1c0002row8_col5,#T_a895a3f2_3a86_11eb_8389_0242ac1c0002row15_col5{\n",
              "            background-color:  #8eb3d5;\n",
              "            color:  #000000;\n",
              "        }#T_a895a3f2_3a86_11eb_8389_0242ac1c0002row8_col11,#T_a895a3f2_3a86_11eb_8389_0242ac1c0002row16_col13{\n",
              "            background-color:  #d4d4e8;\n",
              "            color:  #000000;\n",
              "        }#T_a895a3f2_3a86_11eb_8389_0242ac1c0002row8_col12{\n",
              "            background-color:  #f3edf5;\n",
              "            color:  #000000;\n",
              "        }#T_a895a3f2_3a86_11eb_8389_0242ac1c0002row8_col13{\n",
              "            background-color:  #eee8f3;\n",
              "            color:  #000000;\n",
              "        }#T_a895a3f2_3a86_11eb_8389_0242ac1c0002row8_col16{\n",
              "            background-color:  #2182b9;\n",
              "            color:  #000000;\n",
              "        }#T_a895a3f2_3a86_11eb_8389_0242ac1c0002row8_col17{\n",
              "            background-color:  #8cb3d5;\n",
              "            color:  #000000;\n",
              "        }#T_a895a3f2_3a86_11eb_8389_0242ac1c0002row9_col1{\n",
              "            background-color:  #faf2f8;\n",
              "            color:  #000000;\n",
              "        }#T_a895a3f2_3a86_11eb_8389_0242ac1c0002row9_col3{\n",
              "            background-color:  #8bb2d4;\n",
              "            color:  #000000;\n",
              "        }#T_a895a3f2_3a86_11eb_8389_0242ac1c0002row9_col4{\n",
              "            background-color:  #d5d5e8;\n",
              "            color:  #000000;\n",
              "        }#T_a895a3f2_3a86_11eb_8389_0242ac1c0002row9_col6{\n",
              "            background-color:  #c6cce3;\n",
              "            color:  #000000;\n",
              "        }#T_a895a3f2_3a86_11eb_8389_0242ac1c0002row9_col8,#T_a895a3f2_3a86_11eb_8389_0242ac1c0002row12_col10{\n",
              "            background-color:  #b4c4df;\n",
              "            color:  #000000;\n",
              "        }#T_a895a3f2_3a86_11eb_8389_0242ac1c0002row9_col10{\n",
              "            background-color:  #62a2cb;\n",
              "            color:  #000000;\n",
              "        }#T_a895a3f2_3a86_11eb_8389_0242ac1c0002row9_col13{\n",
              "            background-color:  #efe9f3;\n",
              "            color:  #000000;\n",
              "        }#T_a895a3f2_3a86_11eb_8389_0242ac1c0002row9_col15,#T_a895a3f2_3a86_11eb_8389_0242ac1c0002row14_col0,#T_a895a3f2_3a86_11eb_8389_0242ac1c0002row16_col12{\n",
              "            background-color:  #d7d6e9;\n",
              "            color:  #000000;\n",
              "        }#T_a895a3f2_3a86_11eb_8389_0242ac1c0002row10_col1,#T_a895a3f2_3a86_11eb_8389_0242ac1c0002row17_col13{\n",
              "            background-color:  #dcdaeb;\n",
              "            color:  #000000;\n",
              "        }#T_a895a3f2_3a86_11eb_8389_0242ac1c0002row10_col3{\n",
              "            background-color:  #328dbf;\n",
              "            color:  #000000;\n",
              "        }#T_a895a3f2_3a86_11eb_8389_0242ac1c0002row10_col7{\n",
              "            background-color:  #69a5cc;\n",
              "            color:  #000000;\n",
              "        }#T_a895a3f2_3a86_11eb_8389_0242ac1c0002row10_col9{\n",
              "            background-color:  #86b0d3;\n",
              "            color:  #000000;\n",
              "        }#T_a895a3f2_3a86_11eb_8389_0242ac1c0002row10_col11{\n",
              "            background-color:  #e2dfee;\n",
              "            color:  #000000;\n",
              "        }#T_a895a3f2_3a86_11eb_8389_0242ac1c0002row10_col12{\n",
              "            background-color:  #dfddec;\n",
              "            color:  #000000;\n",
              "        }#T_a895a3f2_3a86_11eb_8389_0242ac1c0002row10_col13,#T_a895a3f2_3a86_11eb_8389_0242ac1c0002row13_col14{\n",
              "            background-color:  #dbdaeb;\n",
              "            color:  #000000;\n",
              "        }#T_a895a3f2_3a86_11eb_8389_0242ac1c0002row10_col16,#T_a895a3f2_3a86_11eb_8389_0242ac1c0002row16_col10{\n",
              "            background-color:  #04649d;\n",
              "            color:  #f1f1f1;\n",
              "        }#T_a895a3f2_3a86_11eb_8389_0242ac1c0002row10_col17{\n",
              "            background-color:  #4697c4;\n",
              "            color:  #000000;\n",
              "        }#T_a895a3f2_3a86_11eb_8389_0242ac1c0002row11_col0{\n",
              "            background-color:  #d6d6e9;\n",
              "            color:  #000000;\n",
              "        }#T_a895a3f2_3a86_11eb_8389_0242ac1c0002row11_col3{\n",
              "            background-color:  #abbfdc;\n",
              "            color:  #000000;\n",
              "        }#T_a895a3f2_3a86_11eb_8389_0242ac1c0002row11_col4,#T_a895a3f2_3a86_11eb_8389_0242ac1c0002row17_col12{\n",
              "            background-color:  #dedcec;\n",
              "            color:  #000000;\n",
              "        }#T_a895a3f2_3a86_11eb_8389_0242ac1c0002row11_col7,#T_a895a3f2_3a86_11eb_8389_0242ac1c0002row12_col0,#T_a895a3f2_3a86_11eb_8389_0242ac1c0002row13_col0,#T_a895a3f2_3a86_11eb_8389_0242ac1c0002row17_col14{\n",
              "            background-color:  #d2d3e7;\n",
              "            color:  #000000;\n",
              "        }#T_a895a3f2_3a86_11eb_8389_0242ac1c0002row11_col8,#T_a895a3f2_3a86_11eb_8389_0242ac1c0002row14_col2{\n",
              "            background-color:  #c8cde4;\n",
              "            color:  #000000;\n",
              "        }#T_a895a3f2_3a86_11eb_8389_0242ac1c0002row12_col4,#T_a895a3f2_3a86_11eb_8389_0242ac1c0002row12_col14{\n",
              "            background-color:  #e5e1ef;\n",
              "            color:  #000000;\n",
              "        }#T_a895a3f2_3a86_11eb_8389_0242ac1c0002row12_col9{\n",
              "            background-color:  #ece7f2;\n",
              "            color:  #000000;\n",
              "        }#T_a895a3f2_3a86_11eb_8389_0242ac1c0002row12_col13,#T_a895a3f2_3a86_11eb_8389_0242ac1c0002row13_col12{\n",
              "            background-color:  #023c5f;\n",
              "            color:  #f1f1f1;\n",
              "        }#T_a895a3f2_3a86_11eb_8389_0242ac1c0002row12_col16{\n",
              "            background-color:  #a8bedc;\n",
              "            color:  #000000;\n",
              "        }#T_a895a3f2_3a86_11eb_8389_0242ac1c0002row13_col1{\n",
              "            background-color:  #f1ebf4;\n",
              "            color:  #000000;\n",
              "        }#T_a895a3f2_3a86_11eb_8389_0242ac1c0002row13_col4{\n",
              "            background-color:  #e6e2ef;\n",
              "            color:  #000000;\n",
              "        }#T_a895a3f2_3a86_11eb_8389_0242ac1c0002row13_col9,#T_a895a3f2_3a86_11eb_8389_0242ac1c0002row14_col12{\n",
              "            background-color:  #eae6f1;\n",
              "            color:  #000000;\n",
              "        }#T_a895a3f2_3a86_11eb_8389_0242ac1c0002row13_col15{\n",
              "            background-color:  #d2d2e7;\n",
              "            color:  #000000;\n",
              "        }#T_a895a3f2_3a86_11eb_8389_0242ac1c0002row13_col16{\n",
              "            background-color:  #a5bddb;\n",
              "            color:  #000000;\n",
              "        }#T_a895a3f2_3a86_11eb_8389_0242ac1c0002row14_col1{\n",
              "            background-color:  #fbf4f9;\n",
              "            color:  #000000;\n",
              "        }#T_a895a3f2_3a86_11eb_8389_0242ac1c0002row14_col4,#T_a895a3f2_3a86_11eb_8389_0242ac1c0002row17_col6{\n",
              "            background-color:  #c0c9e2;\n",
              "            color:  #000000;\n",
              "        }#T_a895a3f2_3a86_11eb_8389_0242ac1c0002row14_col5{\n",
              "            background-color:  #b0c2de;\n",
              "            color:  #000000;\n",
              "        }#T_a895a3f2_3a86_11eb_8389_0242ac1c0002row14_col10{\n",
              "            background-color:  #91b5d6;\n",
              "            color:  #000000;\n",
              "        }#T_a895a3f2_3a86_11eb_8389_0242ac1c0002row14_col15{\n",
              "            background-color:  #04598c;\n",
              "            color:  #f1f1f1;\n",
              "        }#T_a895a3f2_3a86_11eb_8389_0242ac1c0002row14_col17,#T_a895a3f2_3a86_11eb_8389_0242ac1c0002row17_col11{\n",
              "            background-color:  #a2bcda;\n",
              "            color:  #000000;\n",
              "        }#T_a895a3f2_3a86_11eb_8389_0242ac1c0002row15_col2{\n",
              "            background-color:  #b9c6e0;\n",
              "            color:  #000000;\n",
              "        }#T_a895a3f2_3a86_11eb_8389_0242ac1c0002row15_col10{\n",
              "            background-color:  #76aad0;\n",
              "            color:  #000000;\n",
              "        }#T_a895a3f2_3a86_11eb_8389_0242ac1c0002row15_col14{\n",
              "            background-color:  #045a8d;\n",
              "            color:  #f1f1f1;\n",
              "        }#T_a895a3f2_3a86_11eb_8389_0242ac1c0002row15_col16{\n",
              "            background-color:  #4a98c5;\n",
              "            color:  #000000;\n",
              "        }#T_a895a3f2_3a86_11eb_8389_0242ac1c0002row16_col0{\n",
              "            background-color:  #f6eff7;\n",
              "            color:  #000000;\n",
              "        }#T_a895a3f2_3a86_11eb_8389_0242ac1c0002row16_col2{\n",
              "            background-color:  #65a3cb;\n",
              "            color:  #000000;\n",
              "        }#T_a895a3f2_3a86_11eb_8389_0242ac1c0002row16_col3{\n",
              "            background-color:  #0567a1;\n",
              "            color:  #f1f1f1;\n",
              "        }#T_a895a3f2_3a86_11eb_8389_0242ac1c0002row16_col6,#T_a895a3f2_3a86_11eb_8389_0242ac1c0002row16_col15{\n",
              "            background-color:  #6fa7ce;\n",
              "            color:  #000000;\n",
              "        }#T_a895a3f2_3a86_11eb_8389_0242ac1c0002row16_col7{\n",
              "            background-color:  #529bc7;\n",
              "            color:  #000000;\n",
              "        }#T_a895a3f2_3a86_11eb_8389_0242ac1c0002row16_col8{\n",
              "            background-color:  #348ebf;\n",
              "            color:  #000000;\n",
              "        }#T_a895a3f2_3a86_11eb_8389_0242ac1c0002row16_col17{\n",
              "            background-color:  #0c74b2;\n",
              "            color:  #f1f1f1;\n",
              "        }#T_a895a3f2_3a86_11eb_8389_0242ac1c0002row17_col0{\n",
              "            background-color:  #faf3f9;\n",
              "            color:  #000000;\n",
              "        }#T_a895a3f2_3a86_11eb_8389_0242ac1c0002row17_col2{\n",
              "            background-color:  #94b6d7;\n",
              "            color:  #000000;\n",
              "        }#T_a895a3f2_3a86_11eb_8389_0242ac1c0002row17_col3{\n",
              "            background-color:  #056dab;\n",
              "            color:  #f1f1f1;\n",
              "        }#T_a895a3f2_3a86_11eb_8389_0242ac1c0002row17_col5{\n",
              "            background-color:  #4295c3;\n",
              "            color:  #000000;\n",
              "        }#T_a895a3f2_3a86_11eb_8389_0242ac1c0002row17_col16{\n",
              "            background-color:  #0f76b3;\n",
              "            color:  #f1f1f1;\n",
              "        }</style><table id=\"T_a895a3f2_3a86_11eb_8389_0242ac1c0002\" ><thead>    <tr>        <th class=\"blank level0\" ></th>        <th class=\"col_heading level0 col0\" >Sector_score</th>        <th class=\"col_heading level0 col1\" >LOCATION_ID</th>        <th class=\"col_heading level0 col2\" >PARA_A</th>        <th class=\"col_heading level0 col3\" >SCORE_A</th>        <th class=\"col_heading level0 col4\" >PARA_B</th>        <th class=\"col_heading level0 col5\" >SCORE_B</th>        <th class=\"col_heading level0 col6\" >TOTAL</th>        <th class=\"col_heading level0 col7\" >numbers</th>        <th class=\"col_heading level0 col8\" >Marks</th>        <th class=\"col_heading level0 col9\" >Money_Value</th>        <th class=\"col_heading level0 col10\" >MONEY_Marks</th>        <th class=\"col_heading level0 col11\" >District</th>        <th class=\"col_heading level0 col12\" >Loss</th>        <th class=\"col_heading level0 col13\" >LOSS_SCORE</th>        <th class=\"col_heading level0 col14\" >History</th>        <th class=\"col_heading level0 col15\" >History_score</th>        <th class=\"col_heading level0 col16\" >Score</th>        <th class=\"col_heading level0 col17\" >Risk</th>    </tr></thead><tbody>\n",
              "                <tr>\n",
              "                        <th id=\"T_a895a3f2_3a86_11eb_8389_0242ac1c0002level0_row0\" class=\"row_heading level0 row0\" >Sector_score</th>\n",
              "                        <td id=\"T_a895a3f2_3a86_11eb_8389_0242ac1c0002row0_col0\" class=\"data row0 col0\" >1.00</td>\n",
              "                        <td id=\"T_a895a3f2_3a86_11eb_8389_0242ac1c0002row0_col1\" class=\"data row0 col1\" >-0.06</td>\n",
              "                        <td id=\"T_a895a3f2_3a86_11eb_8389_0242ac1c0002row0_col2\" class=\"data row0 col2\" >-0.22</td>\n",
              "                        <td id=\"T_a895a3f2_3a86_11eb_8389_0242ac1c0002row0_col3\" class=\"data row0 col3\" >-0.43</td>\n",
              "                        <td id=\"T_a895a3f2_3a86_11eb_8389_0242ac1c0002row0_col4\" class=\"data row0 col4\" >-0.13</td>\n",
              "                        <td id=\"T_a895a3f2_3a86_11eb_8389_0242ac1c0002row0_col5\" class=\"data row0 col5\" >-0.22</td>\n",
              "                        <td id=\"T_a895a3f2_3a86_11eb_8389_0242ac1c0002row0_col6\" class=\"data row0 col6\" >-0.15</td>\n",
              "                        <td id=\"T_a895a3f2_3a86_11eb_8389_0242ac1c0002row0_col7\" class=\"data row0 col7\" >-0.15</td>\n",
              "                        <td id=\"T_a895a3f2_3a86_11eb_8389_0242ac1c0002row0_col8\" class=\"data row0 col8\" >-0.17</td>\n",
              "                        <td id=\"T_a895a3f2_3a86_11eb_8389_0242ac1c0002row0_col9\" class=\"data row0 col9\" >-0.12</td>\n",
              "                        <td id=\"T_a895a3f2_3a86_11eb_8389_0242ac1c0002row0_col10\" class=\"data row0 col10\" >-0.32</td>\n",
              "                        <td id=\"T_a895a3f2_3a86_11eb_8389_0242ac1c0002row0_col11\" class=\"data row0 col11\" >-0.11</td>\n",
              "                        <td id=\"T_a895a3f2_3a86_11eb_8389_0242ac1c0002row0_col12\" class=\"data row0 col12\" >-0.08</td>\n",
              "                        <td id=\"T_a895a3f2_3a86_11eb_8389_0242ac1c0002row0_col13\" class=\"data row0 col13\" >-0.09</td>\n",
              "                        <td id=\"T_a895a3f2_3a86_11eb_8389_0242ac1c0002row0_col14\" class=\"data row0 col14\" >-0.12</td>\n",
              "                        <td id=\"T_a895a3f2_3a86_11eb_8389_0242ac1c0002row0_col15\" class=\"data row0 col15\" >-0.14</td>\n",
              "                        <td id=\"T_a895a3f2_3a86_11eb_8389_0242ac1c0002row0_col16\" class=\"data row0 col16\" >-0.34</td>\n",
              "                        <td id=\"T_a895a3f2_3a86_11eb_8389_0242ac1c0002row0_col17\" class=\"data row0 col17\" >-0.38</td>\n",
              "            </tr>\n",
              "            <tr>\n",
              "                        <th id=\"T_a895a3f2_3a86_11eb_8389_0242ac1c0002level0_row1\" class=\"row_heading level0 row1\" >LOCATION_ID</th>\n",
              "                        <td id=\"T_a895a3f2_3a86_11eb_8389_0242ac1c0002row1_col0\" class=\"data row1 col0\" >-0.06</td>\n",
              "                        <td id=\"T_a895a3f2_3a86_11eb_8389_0242ac1c0002row1_col1\" class=\"data row1 col1\" >1.00</td>\n",
              "                        <td id=\"T_a895a3f2_3a86_11eb_8389_0242ac1c0002row1_col2\" class=\"data row1 col2\" >-0.00</td>\n",
              "                        <td id=\"T_a895a3f2_3a86_11eb_8389_0242ac1c0002row1_col3\" class=\"data row1 col3\" >0.08</td>\n",
              "                        <td id=\"T_a895a3f2_3a86_11eb_8389_0242ac1c0002row1_col4\" class=\"data row1 col4\" >0.01</td>\n",
              "                        <td id=\"T_a895a3f2_3a86_11eb_8389_0242ac1c0002row1_col5\" class=\"data row1 col5\" >0.13</td>\n",
              "                        <td id=\"T_a895a3f2_3a86_11eb_8389_0242ac1c0002row1_col6\" class=\"data row1 col6\" >0.01</td>\n",
              "                        <td id=\"T_a895a3f2_3a86_11eb_8389_0242ac1c0002row1_col7\" class=\"data row1 col7\" >0.01</td>\n",
              "                        <td id=\"T_a895a3f2_3a86_11eb_8389_0242ac1c0002row1_col8\" class=\"data row1 col8\" >-0.02</td>\n",
              "                        <td id=\"T_a895a3f2_3a86_11eb_8389_0242ac1c0002row1_col9\" class=\"data row1 col9\" >-0.07</td>\n",
              "                        <td id=\"T_a895a3f2_3a86_11eb_8389_0242ac1c0002row1_col10\" class=\"data row1 col10\" >0.11</td>\n",
              "                        <td id=\"T_a895a3f2_3a86_11eb_8389_0242ac1c0002row1_col11\" class=\"data row1 col11\" >-0.11</td>\n",
              "                        <td id=\"T_a895a3f2_3a86_11eb_8389_0242ac1c0002row1_col12\" class=\"data row1 col12\" >0.01</td>\n",
              "                        <td id=\"T_a895a3f2_3a86_11eb_8389_0242ac1c0002row1_col13\" class=\"data row1 col13\" >-0.00</td>\n",
              "                        <td id=\"T_a895a3f2_3a86_11eb_8389_0242ac1c0002row1_col14\" class=\"data row1 col14\" >-0.08</td>\n",
              "                        <td id=\"T_a895a3f2_3a86_11eb_8389_0242ac1c0002row1_col15\" class=\"data row1 col15\" >-0.05</td>\n",
              "                        <td id=\"T_a895a3f2_3a86_11eb_8389_0242ac1c0002row1_col16\" class=\"data row1 col16\" >0.09</td>\n",
              "                        <td id=\"T_a895a3f2_3a86_11eb_8389_0242ac1c0002row1_col17\" class=\"data row1 col17\" >0.05</td>\n",
              "            </tr>\n",
              "            <tr>\n",
              "                        <th id=\"T_a895a3f2_3a86_11eb_8389_0242ac1c0002level0_row2\" class=\"row_heading level0 row2\" >PARA_A</th>\n",
              "                        <td id=\"T_a895a3f2_3a86_11eb_8389_0242ac1c0002row2_col0\" class=\"data row2 col0\" >-0.22</td>\n",
              "                        <td id=\"T_a895a3f2_3a86_11eb_8389_0242ac1c0002row2_col1\" class=\"data row2 col1\" >-0.00</td>\n",
              "                        <td id=\"T_a895a3f2_3a86_11eb_8389_0242ac1c0002row2_col2\" class=\"data row2 col2\" >1.00</td>\n",
              "                        <td id=\"T_a895a3f2_3a86_11eb_8389_0242ac1c0002row2_col3\" class=\"data row2 col3\" >0.50</td>\n",
              "                        <td id=\"T_a895a3f2_3a86_11eb_8389_0242ac1c0002row2_col4\" class=\"data row2 col4\" >0.16</td>\n",
              "                        <td id=\"T_a895a3f2_3a86_11eb_8389_0242ac1c0002row2_col5\" class=\"data row2 col5\" >0.36</td>\n",
              "                        <td id=\"T_a895a3f2_3a86_11eb_8389_0242ac1c0002row2_col6\" class=\"data row2 col6\" >0.27</td>\n",
              "                        <td id=\"T_a895a3f2_3a86_11eb_8389_0242ac1c0002row2_col7\" class=\"data row2 col7\" >0.13</td>\n",
              "                        <td id=\"T_a895a3f2_3a86_11eb_8389_0242ac1c0002row2_col8\" class=\"data row2 col8\" >0.14</td>\n",
              "                        <td id=\"T_a895a3f2_3a86_11eb_8389_0242ac1c0002row2_col9\" class=\"data row2 col9\" >0.45</td>\n",
              "                        <td id=\"T_a895a3f2_3a86_11eb_8389_0242ac1c0002row2_col10\" class=\"data row2 col10\" >0.29</td>\n",
              "                        <td id=\"T_a895a3f2_3a86_11eb_8389_0242ac1c0002row2_col11\" class=\"data row2 col11\" >0.13</td>\n",
              "                        <td id=\"T_a895a3f2_3a86_11eb_8389_0242ac1c0002row2_col12\" class=\"data row2 col12\" >0.05</td>\n",
              "                        <td id=\"T_a895a3f2_3a86_11eb_8389_0242ac1c0002row2_col13\" class=\"data row2 col13\" >0.04</td>\n",
              "                        <td id=\"T_a895a3f2_3a86_11eb_8389_0242ac1c0002row2_col14\" class=\"data row2 col14\" >0.12</td>\n",
              "                        <td id=\"T_a895a3f2_3a86_11eb_8389_0242ac1c0002row2_col15\" class=\"data row2 col15\" >0.17</td>\n",
              "                        <td id=\"T_a895a3f2_3a86_11eb_8389_0242ac1c0002row2_col16\" class=\"data row2 col16\" >0.43</td>\n",
              "                        <td id=\"T_a895a3f2_3a86_11eb_8389_0242ac1c0002row2_col17\" class=\"data row2 col17\" >0.29</td>\n",
              "            </tr>\n",
              "            <tr>\n",
              "                        <th id=\"T_a895a3f2_3a86_11eb_8389_0242ac1c0002level0_row3\" class=\"row_heading level0 row3\" >SCORE_A</th>\n",
              "                        <td id=\"T_a895a3f2_3a86_11eb_8389_0242ac1c0002row3_col0\" class=\"data row3 col0\" >-0.43</td>\n",
              "                        <td id=\"T_a895a3f2_3a86_11eb_8389_0242ac1c0002row3_col1\" class=\"data row3 col1\" >0.08</td>\n",
              "                        <td id=\"T_a895a3f2_3a86_11eb_8389_0242ac1c0002row3_col2\" class=\"data row3 col2\" >0.50</td>\n",
              "                        <td id=\"T_a895a3f2_3a86_11eb_8389_0242ac1c0002row3_col3\" class=\"data row3 col3\" >1.00</td>\n",
              "                        <td id=\"T_a895a3f2_3a86_11eb_8389_0242ac1c0002row3_col4\" class=\"data row3 col4\" >0.25</td>\n",
              "                        <td id=\"T_a895a3f2_3a86_11eb_8389_0242ac1c0002row3_col5\" class=\"data row3 col5\" >0.57</td>\n",
              "                        <td id=\"T_a895a3f2_3a86_11eb_8389_0242ac1c0002row3_col6\" class=\"data row3 col6\" >0.30</td>\n",
              "                        <td id=\"T_a895a3f2_3a86_11eb_8389_0242ac1c0002row3_col7\" class=\"data row3 col7\" >0.24</td>\n",
              "                        <td id=\"T_a895a3f2_3a86_11eb_8389_0242ac1c0002row3_col8\" class=\"data row3 col8\" >0.27</td>\n",
              "                        <td id=\"T_a895a3f2_3a86_11eb_8389_0242ac1c0002row3_col9\" class=\"data row3 col9\" >0.21</td>\n",
              "                        <td id=\"T_a895a3f2_3a86_11eb_8389_0242ac1c0002row3_col10\" class=\"data row3 col10\" >0.48</td>\n",
              "                        <td id=\"T_a895a3f2_3a86_11eb_8389_0242ac1c0002row3_col11\" class=\"data row3 col11\" >0.09</td>\n",
              "                        <td id=\"T_a895a3f2_3a86_11eb_8389_0242ac1c0002row3_col12\" class=\"data row3 col12\" >0.09</td>\n",
              "                        <td id=\"T_a895a3f2_3a86_11eb_8389_0242ac1c0002row3_col13\" class=\"data row3 col13\" >0.09</td>\n",
              "                        <td id=\"T_a895a3f2_3a86_11eb_8389_0242ac1c0002row3_col14\" class=\"data row3 col14\" >0.18</td>\n",
              "                        <td id=\"T_a895a3f2_3a86_11eb_8389_0242ac1c0002row3_col15\" class=\"data row3 col15\" >0.26</td>\n",
              "                        <td id=\"T_a895a3f2_3a86_11eb_8389_0242ac1c0002row3_col16\" class=\"data row3 col16\" >0.72</td>\n",
              "                        <td id=\"T_a895a3f2_3a86_11eb_8389_0242ac1c0002row3_col17\" class=\"data row3 col17\" >0.67</td>\n",
              "            </tr>\n",
              "            <tr>\n",
              "                        <th id=\"T_a895a3f2_3a86_11eb_8389_0242ac1c0002level0_row4\" class=\"row_heading level0 row4\" >PARA_B</th>\n",
              "                        <td id=\"T_a895a3f2_3a86_11eb_8389_0242ac1c0002row4_col0\" class=\"data row4 col0\" >-0.13</td>\n",
              "                        <td id=\"T_a895a3f2_3a86_11eb_8389_0242ac1c0002row4_col1\" class=\"data row4 col1\" >0.01</td>\n",
              "                        <td id=\"T_a895a3f2_3a86_11eb_8389_0242ac1c0002row4_col2\" class=\"data row4 col2\" >0.16</td>\n",
              "                        <td id=\"T_a895a3f2_3a86_11eb_8389_0242ac1c0002row4_col3\" class=\"data row4 col3\" >0.25</td>\n",
              "                        <td id=\"T_a895a3f2_3a86_11eb_8389_0242ac1c0002row4_col4\" class=\"data row4 col4\" >1.00</td>\n",
              "                        <td id=\"T_a895a3f2_3a86_11eb_8389_0242ac1c0002row4_col5\" class=\"data row4 col5\" >0.35</td>\n",
              "                        <td id=\"T_a895a3f2_3a86_11eb_8389_0242ac1c0002row4_col6\" class=\"data row4 col6\" >0.99</td>\n",
              "                        <td id=\"T_a895a3f2_3a86_11eb_8389_0242ac1c0002row4_col7\" class=\"data row4 col7\" >0.21</td>\n",
              "                        <td id=\"T_a895a3f2_3a86_11eb_8389_0242ac1c0002row4_col8\" class=\"data row4 col8\" >0.23</td>\n",
              "                        <td id=\"T_a895a3f2_3a86_11eb_8389_0242ac1c0002row4_col9\" class=\"data row4 col9\" >0.12</td>\n",
              "                        <td id=\"T_a895a3f2_3a86_11eb_8389_0242ac1c0002row4_col10\" class=\"data row4 col10\" >0.31</td>\n",
              "                        <td id=\"T_a895a3f2_3a86_11eb_8389_0242ac1c0002row4_col11\" class=\"data row4 col11\" >0.08</td>\n",
              "                        <td id=\"T_a895a3f2_3a86_11eb_8389_0242ac1c0002row4_col12\" class=\"data row4 col12\" >0.04</td>\n",
              "                        <td id=\"T_a895a3f2_3a86_11eb_8389_0242ac1c0002row4_col13\" class=\"data row4 col13\" >0.04</td>\n",
              "                        <td id=\"T_a895a3f2_3a86_11eb_8389_0242ac1c0002row4_col14\" class=\"data row4 col14\" >0.20</td>\n",
              "                        <td id=\"T_a895a3f2_3a86_11eb_8389_0242ac1c0002row4_col15\" class=\"data row4 col15\" >0.32</td>\n",
              "                        <td id=\"T_a895a3f2_3a86_11eb_8389_0242ac1c0002row4_col16\" class=\"data row4 col16\" >0.40</td>\n",
              "                        <td id=\"T_a895a3f2_3a86_11eb_8389_0242ac1c0002row4_col17\" class=\"data row4 col17\" >0.16</td>\n",
              "            </tr>\n",
              "            <tr>\n",
              "                        <th id=\"T_a895a3f2_3a86_11eb_8389_0242ac1c0002level0_row5\" class=\"row_heading level0 row5\" >SCORE_B</th>\n",
              "                        <td id=\"T_a895a3f2_3a86_11eb_8389_0242ac1c0002row5_col0\" class=\"data row5 col0\" >-0.22</td>\n",
              "                        <td id=\"T_a895a3f2_3a86_11eb_8389_0242ac1c0002row5_col1\" class=\"data row5 col1\" >0.13</td>\n",
              "                        <td id=\"T_a895a3f2_3a86_11eb_8389_0242ac1c0002row5_col2\" class=\"data row5 col2\" >0.36</td>\n",
              "                        <td id=\"T_a895a3f2_3a86_11eb_8389_0242ac1c0002row5_col3\" class=\"data row5 col3\" >0.57</td>\n",
              "                        <td id=\"T_a895a3f2_3a86_11eb_8389_0242ac1c0002row5_col4\" class=\"data row5 col4\" >0.35</td>\n",
              "                        <td id=\"T_a895a3f2_3a86_11eb_8389_0242ac1c0002row5_col5\" class=\"data row5 col5\" >1.00</td>\n",
              "                        <td id=\"T_a895a3f2_3a86_11eb_8389_0242ac1c0002row5_col6\" class=\"data row5 col6\" >0.38</td>\n",
              "                        <td id=\"T_a895a3f2_3a86_11eb_8389_0242ac1c0002row5_col7\" class=\"data row5 col7\" >0.28</td>\n",
              "                        <td id=\"T_a895a3f2_3a86_11eb_8389_0242ac1c0002row5_col8\" class=\"data row5 col8\" >0.31</td>\n",
              "                        <td id=\"T_a895a3f2_3a86_11eb_8389_0242ac1c0002row5_col9\" class=\"data row5 col9\" >0.20</td>\n",
              "                        <td id=\"T_a895a3f2_3a86_11eb_8389_0242ac1c0002row5_col10\" class=\"data row5 col10\" >0.57</td>\n",
              "                        <td id=\"T_a895a3f2_3a86_11eb_8389_0242ac1c0002row5_col11\" class=\"data row5 col11\" >-0.01</td>\n",
              "                        <td id=\"T_a895a3f2_3a86_11eb_8389_0242ac1c0002row5_col12\" class=\"data row5 col12\" >0.10</td>\n",
              "                        <td id=\"T_a895a3f2_3a86_11eb_8389_0242ac1c0002row5_col13\" class=\"data row5 col13\" >0.09</td>\n",
              "                        <td id=\"T_a895a3f2_3a86_11eb_8389_0242ac1c0002row5_col14\" class=\"data row5 col14\" >0.20</td>\n",
              "                        <td id=\"T_a895a3f2_3a86_11eb_8389_0242ac1c0002row5_col15\" class=\"data row5 col15\" >0.31</td>\n",
              "                        <td id=\"T_a895a3f2_3a86_11eb_8389_0242ac1c0002row5_col16\" class=\"data row5 col16\" >0.90</td>\n",
              "                        <td id=\"T_a895a3f2_3a86_11eb_8389_0242ac1c0002row5_col17\" class=\"data row5 col17\" >0.51</td>\n",
              "            </tr>\n",
              "            <tr>\n",
              "                        <th id=\"T_a895a3f2_3a86_11eb_8389_0242ac1c0002level0_row6\" class=\"row_heading level0 row6\" >TOTAL</th>\n",
              "                        <td id=\"T_a895a3f2_3a86_11eb_8389_0242ac1c0002row6_col0\" class=\"data row6 col0\" >-0.15</td>\n",
              "                        <td id=\"T_a895a3f2_3a86_11eb_8389_0242ac1c0002row6_col1\" class=\"data row6 col1\" >0.01</td>\n",
              "                        <td id=\"T_a895a3f2_3a86_11eb_8389_0242ac1c0002row6_col2\" class=\"data row6 col2\" >0.27</td>\n",
              "                        <td id=\"T_a895a3f2_3a86_11eb_8389_0242ac1c0002row6_col3\" class=\"data row6 col3\" >0.30</td>\n",
              "                        <td id=\"T_a895a3f2_3a86_11eb_8389_0242ac1c0002row6_col4\" class=\"data row6 col4\" >0.99</td>\n",
              "                        <td id=\"T_a895a3f2_3a86_11eb_8389_0242ac1c0002row6_col5\" class=\"data row6 col5\" >0.38</td>\n",
              "                        <td id=\"T_a895a3f2_3a86_11eb_8389_0242ac1c0002row6_col6\" class=\"data row6 col6\" >1.00</td>\n",
              "                        <td id=\"T_a895a3f2_3a86_11eb_8389_0242ac1c0002row6_col7\" class=\"data row6 col7\" >0.22</td>\n",
              "                        <td id=\"T_a895a3f2_3a86_11eb_8389_0242ac1c0002row6_col8\" class=\"data row6 col8\" >0.24</td>\n",
              "                        <td id=\"T_a895a3f2_3a86_11eb_8389_0242ac1c0002row6_col9\" class=\"data row6 col9\" >0.17</td>\n",
              "                        <td id=\"T_a895a3f2_3a86_11eb_8389_0242ac1c0002row6_col10\" class=\"data row6 col10\" >0.34</td>\n",
              "                        <td id=\"T_a895a3f2_3a86_11eb_8389_0242ac1c0002row6_col11\" class=\"data row6 col11\" >0.09</td>\n",
              "                        <td id=\"T_a895a3f2_3a86_11eb_8389_0242ac1c0002row6_col12\" class=\"data row6 col12\" >0.05</td>\n",
              "                        <td id=\"T_a895a3f2_3a86_11eb_8389_0242ac1c0002row6_col13\" class=\"data row6 col13\" >0.05</td>\n",
              "                        <td id=\"T_a895a3f2_3a86_11eb_8389_0242ac1c0002row6_col14\" class=\"data row6 col14\" >0.21</td>\n",
              "                        <td id=\"T_a895a3f2_3a86_11eb_8389_0242ac1c0002row6_col15\" class=\"data row6 col15\" >0.33</td>\n",
              "                        <td id=\"T_a895a3f2_3a86_11eb_8389_0242ac1c0002row6_col16\" class=\"data row6 col16\" >0.43</td>\n",
              "                        <td id=\"T_a895a3f2_3a86_11eb_8389_0242ac1c0002row6_col17\" class=\"data row6 col17\" >0.19</td>\n",
              "            </tr>\n",
              "            <tr>\n",
              "                        <th id=\"T_a895a3f2_3a86_11eb_8389_0242ac1c0002level0_row7\" class=\"row_heading level0 row7\" >numbers</th>\n",
              "                        <td id=\"T_a895a3f2_3a86_11eb_8389_0242ac1c0002row7_col0\" class=\"data row7 col0\" >-0.15</td>\n",
              "                        <td id=\"T_a895a3f2_3a86_11eb_8389_0242ac1c0002row7_col1\" class=\"data row7 col1\" >0.01</td>\n",
              "                        <td id=\"T_a895a3f2_3a86_11eb_8389_0242ac1c0002row7_col2\" class=\"data row7 col2\" >0.13</td>\n",
              "                        <td id=\"T_a895a3f2_3a86_11eb_8389_0242ac1c0002row7_col3\" class=\"data row7 col3\" >0.24</td>\n",
              "                        <td id=\"T_a895a3f2_3a86_11eb_8389_0242ac1c0002row7_col4\" class=\"data row7 col4\" >0.21</td>\n",
              "                        <td id=\"T_a895a3f2_3a86_11eb_8389_0242ac1c0002row7_col5\" class=\"data row7 col5\" >0.28</td>\n",
              "                        <td id=\"T_a895a3f2_3a86_11eb_8389_0242ac1c0002row7_col6\" class=\"data row7 col6\" >0.22</td>\n",
              "                        <td id=\"T_a895a3f2_3a86_11eb_8389_0242ac1c0002row7_col7\" class=\"data row7 col7\" >1.00</td>\n",
              "                        <td id=\"T_a895a3f2_3a86_11eb_8389_0242ac1c0002row7_col8\" class=\"data row7 col8\" >0.91</td>\n",
              "                        <td id=\"T_a895a3f2_3a86_11eb_8389_0242ac1c0002row7_col9\" class=\"data row7 col9\" >0.19</td>\n",
              "                        <td id=\"T_a895a3f2_3a86_11eb_8389_0242ac1c0002row7_col10\" class=\"data row7 col10\" >0.45</td>\n",
              "                        <td id=\"T_a895a3f2_3a86_11eb_8389_0242ac1c0002row7_col11\" class=\"data row7 col11\" >0.12</td>\n",
              "                        <td id=\"T_a895a3f2_3a86_11eb_8389_0242ac1c0002row7_col12\" class=\"data row7 col12\" >-0.00</td>\n",
              "                        <td id=\"T_a895a3f2_3a86_11eb_8389_0242ac1c0002row7_col13\" class=\"data row7 col13\" >0.04</td>\n",
              "                        <td id=\"T_a895a3f2_3a86_11eb_8389_0242ac1c0002row7_col14\" class=\"data row7 col14\" >0.20</td>\n",
              "                        <td id=\"T_a895a3f2_3a86_11eb_8389_0242ac1c0002row7_col15\" class=\"data row7 col15\" >0.21</td>\n",
              "                        <td id=\"T_a895a3f2_3a86_11eb_8389_0242ac1c0002row7_col16\" class=\"data row7 col16\" >0.50</td>\n",
              "                        <td id=\"T_a895a3f2_3a86_11eb_8389_0242ac1c0002row7_col17\" class=\"data row7 col17\" >0.20</td>\n",
              "            </tr>\n",
              "            <tr>\n",
              "                        <th id=\"T_a895a3f2_3a86_11eb_8389_0242ac1c0002level0_row8\" class=\"row_heading level0 row8\" >Marks</th>\n",
              "                        <td id=\"T_a895a3f2_3a86_11eb_8389_0242ac1c0002row8_col0\" class=\"data row8 col0\" >-0.17</td>\n",
              "                        <td id=\"T_a895a3f2_3a86_11eb_8389_0242ac1c0002row8_col1\" class=\"data row8 col1\" >-0.02</td>\n",
              "                        <td id=\"T_a895a3f2_3a86_11eb_8389_0242ac1c0002row8_col2\" class=\"data row8 col2\" >0.14</td>\n",
              "                        <td id=\"T_a895a3f2_3a86_11eb_8389_0242ac1c0002row8_col3\" class=\"data row8 col3\" >0.27</td>\n",
              "                        <td id=\"T_a895a3f2_3a86_11eb_8389_0242ac1c0002row8_col4\" class=\"data row8 col4\" >0.23</td>\n",
              "                        <td id=\"T_a895a3f2_3a86_11eb_8389_0242ac1c0002row8_col5\" class=\"data row8 col5\" >0.31</td>\n",
              "                        <td id=\"T_a895a3f2_3a86_11eb_8389_0242ac1c0002row8_col6\" class=\"data row8 col6\" >0.24</td>\n",
              "                        <td id=\"T_a895a3f2_3a86_11eb_8389_0242ac1c0002row8_col7\" class=\"data row8 col7\" >0.91</td>\n",
              "                        <td id=\"T_a895a3f2_3a86_11eb_8389_0242ac1c0002row8_col8\" class=\"data row8 col8\" >1.00</td>\n",
              "                        <td id=\"T_a895a3f2_3a86_11eb_8389_0242ac1c0002row8_col9\" class=\"data row8 col9\" >0.22</td>\n",
              "                        <td id=\"T_a895a3f2_3a86_11eb_8389_0242ac1c0002row8_col10\" class=\"data row8 col10\" >0.51</td>\n",
              "                        <td id=\"T_a895a3f2_3a86_11eb_8389_0242ac1c0002row8_col11\" class=\"data row8 col11\" >0.15</td>\n",
              "                        <td id=\"T_a895a3f2_3a86_11eb_8389_0242ac1c0002row8_col12\" class=\"data row8 col12\" >0.00</td>\n",
              "                        <td id=\"T_a895a3f2_3a86_11eb_8389_0242ac1c0002row8_col13\" class=\"data row8 col13\" >0.04</td>\n",
              "                        <td id=\"T_a895a3f2_3a86_11eb_8389_0242ac1c0002row8_col14\" class=\"data row8 col14\" >0.23</td>\n",
              "                        <td id=\"T_a895a3f2_3a86_11eb_8389_0242ac1c0002row8_col15\" class=\"data row8 col15\" >0.25</td>\n",
              "                        <td id=\"T_a895a3f2_3a86_11eb_8389_0242ac1c0002row8_col16\" class=\"data row8 col16\" >0.57</td>\n",
              "                        <td id=\"T_a895a3f2_3a86_11eb_8389_0242ac1c0002row8_col17\" class=\"data row8 col17\" >0.23</td>\n",
              "            </tr>\n",
              "            <tr>\n",
              "                        <th id=\"T_a895a3f2_3a86_11eb_8389_0242ac1c0002level0_row9\" class=\"row_heading level0 row9\" >Money_Value</th>\n",
              "                        <td id=\"T_a895a3f2_3a86_11eb_8389_0242ac1c0002row9_col0\" class=\"data row9 col0\" >-0.12</td>\n",
              "                        <td id=\"T_a895a3f2_3a86_11eb_8389_0242ac1c0002row9_col1\" class=\"data row9 col1\" >-0.07</td>\n",
              "                        <td id=\"T_a895a3f2_3a86_11eb_8389_0242ac1c0002row9_col2\" class=\"data row9 col2\" >0.45</td>\n",
              "                        <td id=\"T_a895a3f2_3a86_11eb_8389_0242ac1c0002row9_col3\" class=\"data row9 col3\" >0.21</td>\n",
              "                        <td id=\"T_a895a3f2_3a86_11eb_8389_0242ac1c0002row9_col4\" class=\"data row9 col4\" >0.12</td>\n",
              "                        <td id=\"T_a895a3f2_3a86_11eb_8389_0242ac1c0002row9_col5\" class=\"data row9 col5\" >0.20</td>\n",
              "                        <td id=\"T_a895a3f2_3a86_11eb_8389_0242ac1c0002row9_col6\" class=\"data row9 col6\" >0.17</td>\n",
              "                        <td id=\"T_a895a3f2_3a86_11eb_8389_0242ac1c0002row9_col7\" class=\"data row9 col7\" >0.19</td>\n",
              "                        <td id=\"T_a895a3f2_3a86_11eb_8389_0242ac1c0002row9_col8\" class=\"data row9 col8\" >0.22</td>\n",
              "                        <td id=\"T_a895a3f2_3a86_11eb_8389_0242ac1c0002row9_col9\" class=\"data row9 col9\" >1.00</td>\n",
              "                        <td id=\"T_a895a3f2_3a86_11eb_8389_0242ac1c0002row9_col10\" class=\"data row9 col10\" >0.39</td>\n",
              "                        <td id=\"T_a895a3f2_3a86_11eb_8389_0242ac1c0002row9_col11\" class=\"data row9 col11\" >0.03</td>\n",
              "                        <td id=\"T_a895a3f2_3a86_11eb_8389_0242ac1c0002row9_col12\" class=\"data row9 col12\" >0.02</td>\n",
              "                        <td id=\"T_a895a3f2_3a86_11eb_8389_0242ac1c0002row9_col13\" class=\"data row9 col13\" >0.03</td>\n",
              "                        <td id=\"T_a895a3f2_3a86_11eb_8389_0242ac1c0002row9_col14\" class=\"data row9 col14\" >0.08</td>\n",
              "                        <td id=\"T_a895a3f2_3a86_11eb_8389_0242ac1c0002row9_col15\" class=\"data row9 col15\" >0.11</td>\n",
              "                        <td id=\"T_a895a3f2_3a86_11eb_8389_0242ac1c0002row9_col16\" class=\"data row9 col16\" >0.29</td>\n",
              "                        <td id=\"T_a895a3f2_3a86_11eb_8389_0242ac1c0002row9_col17\" class=\"data row9 col17\" >0.16</td>\n",
              "            </tr>\n",
              "            <tr>\n",
              "                        <th id=\"T_a895a3f2_3a86_11eb_8389_0242ac1c0002level0_row10\" class=\"row_heading level0 row10\" >MONEY_Marks</th>\n",
              "                        <td id=\"T_a895a3f2_3a86_11eb_8389_0242ac1c0002row10_col0\" class=\"data row10 col0\" >-0.32</td>\n",
              "                        <td id=\"T_a895a3f2_3a86_11eb_8389_0242ac1c0002row10_col1\" class=\"data row10 col1\" >0.11</td>\n",
              "                        <td id=\"T_a895a3f2_3a86_11eb_8389_0242ac1c0002row10_col2\" class=\"data row10 col2\" >0.29</td>\n",
              "                        <td id=\"T_a895a3f2_3a86_11eb_8389_0242ac1c0002row10_col3\" class=\"data row10 col3\" >0.48</td>\n",
              "                        <td id=\"T_a895a3f2_3a86_11eb_8389_0242ac1c0002row10_col4\" class=\"data row10 col4\" >0.31</td>\n",
              "                        <td id=\"T_a895a3f2_3a86_11eb_8389_0242ac1c0002row10_col5\" class=\"data row10 col5\" >0.57</td>\n",
              "                        <td id=\"T_a895a3f2_3a86_11eb_8389_0242ac1c0002row10_col6\" class=\"data row10 col6\" >0.34</td>\n",
              "                        <td id=\"T_a895a3f2_3a86_11eb_8389_0242ac1c0002row10_col7\" class=\"data row10 col7\" >0.45</td>\n",
              "                        <td id=\"T_a895a3f2_3a86_11eb_8389_0242ac1c0002row10_col8\" class=\"data row10 col8\" >0.51</td>\n",
              "                        <td id=\"T_a895a3f2_3a86_11eb_8389_0242ac1c0002row10_col9\" class=\"data row10 col9\" >0.39</td>\n",
              "                        <td id=\"T_a895a3f2_3a86_11eb_8389_0242ac1c0002row10_col10\" class=\"data row10 col10\" >1.00</td>\n",
              "                        <td id=\"T_a895a3f2_3a86_11eb_8389_0242ac1c0002row10_col11\" class=\"data row10 col11\" >0.08</td>\n",
              "                        <td id=\"T_a895a3f2_3a86_11eb_8389_0242ac1c0002row10_col12\" class=\"data row10 col12\" >0.12</td>\n",
              "                        <td id=\"T_a895a3f2_3a86_11eb_8389_0242ac1c0002row10_col13\" class=\"data row10 col13\" >0.13</td>\n",
              "                        <td id=\"T_a895a3f2_3a86_11eb_8389_0242ac1c0002row10_col14\" class=\"data row10 col14\" >0.25</td>\n",
              "                        <td id=\"T_a895a3f2_3a86_11eb_8389_0242ac1c0002row10_col15\" class=\"data row10 col15\" >0.33</td>\n",
              "                        <td id=\"T_a895a3f2_3a86_11eb_8389_0242ac1c0002row10_col16\" class=\"data row10 col16\" >0.76</td>\n",
              "                        <td id=\"T_a895a3f2_3a86_11eb_8389_0242ac1c0002row10_col17\" class=\"data row10 col17\" >0.44</td>\n",
              "            </tr>\n",
              "            <tr>\n",
              "                        <th id=\"T_a895a3f2_3a86_11eb_8389_0242ac1c0002level0_row11\" class=\"row_heading level0 row11\" >District</th>\n",
              "                        <td id=\"T_a895a3f2_3a86_11eb_8389_0242ac1c0002row11_col0\" class=\"data row11 col0\" >-0.11</td>\n",
              "                        <td id=\"T_a895a3f2_3a86_11eb_8389_0242ac1c0002row11_col1\" class=\"data row11 col1\" >-0.11</td>\n",
              "                        <td id=\"T_a895a3f2_3a86_11eb_8389_0242ac1c0002row11_col2\" class=\"data row11 col2\" >0.13</td>\n",
              "                        <td id=\"T_a895a3f2_3a86_11eb_8389_0242ac1c0002row11_col3\" class=\"data row11 col3\" >0.09</td>\n",
              "                        <td id=\"T_a895a3f2_3a86_11eb_8389_0242ac1c0002row11_col4\" class=\"data row11 col4\" >0.08</td>\n",
              "                        <td id=\"T_a895a3f2_3a86_11eb_8389_0242ac1c0002row11_col5\" class=\"data row11 col5\" >-0.01</td>\n",
              "                        <td id=\"T_a895a3f2_3a86_11eb_8389_0242ac1c0002row11_col6\" class=\"data row11 col6\" >0.09</td>\n",
              "                        <td id=\"T_a895a3f2_3a86_11eb_8389_0242ac1c0002row11_col7\" class=\"data row11 col7\" >0.12</td>\n",
              "                        <td id=\"T_a895a3f2_3a86_11eb_8389_0242ac1c0002row11_col8\" class=\"data row11 col8\" >0.15</td>\n",
              "                        <td id=\"T_a895a3f2_3a86_11eb_8389_0242ac1c0002row11_col9\" class=\"data row11 col9\" >0.03</td>\n",
              "                        <td id=\"T_a895a3f2_3a86_11eb_8389_0242ac1c0002row11_col10\" class=\"data row11 col10\" >0.08</td>\n",
              "                        <td id=\"T_a895a3f2_3a86_11eb_8389_0242ac1c0002row11_col11\" class=\"data row11 col11\" >1.00</td>\n",
              "                        <td id=\"T_a895a3f2_3a86_11eb_8389_0242ac1c0002row11_col12\" class=\"data row11 col12\" >0.04</td>\n",
              "                        <td id=\"T_a895a3f2_3a86_11eb_8389_0242ac1c0002row11_col13\" class=\"data row11 col13\" >0.05</td>\n",
              "                        <td id=\"T_a895a3f2_3a86_11eb_8389_0242ac1c0002row11_col14\" class=\"data row11 col14\" >0.07</td>\n",
              "                        <td id=\"T_a895a3f2_3a86_11eb_8389_0242ac1c0002row11_col15\" class=\"data row11 col15\" >0.08</td>\n",
              "                        <td id=\"T_a895a3f2_3a86_11eb_8389_0242ac1c0002row11_col16\" class=\"data row11 col16\" >0.21</td>\n",
              "                        <td id=\"T_a895a3f2_3a86_11eb_8389_0242ac1c0002row11_col17\" class=\"data row11 col17\" >0.32</td>\n",
              "            </tr>\n",
              "            <tr>\n",
              "                        <th id=\"T_a895a3f2_3a86_11eb_8389_0242ac1c0002level0_row12\" class=\"row_heading level0 row12\" >Loss</th>\n",
              "                        <td id=\"T_a895a3f2_3a86_11eb_8389_0242ac1c0002row12_col0\" class=\"data row12 col0\" >-0.08</td>\n",
              "                        <td id=\"T_a895a3f2_3a86_11eb_8389_0242ac1c0002row12_col1\" class=\"data row12 col1\" >0.01</td>\n",
              "                        <td id=\"T_a895a3f2_3a86_11eb_8389_0242ac1c0002row12_col2\" class=\"data row12 col2\" >0.05</td>\n",
              "                        <td id=\"T_a895a3f2_3a86_11eb_8389_0242ac1c0002row12_col3\" class=\"data row12 col3\" >0.09</td>\n",
              "                        <td id=\"T_a895a3f2_3a86_11eb_8389_0242ac1c0002row12_col4\" class=\"data row12 col4\" >0.04</td>\n",
              "                        <td id=\"T_a895a3f2_3a86_11eb_8389_0242ac1c0002row12_col5\" class=\"data row12 col5\" >0.10</td>\n",
              "                        <td id=\"T_a895a3f2_3a86_11eb_8389_0242ac1c0002row12_col6\" class=\"data row12 col6\" >0.05</td>\n",
              "                        <td id=\"T_a895a3f2_3a86_11eb_8389_0242ac1c0002row12_col7\" class=\"data row12 col7\" >-0.00</td>\n",
              "                        <td id=\"T_a895a3f2_3a86_11eb_8389_0242ac1c0002row12_col8\" class=\"data row12 col8\" >0.00</td>\n",
              "                        <td id=\"T_a895a3f2_3a86_11eb_8389_0242ac1c0002row12_col9\" class=\"data row12 col9\" >0.02</td>\n",
              "                        <td id=\"T_a895a3f2_3a86_11eb_8389_0242ac1c0002row12_col10\" class=\"data row12 col10\" >0.12</td>\n",
              "                        <td id=\"T_a895a3f2_3a86_11eb_8389_0242ac1c0002row12_col11\" class=\"data row12 col11\" >0.04</td>\n",
              "                        <td id=\"T_a895a3f2_3a86_11eb_8389_0242ac1c0002row12_col12\" class=\"data row12 col12\" >1.00</td>\n",
              "                        <td id=\"T_a895a3f2_3a86_11eb_8389_0242ac1c0002row12_col13\" class=\"data row12 col13\" >0.98</td>\n",
              "                        <td id=\"T_a895a3f2_3a86_11eb_8389_0242ac1c0002row12_col14\" class=\"data row12 col14\" >0.06</td>\n",
              "                        <td id=\"T_a895a3f2_3a86_11eb_8389_0242ac1c0002row12_col15\" class=\"data row12 col15\" >0.10</td>\n",
              "                        <td id=\"T_a895a3f2_3a86_11eb_8389_0242ac1c0002row12_col16\" class=\"data row12 col16\" >0.16</td>\n",
              "                        <td id=\"T_a895a3f2_3a86_11eb_8389_0242ac1c0002row12_col17\" class=\"data row12 col17\" >0.12</td>\n",
              "            </tr>\n",
              "            <tr>\n",
              "                        <th id=\"T_a895a3f2_3a86_11eb_8389_0242ac1c0002level0_row13\" class=\"row_heading level0 row13\" >LOSS_SCORE</th>\n",
              "                        <td id=\"T_a895a3f2_3a86_11eb_8389_0242ac1c0002row13_col0\" class=\"data row13 col0\" >-0.09</td>\n",
              "                        <td id=\"T_a895a3f2_3a86_11eb_8389_0242ac1c0002row13_col1\" class=\"data row13 col1\" >-0.00</td>\n",
              "                        <td id=\"T_a895a3f2_3a86_11eb_8389_0242ac1c0002row13_col2\" class=\"data row13 col2\" >0.04</td>\n",
              "                        <td id=\"T_a895a3f2_3a86_11eb_8389_0242ac1c0002row13_col3\" class=\"data row13 col3\" >0.09</td>\n",
              "                        <td id=\"T_a895a3f2_3a86_11eb_8389_0242ac1c0002row13_col4\" class=\"data row13 col4\" >0.04</td>\n",
              "                        <td id=\"T_a895a3f2_3a86_11eb_8389_0242ac1c0002row13_col5\" class=\"data row13 col5\" >0.09</td>\n",
              "                        <td id=\"T_a895a3f2_3a86_11eb_8389_0242ac1c0002row13_col6\" class=\"data row13 col6\" >0.05</td>\n",
              "                        <td id=\"T_a895a3f2_3a86_11eb_8389_0242ac1c0002row13_col7\" class=\"data row13 col7\" >0.04</td>\n",
              "                        <td id=\"T_a895a3f2_3a86_11eb_8389_0242ac1c0002row13_col8\" class=\"data row13 col8\" >0.04</td>\n",
              "                        <td id=\"T_a895a3f2_3a86_11eb_8389_0242ac1c0002row13_col9\" class=\"data row13 col9\" >0.03</td>\n",
              "                        <td id=\"T_a895a3f2_3a86_11eb_8389_0242ac1c0002row13_col10\" class=\"data row13 col10\" >0.13</td>\n",
              "                        <td id=\"T_a895a3f2_3a86_11eb_8389_0242ac1c0002row13_col11\" class=\"data row13 col11\" >0.05</td>\n",
              "                        <td id=\"T_a895a3f2_3a86_11eb_8389_0242ac1c0002row13_col12\" class=\"data row13 col12\" >0.98</td>\n",
              "                        <td id=\"T_a895a3f2_3a86_11eb_8389_0242ac1c0002row13_col13\" class=\"data row13 col13\" >1.00</td>\n",
              "                        <td id=\"T_a895a3f2_3a86_11eb_8389_0242ac1c0002row13_col14\" class=\"data row13 col14\" >0.11</td>\n",
              "                        <td id=\"T_a895a3f2_3a86_11eb_8389_0242ac1c0002row13_col15\" class=\"data row13 col15\" >0.14</td>\n",
              "                        <td id=\"T_a895a3f2_3a86_11eb_8389_0242ac1c0002row13_col16\" class=\"data row13 col16\" >0.17</td>\n",
              "                        <td id=\"T_a895a3f2_3a86_11eb_8389_0242ac1c0002row13_col17\" class=\"data row13 col17\" >0.13</td>\n",
              "            </tr>\n",
              "            <tr>\n",
              "                        <th id=\"T_a895a3f2_3a86_11eb_8389_0242ac1c0002level0_row14\" class=\"row_heading level0 row14\" >History</th>\n",
              "                        <td id=\"T_a895a3f2_3a86_11eb_8389_0242ac1c0002row14_col0\" class=\"data row14 col0\" >-0.12</td>\n",
              "                        <td id=\"T_a895a3f2_3a86_11eb_8389_0242ac1c0002row14_col1\" class=\"data row14 col1\" >-0.08</td>\n",
              "                        <td id=\"T_a895a3f2_3a86_11eb_8389_0242ac1c0002row14_col2\" class=\"data row14 col2\" >0.12</td>\n",
              "                        <td id=\"T_a895a3f2_3a86_11eb_8389_0242ac1c0002row14_col3\" class=\"data row14 col3\" >0.18</td>\n",
              "                        <td id=\"T_a895a3f2_3a86_11eb_8389_0242ac1c0002row14_col4\" class=\"data row14 col4\" >0.20</td>\n",
              "                        <td id=\"T_a895a3f2_3a86_11eb_8389_0242ac1c0002row14_col5\" class=\"data row14 col5\" >0.20</td>\n",
              "                        <td id=\"T_a895a3f2_3a86_11eb_8389_0242ac1c0002row14_col6\" class=\"data row14 col6\" >0.21</td>\n",
              "                        <td id=\"T_a895a3f2_3a86_11eb_8389_0242ac1c0002row14_col7\" class=\"data row14 col7\" >0.20</td>\n",
              "                        <td id=\"T_a895a3f2_3a86_11eb_8389_0242ac1c0002row14_col8\" class=\"data row14 col8\" >0.23</td>\n",
              "                        <td id=\"T_a895a3f2_3a86_11eb_8389_0242ac1c0002row14_col9\" class=\"data row14 col9\" >0.08</td>\n",
              "                        <td id=\"T_a895a3f2_3a86_11eb_8389_0242ac1c0002row14_col10\" class=\"data row14 col10\" >0.25</td>\n",
              "                        <td id=\"T_a895a3f2_3a86_11eb_8389_0242ac1c0002row14_col11\" class=\"data row14 col11\" >0.07</td>\n",
              "                        <td id=\"T_a895a3f2_3a86_11eb_8389_0242ac1c0002row14_col12\" class=\"data row14 col12\" >0.06</td>\n",
              "                        <td id=\"T_a895a3f2_3a86_11eb_8389_0242ac1c0002row14_col13\" class=\"data row14 col13\" >0.11</td>\n",
              "                        <td id=\"T_a895a3f2_3a86_11eb_8389_0242ac1c0002row14_col14\" class=\"data row14 col14\" >1.00</td>\n",
              "                        <td id=\"T_a895a3f2_3a86_11eb_8389_0242ac1c0002row14_col15\" class=\"data row14 col15\" >0.86</td>\n",
              "                        <td id=\"T_a895a3f2_3a86_11eb_8389_0242ac1c0002row14_col16\" class=\"data row14 col16\" >0.33</td>\n",
              "                        <td id=\"T_a895a3f2_3a86_11eb_8389_0242ac1c0002row14_col17\" class=\"data row14 col17\" >0.15</td>\n",
              "            </tr>\n",
              "            <tr>\n",
              "                        <th id=\"T_a895a3f2_3a86_11eb_8389_0242ac1c0002level0_row15\" class=\"row_heading level0 row15\" >History_score</th>\n",
              "                        <td id=\"T_a895a3f2_3a86_11eb_8389_0242ac1c0002row15_col0\" class=\"data row15 col0\" >-0.14</td>\n",
              "                        <td id=\"T_a895a3f2_3a86_11eb_8389_0242ac1c0002row15_col1\" class=\"data row15 col1\" >-0.05</td>\n",
              "                        <td id=\"T_a895a3f2_3a86_11eb_8389_0242ac1c0002row15_col2\" class=\"data row15 col2\" >0.17</td>\n",
              "                        <td id=\"T_a895a3f2_3a86_11eb_8389_0242ac1c0002row15_col3\" class=\"data row15 col3\" >0.26</td>\n",
              "                        <td id=\"T_a895a3f2_3a86_11eb_8389_0242ac1c0002row15_col4\" class=\"data row15 col4\" >0.32</td>\n",
              "                        <td id=\"T_a895a3f2_3a86_11eb_8389_0242ac1c0002row15_col5\" class=\"data row15 col5\" >0.31</td>\n",
              "                        <td id=\"T_a895a3f2_3a86_11eb_8389_0242ac1c0002row15_col6\" class=\"data row15 col6\" >0.33</td>\n",
              "                        <td id=\"T_a895a3f2_3a86_11eb_8389_0242ac1c0002row15_col7\" class=\"data row15 col7\" >0.21</td>\n",
              "                        <td id=\"T_a895a3f2_3a86_11eb_8389_0242ac1c0002row15_col8\" class=\"data row15 col8\" >0.25</td>\n",
              "                        <td id=\"T_a895a3f2_3a86_11eb_8389_0242ac1c0002row15_col9\" class=\"data row15 col9\" >0.11</td>\n",
              "                        <td id=\"T_a895a3f2_3a86_11eb_8389_0242ac1c0002row15_col10\" class=\"data row15 col10\" >0.33</td>\n",
              "                        <td id=\"T_a895a3f2_3a86_11eb_8389_0242ac1c0002row15_col11\" class=\"data row15 col11\" >0.08</td>\n",
              "                        <td id=\"T_a895a3f2_3a86_11eb_8389_0242ac1c0002row15_col12\" class=\"data row15 col12\" >0.10</td>\n",
              "                        <td id=\"T_a895a3f2_3a86_11eb_8389_0242ac1c0002row15_col13\" class=\"data row15 col13\" >0.14</td>\n",
              "                        <td id=\"T_a895a3f2_3a86_11eb_8389_0242ac1c0002row15_col14\" class=\"data row15 col14\" >0.86</td>\n",
              "                        <td id=\"T_a895a3f2_3a86_11eb_8389_0242ac1c0002row15_col15\" class=\"data row15 col15\" >1.00</td>\n",
              "                        <td id=\"T_a895a3f2_3a86_11eb_8389_0242ac1c0002row15_col16\" class=\"data row15 col16\" >0.44</td>\n",
              "                        <td id=\"T_a895a3f2_3a86_11eb_8389_0242ac1c0002row15_col17\" class=\"data row15 col17\" >0.19</td>\n",
              "            </tr>\n",
              "            <tr>\n",
              "                        <th id=\"T_a895a3f2_3a86_11eb_8389_0242ac1c0002level0_row16\" class=\"row_heading level0 row16\" >Score</th>\n",
              "                        <td id=\"T_a895a3f2_3a86_11eb_8389_0242ac1c0002row16_col0\" class=\"data row16 col0\" >-0.34</td>\n",
              "                        <td id=\"T_a895a3f2_3a86_11eb_8389_0242ac1c0002row16_col1\" class=\"data row16 col1\" >0.09</td>\n",
              "                        <td id=\"T_a895a3f2_3a86_11eb_8389_0242ac1c0002row16_col2\" class=\"data row16 col2\" >0.43</td>\n",
              "                        <td id=\"T_a895a3f2_3a86_11eb_8389_0242ac1c0002row16_col3\" class=\"data row16 col3\" >0.72</td>\n",
              "                        <td id=\"T_a895a3f2_3a86_11eb_8389_0242ac1c0002row16_col4\" class=\"data row16 col4\" >0.40</td>\n",
              "                        <td id=\"T_a895a3f2_3a86_11eb_8389_0242ac1c0002row16_col5\" class=\"data row16 col5\" >0.90</td>\n",
              "                        <td id=\"T_a895a3f2_3a86_11eb_8389_0242ac1c0002row16_col6\" class=\"data row16 col6\" >0.43</td>\n",
              "                        <td id=\"T_a895a3f2_3a86_11eb_8389_0242ac1c0002row16_col7\" class=\"data row16 col7\" >0.50</td>\n",
              "                        <td id=\"T_a895a3f2_3a86_11eb_8389_0242ac1c0002row16_col8\" class=\"data row16 col8\" >0.57</td>\n",
              "                        <td id=\"T_a895a3f2_3a86_11eb_8389_0242ac1c0002row16_col9\" class=\"data row16 col9\" >0.29</td>\n",
              "                        <td id=\"T_a895a3f2_3a86_11eb_8389_0242ac1c0002row16_col10\" class=\"data row16 col10\" >0.76</td>\n",
              "                        <td id=\"T_a895a3f2_3a86_11eb_8389_0242ac1c0002row16_col11\" class=\"data row16 col11\" >0.21</td>\n",
              "                        <td id=\"T_a895a3f2_3a86_11eb_8389_0242ac1c0002row16_col12\" class=\"data row16 col12\" >0.16</td>\n",
              "                        <td id=\"T_a895a3f2_3a86_11eb_8389_0242ac1c0002row16_col13\" class=\"data row16 col13\" >0.17</td>\n",
              "                        <td id=\"T_a895a3f2_3a86_11eb_8389_0242ac1c0002row16_col14\" class=\"data row16 col14\" >0.33</td>\n",
              "                        <td id=\"T_a895a3f2_3a86_11eb_8389_0242ac1c0002row16_col15\" class=\"data row16 col15\" >0.44</td>\n",
              "                        <td id=\"T_a895a3f2_3a86_11eb_8389_0242ac1c0002row16_col16\" class=\"data row16 col16\" >1.00</td>\n",
              "                        <td id=\"T_a895a3f2_3a86_11eb_8389_0242ac1c0002row16_col17\" class=\"data row16 col17\" >0.63</td>\n",
              "            </tr>\n",
              "            <tr>\n",
              "                        <th id=\"T_a895a3f2_3a86_11eb_8389_0242ac1c0002level0_row17\" class=\"row_heading level0 row17\" >Risk</th>\n",
              "                        <td id=\"T_a895a3f2_3a86_11eb_8389_0242ac1c0002row17_col0\" class=\"data row17 col0\" >-0.38</td>\n",
              "                        <td id=\"T_a895a3f2_3a86_11eb_8389_0242ac1c0002row17_col1\" class=\"data row17 col1\" >0.05</td>\n",
              "                        <td id=\"T_a895a3f2_3a86_11eb_8389_0242ac1c0002row17_col2\" class=\"data row17 col2\" >0.29</td>\n",
              "                        <td id=\"T_a895a3f2_3a86_11eb_8389_0242ac1c0002row17_col3\" class=\"data row17 col3\" >0.67</td>\n",
              "                        <td id=\"T_a895a3f2_3a86_11eb_8389_0242ac1c0002row17_col4\" class=\"data row17 col4\" >0.16</td>\n",
              "                        <td id=\"T_a895a3f2_3a86_11eb_8389_0242ac1c0002row17_col5\" class=\"data row17 col5\" >0.51</td>\n",
              "                        <td id=\"T_a895a3f2_3a86_11eb_8389_0242ac1c0002row17_col6\" class=\"data row17 col6\" >0.19</td>\n",
              "                        <td id=\"T_a895a3f2_3a86_11eb_8389_0242ac1c0002row17_col7\" class=\"data row17 col7\" >0.20</td>\n",
              "                        <td id=\"T_a895a3f2_3a86_11eb_8389_0242ac1c0002row17_col8\" class=\"data row17 col8\" >0.23</td>\n",
              "                        <td id=\"T_a895a3f2_3a86_11eb_8389_0242ac1c0002row17_col9\" class=\"data row17 col9\" >0.16</td>\n",
              "                        <td id=\"T_a895a3f2_3a86_11eb_8389_0242ac1c0002row17_col10\" class=\"data row17 col10\" >0.44</td>\n",
              "                        <td id=\"T_a895a3f2_3a86_11eb_8389_0242ac1c0002row17_col11\" class=\"data row17 col11\" >0.32</td>\n",
              "                        <td id=\"T_a895a3f2_3a86_11eb_8389_0242ac1c0002row17_col12\" class=\"data row17 col12\" >0.12</td>\n",
              "                        <td id=\"T_a895a3f2_3a86_11eb_8389_0242ac1c0002row17_col13\" class=\"data row17 col13\" >0.13</td>\n",
              "                        <td id=\"T_a895a3f2_3a86_11eb_8389_0242ac1c0002row17_col14\" class=\"data row17 col14\" >0.15</td>\n",
              "                        <td id=\"T_a895a3f2_3a86_11eb_8389_0242ac1c0002row17_col15\" class=\"data row17 col15\" >0.19</td>\n",
              "                        <td id=\"T_a895a3f2_3a86_11eb_8389_0242ac1c0002row17_col16\" class=\"data row17 col16\" >0.63</td>\n",
              "                        <td id=\"T_a895a3f2_3a86_11eb_8389_0242ac1c0002row17_col17\" class=\"data row17 col17\" >1.00</td>\n",
              "            </tr>\n",
              "    </tbody></table>"
            ],
            "text/plain": [
              "<pandas.io.formats.style.Styler at 0x7fc138fb8cc0>"
            ]
          },
          "metadata": {
            "tags": []
          },
          "execution_count": 10
        }
      ]
    },
    {
      "cell_type": "code",
      "metadata": {
        "colab": {
          "base_uri": "https://localhost:8080/",
          "height": 418
        },
        "id": "WqXg13ql2ffE",
        "outputId": "13d0a0c2-bad1-4565-9362-05cbf513bff9"
      },
      "source": [
        "trial.corr(method='spearman').style.format('{:.2f}').background_gradient()"
      ],
      "execution_count": 11,
      "outputs": [
        {
          "output_type": "execute_result",
          "data": {
            "text/html": [
              "<style  type=\"text/css\" >\n",
              "#T_a8a2ea30_3a86_11eb_8389_0242ac1c0002row0_col0,#T_a8a2ea30_3a86_11eb_8389_0242ac1c0002row1_col1,#T_a8a2ea30_3a86_11eb_8389_0242ac1c0002row2_col2,#T_a8a2ea30_3a86_11eb_8389_0242ac1c0002row3_col3,#T_a8a2ea30_3a86_11eb_8389_0242ac1c0002row4_col4,#T_a8a2ea30_3a86_11eb_8389_0242ac1c0002row5_col5,#T_a8a2ea30_3a86_11eb_8389_0242ac1c0002row6_col6,#T_a8a2ea30_3a86_11eb_8389_0242ac1c0002row7_col7,#T_a8a2ea30_3a86_11eb_8389_0242ac1c0002row7_col8,#T_a8a2ea30_3a86_11eb_8389_0242ac1c0002row8_col7,#T_a8a2ea30_3a86_11eb_8389_0242ac1c0002row8_col8,#T_a8a2ea30_3a86_11eb_8389_0242ac1c0002row9_col9,#T_a8a2ea30_3a86_11eb_8389_0242ac1c0002row10_col10,#T_a8a2ea30_3a86_11eb_8389_0242ac1c0002row11_col11,#T_a8a2ea30_3a86_11eb_8389_0242ac1c0002row12_col12,#T_a8a2ea30_3a86_11eb_8389_0242ac1c0002row13_col13,#T_a8a2ea30_3a86_11eb_8389_0242ac1c0002row14_col14,#T_a8a2ea30_3a86_11eb_8389_0242ac1c0002row14_col15,#T_a8a2ea30_3a86_11eb_8389_0242ac1c0002row15_col14,#T_a8a2ea30_3a86_11eb_8389_0242ac1c0002row15_col15,#T_a8a2ea30_3a86_11eb_8389_0242ac1c0002row16_col16,#T_a8a2ea30_3a86_11eb_8389_0242ac1c0002row17_col17{\n",
              "            background-color:  #023858;\n",
              "            color:  #f1f1f1;\n",
              "        }#T_a8a2ea30_3a86_11eb_8389_0242ac1c0002row0_col1{\n",
              "            background-color:  #f6eff7;\n",
              "            color:  #000000;\n",
              "        }#T_a8a2ea30_3a86_11eb_8389_0242ac1c0002row0_col2,#T_a8a2ea30_3a86_11eb_8389_0242ac1c0002row0_col3,#T_a8a2ea30_3a86_11eb_8389_0242ac1c0002row0_col4,#T_a8a2ea30_3a86_11eb_8389_0242ac1c0002row0_col5,#T_a8a2ea30_3a86_11eb_8389_0242ac1c0002row0_col6,#T_a8a2ea30_3a86_11eb_8389_0242ac1c0002row0_col7,#T_a8a2ea30_3a86_11eb_8389_0242ac1c0002row0_col8,#T_a8a2ea30_3a86_11eb_8389_0242ac1c0002row0_col9,#T_a8a2ea30_3a86_11eb_8389_0242ac1c0002row0_col10,#T_a8a2ea30_3a86_11eb_8389_0242ac1c0002row0_col11,#T_a8a2ea30_3a86_11eb_8389_0242ac1c0002row0_col12,#T_a8a2ea30_3a86_11eb_8389_0242ac1c0002row0_col13,#T_a8a2ea30_3a86_11eb_8389_0242ac1c0002row0_col14,#T_a8a2ea30_3a86_11eb_8389_0242ac1c0002row0_col15,#T_a8a2ea30_3a86_11eb_8389_0242ac1c0002row0_col16,#T_a8a2ea30_3a86_11eb_8389_0242ac1c0002row0_col17,#T_a8a2ea30_3a86_11eb_8389_0242ac1c0002row2_col0,#T_a8a2ea30_3a86_11eb_8389_0242ac1c0002row3_col0,#T_a8a2ea30_3a86_11eb_8389_0242ac1c0002row11_col1{\n",
              "            background-color:  #fff7fb;\n",
              "            color:  #000000;\n",
              "        }#T_a8a2ea30_3a86_11eb_8389_0242ac1c0002row1_col0{\n",
              "            background-color:  #cccfe5;\n",
              "            color:  #000000;\n",
              "        }#T_a8a2ea30_3a86_11eb_8389_0242ac1c0002row1_col2{\n",
              "            background-color:  #b7c5df;\n",
              "            color:  #000000;\n",
              "        }#T_a8a2ea30_3a86_11eb_8389_0242ac1c0002row1_col3,#T_a8a2ea30_3a86_11eb_8389_0242ac1c0002row2_col7,#T_a8a2ea30_3a86_11eb_8389_0242ac1c0002row2_col8,#T_a8a2ea30_3a86_11eb_8389_0242ac1c0002row4_col14,#T_a8a2ea30_3a86_11eb_8389_0242ac1c0002row4_col15{\n",
              "            background-color:  #b5c4df;\n",
              "            color:  #000000;\n",
              "        }#T_a8a2ea30_3a86_11eb_8389_0242ac1c0002row1_col4,#T_a8a2ea30_3a86_11eb_8389_0242ac1c0002row5_col0{\n",
              "            background-color:  #dad9ea;\n",
              "            color:  #000000;\n",
              "        }#T_a8a2ea30_3a86_11eb_8389_0242ac1c0002row1_col5{\n",
              "            background-color:  #dedcec;\n",
              "            color:  #000000;\n",
              "        }#T_a8a2ea30_3a86_11eb_8389_0242ac1c0002row1_col6{\n",
              "            background-color:  #b9c6e0;\n",
              "            color:  #000000;\n",
              "        }#T_a8a2ea30_3a86_11eb_8389_0242ac1c0002row1_col7,#T_a8a2ea30_3a86_11eb_8389_0242ac1c0002row1_col8,#T_a8a2ea30_3a86_11eb_8389_0242ac1c0002row14_col1,#T_a8a2ea30_3a86_11eb_8389_0242ac1c0002row15_col1{\n",
              "            background-color:  #f8f1f8;\n",
              "            color:  #000000;\n",
              "        }#T_a8a2ea30_3a86_11eb_8389_0242ac1c0002row1_col9,#T_a8a2ea30_3a86_11eb_8389_0242ac1c0002row1_col10,#T_a8a2ea30_3a86_11eb_8389_0242ac1c0002row3_col11,#T_a8a2ea30_3a86_11eb_8389_0242ac1c0002row9_col13,#T_a8a2ea30_3a86_11eb_8389_0242ac1c0002row11_col7,#T_a8a2ea30_3a86_11eb_8389_0242ac1c0002row11_col8,#T_a8a2ea30_3a86_11eb_8389_0242ac1c0002row11_col9{\n",
              "            background-color:  #dcdaeb;\n",
              "            color:  #000000;\n",
              "        }#T_a8a2ea30_3a86_11eb_8389_0242ac1c0002row1_col11,#T_a8a2ea30_3a86_11eb_8389_0242ac1c0002row6_col0,#T_a8a2ea30_3a86_11eb_8389_0242ac1c0002row7_col1,#T_a8a2ea30_3a86_11eb_8389_0242ac1c0002row8_col1,#T_a8a2ea30_3a86_11eb_8389_0242ac1c0002row16_col0{\n",
              "            background-color:  #f7f0f7;\n",
              "            color:  #000000;\n",
              "        }#T_a8a2ea30_3a86_11eb_8389_0242ac1c0002row1_col12{\n",
              "            background-color:  #f3edf5;\n",
              "            color:  #000000;\n",
              "        }#T_a8a2ea30_3a86_11eb_8389_0242ac1c0002row1_col13{\n",
              "            background-color:  #f4eef6;\n",
              "            color:  #000000;\n",
              "        }#T_a8a2ea30_3a86_11eb_8389_0242ac1c0002row1_col14,#T_a8a2ea30_3a86_11eb_8389_0242ac1c0002row1_col15{\n",
              "            background-color:  #fdf5fa;\n",
              "            color:  #000000;\n",
              "        }#T_a8a2ea30_3a86_11eb_8389_0242ac1c0002row1_col16{\n",
              "            background-color:  #c2cbe2;\n",
              "            color:  #000000;\n",
              "        }#T_a8a2ea30_3a86_11eb_8389_0242ac1c0002row1_col17,#T_a8a2ea30_3a86_11eb_8389_0242ac1c0002row2_col14,#T_a8a2ea30_3a86_11eb_8389_0242ac1c0002row2_col15{\n",
              "            background-color:  #bdc8e1;\n",
              "            color:  #000000;\n",
              "        }#T_a8a2ea30_3a86_11eb_8389_0242ac1c0002row2_col1{\n",
              "            background-color:  #e8e4f0;\n",
              "            color:  #000000;\n",
              "        }#T_a8a2ea30_3a86_11eb_8389_0242ac1c0002row2_col3,#T_a8a2ea30_3a86_11eb_8389_0242ac1c0002row3_col2{\n",
              "            background-color:  #034973;\n",
              "            color:  #f1f1f1;\n",
              "        }#T_a8a2ea30_3a86_11eb_8389_0242ac1c0002row2_col4{\n",
              "            background-color:  #4897c4;\n",
              "            color:  #000000;\n",
              "        }#T_a8a2ea30_3a86_11eb_8389_0242ac1c0002row2_col5{\n",
              "            background-color:  #4a98c5;\n",
              "            color:  #000000;\n",
              "        }#T_a8a2ea30_3a86_11eb_8389_0242ac1c0002row2_col6,#T_a8a2ea30_3a86_11eb_8389_0242ac1c0002row5_col16{\n",
              "            background-color:  #045b8f;\n",
              "            color:  #f1f1f1;\n",
              "        }#T_a8a2ea30_3a86_11eb_8389_0242ac1c0002row2_col9{\n",
              "            background-color:  #62a2cb;\n",
              "            color:  #000000;\n",
              "        }#T_a8a2ea30_3a86_11eb_8389_0242ac1c0002row2_col10,#T_a8a2ea30_3a86_11eb_8389_0242ac1c0002row14_col16,#T_a8a2ea30_3a86_11eb_8389_0242ac1c0002row15_col16,#T_a8a2ea30_3a86_11eb_8389_0242ac1c0002row17_col10{\n",
              "            background-color:  #6ba5cd;\n",
              "            color:  #000000;\n",
              "        }#T_a8a2ea30_3a86_11eb_8389_0242ac1c0002row2_col11,#T_a8a2ea30_3a86_11eb_8389_0242ac1c0002row17_col13{\n",
              "            background-color:  #dbdaeb;\n",
              "            color:  #000000;\n",
              "        }#T_a8a2ea30_3a86_11eb_8389_0242ac1c0002row2_col12,#T_a8a2ea30_3a86_11eb_8389_0242ac1c0002row6_col13,#T_a8a2ea30_3a86_11eb_8389_0242ac1c0002row10_col12,#T_a8a2ea30_3a86_11eb_8389_0242ac1c0002row11_col0,#T_a8a2ea30_3a86_11eb_8389_0242ac1c0002row13_col4,#T_a8a2ea30_3a86_11eb_8389_0242ac1c0002row13_col5{\n",
              "            background-color:  #e2dfee;\n",
              "            color:  #000000;\n",
              "        }#T_a8a2ea30_3a86_11eb_8389_0242ac1c0002row2_col13,#T_a8a2ea30_3a86_11eb_8389_0242ac1c0002row3_col13{\n",
              "            background-color:  #e1dfed;\n",
              "            color:  #000000;\n",
              "        }#T_a8a2ea30_3a86_11eb_8389_0242ac1c0002row2_col16,#T_a8a2ea30_3a86_11eb_8389_0242ac1c0002row4_col16{\n",
              "            background-color:  #0569a5;\n",
              "            color:  #f1f1f1;\n",
              "        }#T_a8a2ea30_3a86_11eb_8389_0242ac1c0002row2_col17,#T_a8a2ea30_3a86_11eb_8389_0242ac1c0002row17_col2{\n",
              "            background-color:  #0771b1;\n",
              "            color:  #f1f1f1;\n",
              "        }#T_a8a2ea30_3a86_11eb_8389_0242ac1c0002row3_col1,#T_a8a2ea30_3a86_11eb_8389_0242ac1c0002row6_col11,#T_a8a2ea30_3a86_11eb_8389_0242ac1c0002row16_col1{\n",
              "            background-color:  #e7e3f0;\n",
              "            color:  #000000;\n",
              "        }#T_a8a2ea30_3a86_11eb_8389_0242ac1c0002row3_col4,#T_a8a2ea30_3a86_11eb_8389_0242ac1c0002row7_col16,#T_a8a2ea30_3a86_11eb_8389_0242ac1c0002row8_col16{\n",
              "            background-color:  #4697c4;\n",
              "            color:  #000000;\n",
              "        }#T_a8a2ea30_3a86_11eb_8389_0242ac1c0002row3_col5{\n",
              "            background-color:  #4496c3;\n",
              "            color:  #000000;\n",
              "        }#T_a8a2ea30_3a86_11eb_8389_0242ac1c0002row3_col6{\n",
              "            background-color:  #046097;\n",
              "            color:  #f1f1f1;\n",
              "        }#T_a8a2ea30_3a86_11eb_8389_0242ac1c0002row3_col7,#T_a8a2ea30_3a86_11eb_8389_0242ac1c0002row3_col8{\n",
              "            background-color:  #b1c2de;\n",
              "            color:  #000000;\n",
              "        }#T_a8a2ea30_3a86_11eb_8389_0242ac1c0002row3_col9{\n",
              "            background-color:  #589ec8;\n",
              "            color:  #000000;\n",
              "        }#T_a8a2ea30_3a86_11eb_8389_0242ac1c0002row3_col10{\n",
              "            background-color:  #5c9fc9;\n",
              "            color:  #000000;\n",
              "        }#T_a8a2ea30_3a86_11eb_8389_0242ac1c0002row3_col12,#T_a8a2ea30_3a86_11eb_8389_0242ac1c0002row4_col1,#T_a8a2ea30_3a86_11eb_8389_0242ac1c0002row5_col12,#T_a8a2ea30_3a86_11eb_8389_0242ac1c0002row5_col13,#T_a8a2ea30_3a86_11eb_8389_0242ac1c0002row6_col12,#T_a8a2ea30_3a86_11eb_8389_0242ac1c0002row14_col11,#T_a8a2ea30_3a86_11eb_8389_0242ac1c0002row15_col11{\n",
              "            background-color:  #e3e0ee;\n",
              "            color:  #000000;\n",
              "        }#T_a8a2ea30_3a86_11eb_8389_0242ac1c0002row3_col14,#T_a8a2ea30_3a86_11eb_8389_0242ac1c0002row3_col15{\n",
              "            background-color:  #bbc7e0;\n",
              "            color:  #000000;\n",
              "        }#T_a8a2ea30_3a86_11eb_8389_0242ac1c0002row3_col16,#T_a8a2ea30_3a86_11eb_8389_0242ac1c0002row9_col10{\n",
              "            background-color:  #04639b;\n",
              "            color:  #f1f1f1;\n",
              "        }#T_a8a2ea30_3a86_11eb_8389_0242ac1c0002row3_col17{\n",
              "            background-color:  #056ba9;\n",
              "            color:  #f1f1f1;\n",
              "        }#T_a8a2ea30_3a86_11eb_8389_0242ac1c0002row4_col0,#T_a8a2ea30_3a86_11eb_8389_0242ac1c0002row5_col1,#T_a8a2ea30_3a86_11eb_8389_0242ac1c0002row6_col1,#T_a8a2ea30_3a86_11eb_8389_0242ac1c0002row12_col4,#T_a8a2ea30_3a86_11eb_8389_0242ac1c0002row12_col5,#T_a8a2ea30_3a86_11eb_8389_0242ac1c0002row13_col11{\n",
              "            background-color:  #e0deed;\n",
              "            color:  #000000;\n",
              "        }#T_a8a2ea30_3a86_11eb_8389_0242ac1c0002row4_col2{\n",
              "            background-color:  #2786bb;\n",
              "            color:  #000000;\n",
              "        }#T_a8a2ea30_3a86_11eb_8389_0242ac1c0002row4_col3{\n",
              "            background-color:  #2685bb;\n",
              "            color:  #000000;\n",
              "        }#T_a8a2ea30_3a86_11eb_8389_0242ac1c0002row4_col5,#T_a8a2ea30_3a86_11eb_8389_0242ac1c0002row6_col3{\n",
              "            background-color:  #045f95;\n",
              "            color:  #f1f1f1;\n",
              "        }#T_a8a2ea30_3a86_11eb_8389_0242ac1c0002row4_col6{\n",
              "            background-color:  #045687;\n",
              "            color:  #f1f1f1;\n",
              "        }#T_a8a2ea30_3a86_11eb_8389_0242ac1c0002row4_col7,#T_a8a2ea30_3a86_11eb_8389_0242ac1c0002row4_col8,#T_a8a2ea30_3a86_11eb_8389_0242ac1c0002row6_col7,#T_a8a2ea30_3a86_11eb_8389_0242ac1c0002row6_col8,#T_a8a2ea30_3a86_11eb_8389_0242ac1c0002row13_col16,#T_a8a2ea30_3a86_11eb_8389_0242ac1c0002row13_col17{\n",
              "            background-color:  #a8bedc;\n",
              "            color:  #000000;\n",
              "        }#T_a8a2ea30_3a86_11eb_8389_0242ac1c0002row4_col9,#T_a8a2ea30_3a86_11eb_8389_0242ac1c0002row5_col9{\n",
              "            background-color:  #308cbe;\n",
              "            color:  #000000;\n",
              "        }#T_a8a2ea30_3a86_11eb_8389_0242ac1c0002row4_col10,#T_a8a2ea30_3a86_11eb_8389_0242ac1c0002row10_col4{\n",
              "            background-color:  #4295c3;\n",
              "            color:  #000000;\n",
              "        }#T_a8a2ea30_3a86_11eb_8389_0242ac1c0002row4_col11{\n",
              "            background-color:  #f1ebf5;\n",
              "            color:  #000000;\n",
              "        }#T_a8a2ea30_3a86_11eb_8389_0242ac1c0002row4_col12{\n",
              "            background-color:  #e9e5f1;\n",
              "            color:  #000000;\n",
              "        }#T_a8a2ea30_3a86_11eb_8389_0242ac1c0002row4_col13,#T_a8a2ea30_3a86_11eb_8389_0242ac1c0002row9_col1,#T_a8a2ea30_3a86_11eb_8389_0242ac1c0002row11_col13{\n",
              "            background-color:  #eae6f1;\n",
              "            color:  #000000;\n",
              "        }#T_a8a2ea30_3a86_11eb_8389_0242ac1c0002row4_col17,#T_a8a2ea30_3a86_11eb_8389_0242ac1c0002row6_col10,#T_a8a2ea30_3a86_11eb_8389_0242ac1c0002row9_col17,#T_a8a2ea30_3a86_11eb_8389_0242ac1c0002row10_col5{\n",
              "            background-color:  #3f93c2;\n",
              "            color:  #000000;\n",
              "        }#T_a8a2ea30_3a86_11eb_8389_0242ac1c0002row5_col2{\n",
              "            background-color:  #2484ba;\n",
              "            color:  #000000;\n",
              "        }#T_a8a2ea30_3a86_11eb_8389_0242ac1c0002row5_col3{\n",
              "            background-color:  #2081b9;\n",
              "            color:  #000000;\n",
              "        }#T_a8a2ea30_3a86_11eb_8389_0242ac1c0002row5_col4{\n",
              "            background-color:  #045e94;\n",
              "            color:  #f1f1f1;\n",
              "        }#T_a8a2ea30_3a86_11eb_8389_0242ac1c0002row5_col6{\n",
              "            background-color:  #046198;\n",
              "            color:  #f1f1f1;\n",
              "        }#T_a8a2ea30_3a86_11eb_8389_0242ac1c0002row5_col7,#T_a8a2ea30_3a86_11eb_8389_0242ac1c0002row5_col8,#T_a8a2ea30_3a86_11eb_8389_0242ac1c0002row16_col11{\n",
              "            background-color:  #a5bddb;\n",
              "            color:  #000000;\n",
              "        }#T_a8a2ea30_3a86_11eb_8389_0242ac1c0002row5_col10{\n",
              "            background-color:  #3790c0;\n",
              "            color:  #000000;\n",
              "        }#T_a8a2ea30_3a86_11eb_8389_0242ac1c0002row5_col11{\n",
              "            background-color:  #ece7f2;\n",
              "            color:  #000000;\n",
              "        }#T_a8a2ea30_3a86_11eb_8389_0242ac1c0002row5_col14,#T_a8a2ea30_3a86_11eb_8389_0242ac1c0002row5_col15,#T_a8a2ea30_3a86_11eb_8389_0242ac1c0002row13_col2{\n",
              "            background-color:  #adc1dd;\n",
              "            color:  #000000;\n",
              "        }#T_a8a2ea30_3a86_11eb_8389_0242ac1c0002row5_col17,#T_a8a2ea30_3a86_11eb_8389_0242ac1c0002row10_col6{\n",
              "            background-color:  #2987bc;\n",
              "            color:  #000000;\n",
              "        }#T_a8a2ea30_3a86_11eb_8389_0242ac1c0002row6_col2{\n",
              "            background-color:  #045a8d;\n",
              "            color:  #f1f1f1;\n",
              "        }#T_a8a2ea30_3a86_11eb_8389_0242ac1c0002row6_col4{\n",
              "            background-color:  #045b8e;\n",
              "            color:  #f1f1f1;\n",
              "        }#T_a8a2ea30_3a86_11eb_8389_0242ac1c0002row6_col5,#T_a8a2ea30_3a86_11eb_8389_0242ac1c0002row16_col2{\n",
              "            background-color:  #0567a2;\n",
              "            color:  #f1f1f1;\n",
              "        }#T_a8a2ea30_3a86_11eb_8389_0242ac1c0002row6_col9{\n",
              "            background-color:  #2d8abd;\n",
              "            color:  #000000;\n",
              "        }#T_a8a2ea30_3a86_11eb_8389_0242ac1c0002row6_col14,#T_a8a2ea30_3a86_11eb_8389_0242ac1c0002row6_col15,#T_a8a2ea30_3a86_11eb_8389_0242ac1c0002row11_col3{\n",
              "            background-color:  #b4c4df;\n",
              "            color:  #000000;\n",
              "        }#T_a8a2ea30_3a86_11eb_8389_0242ac1c0002row6_col16,#T_a8a2ea30_3a86_11eb_8389_0242ac1c0002row16_col6{\n",
              "            background-color:  #04598c;\n",
              "            color:  #f1f1f1;\n",
              "        }#T_a8a2ea30_3a86_11eb_8389_0242ac1c0002row6_col17,#T_a8a2ea30_3a86_11eb_8389_0242ac1c0002row10_col16{\n",
              "            background-color:  #056caa;\n",
              "            color:  #f1f1f1;\n",
              "        }#T_a8a2ea30_3a86_11eb_8389_0242ac1c0002row7_col0,#T_a8a2ea30_3a86_11eb_8389_0242ac1c0002row8_col0{\n",
              "            background-color:  #d6d6e9;\n",
              "            color:  #000000;\n",
              "        }#T_a8a2ea30_3a86_11eb_8389_0242ac1c0002row7_col2,#T_a8a2ea30_3a86_11eb_8389_0242ac1c0002row7_col6,#T_a8a2ea30_3a86_11eb_8389_0242ac1c0002row8_col2,#T_a8a2ea30_3a86_11eb_8389_0242ac1c0002row8_col6{\n",
              "            background-color:  #7bacd1;\n",
              "            color:  #000000;\n",
              "        }#T_a8a2ea30_3a86_11eb_8389_0242ac1c0002row7_col3,#T_a8a2ea30_3a86_11eb_8389_0242ac1c0002row8_col3{\n",
              "            background-color:  #78abd0;\n",
              "            color:  #000000;\n",
              "        }#T_a8a2ea30_3a86_11eb_8389_0242ac1c0002row7_col4,#T_a8a2ea30_3a86_11eb_8389_0242ac1c0002row8_col4{\n",
              "            background-color:  #9ab8d8;\n",
              "            color:  #000000;\n",
              "        }#T_a8a2ea30_3a86_11eb_8389_0242ac1c0002row7_col5,#T_a8a2ea30_3a86_11eb_8389_0242ac1c0002row8_col5,#T_a8a2ea30_3a86_11eb_8389_0242ac1c0002row10_col14{\n",
              "            background-color:  #9fbad9;\n",
              "            color:  #000000;\n",
              "        }#T_a8a2ea30_3a86_11eb_8389_0242ac1c0002row7_col9,#T_a8a2ea30_3a86_11eb_8389_0242ac1c0002row8_col9{\n",
              "            background-color:  #71a8ce;\n",
              "            color:  #000000;\n",
              "        }#T_a8a2ea30_3a86_11eb_8389_0242ac1c0002row7_col10,#T_a8a2ea30_3a86_11eb_8389_0242ac1c0002row8_col10{\n",
              "            background-color:  #529bc7;\n",
              "            color:  #000000;\n",
              "        }#T_a8a2ea30_3a86_11eb_8389_0242ac1c0002row7_col11,#T_a8a2ea30_3a86_11eb_8389_0242ac1c0002row8_col11{\n",
              "            background-color:  #d1d2e6;\n",
              "            color:  #000000;\n",
              "        }#T_a8a2ea30_3a86_11eb_8389_0242ac1c0002row7_col12,#T_a8a2ea30_3a86_11eb_8389_0242ac1c0002row8_col12{\n",
              "            background-color:  #f0eaf4;\n",
              "            color:  #000000;\n",
              "        }#T_a8a2ea30_3a86_11eb_8389_0242ac1c0002row7_col13,#T_a8a2ea30_3a86_11eb_8389_0242ac1c0002row8_col13{\n",
              "            background-color:  #ebe6f2;\n",
              "            color:  #000000;\n",
              "        }#T_a8a2ea30_3a86_11eb_8389_0242ac1c0002row7_col14,#T_a8a2ea30_3a86_11eb_8389_0242ac1c0002row7_col15,#T_a8a2ea30_3a86_11eb_8389_0242ac1c0002row8_col14,#T_a8a2ea30_3a86_11eb_8389_0242ac1c0002row8_col15{\n",
              "            background-color:  #cacee5;\n",
              "            color:  #000000;\n",
              "        }#T_a8a2ea30_3a86_11eb_8389_0242ac1c0002row7_col17,#T_a8a2ea30_3a86_11eb_8389_0242ac1c0002row8_col17{\n",
              "            background-color:  #89b1d4;\n",
              "            color:  #000000;\n",
              "        }#T_a8a2ea30_3a86_11eb_8389_0242ac1c0002row9_col0,#T_a8a2ea30_3a86_11eb_8389_0242ac1c0002row10_col1,#T_a8a2ea30_3a86_11eb_8389_0242ac1c0002row12_col14,#T_a8a2ea30_3a86_11eb_8389_0242ac1c0002row12_col15{\n",
              "            background-color:  #e5e1ef;\n",
              "            color:  #000000;\n",
              "        }#T_a8a2ea30_3a86_11eb_8389_0242ac1c0002row9_col2{\n",
              "            background-color:  #3d93c2;\n",
              "            color:  #000000;\n",
              "        }#T_a8a2ea30_3a86_11eb_8389_0242ac1c0002row9_col3{\n",
              "            background-color:  #358fc0;\n",
              "            color:  #000000;\n",
              "        }#T_a8a2ea30_3a86_11eb_8389_0242ac1c0002row9_col4,#T_a8a2ea30_3a86_11eb_8389_0242ac1c0002row10_col3{\n",
              "            background-color:  #348ebf;\n",
              "            color:  #000000;\n",
              "        }#T_a8a2ea30_3a86_11eb_8389_0242ac1c0002row9_col5{\n",
              "            background-color:  #3991c1;\n",
              "            color:  #000000;\n",
              "        }#T_a8a2ea30_3a86_11eb_8389_0242ac1c0002row9_col6{\n",
              "            background-color:  #1e80b8;\n",
              "            color:  #000000;\n",
              "        }#T_a8a2ea30_3a86_11eb_8389_0242ac1c0002row9_col7,#T_a8a2ea30_3a86_11eb_8389_0242ac1c0002row9_col8{\n",
              "            background-color:  #83afd3;\n",
              "            color:  #000000;\n",
              "        }#T_a8a2ea30_3a86_11eb_8389_0242ac1c0002row9_col11,#T_a8a2ea30_3a86_11eb_8389_0242ac1c0002row9_col12,#T_a8a2ea30_3a86_11eb_8389_0242ac1c0002row10_col13,#T_a8a2ea30_3a86_11eb_8389_0242ac1c0002row11_col10,#T_a8a2ea30_3a86_11eb_8389_0242ac1c0002row13_col14,#T_a8a2ea30_3a86_11eb_8389_0242ac1c0002row13_col15,#T_a8a2ea30_3a86_11eb_8389_0242ac1c0002row14_col12,#T_a8a2ea30_3a86_11eb_8389_0242ac1c0002row15_col12{\n",
              "            background-color:  #dfddec;\n",
              "            color:  #000000;\n",
              "        }#T_a8a2ea30_3a86_11eb_8389_0242ac1c0002row9_col14,#T_a8a2ea30_3a86_11eb_8389_0242ac1c0002row9_col15{\n",
              "            background-color:  #b0c2de;\n",
              "            color:  #000000;\n",
              "        }#T_a8a2ea30_3a86_11eb_8389_0242ac1c0002row9_col16{\n",
              "            background-color:  #056faf;\n",
              "            color:  #f1f1f1;\n",
              "        }#T_a8a2ea30_3a86_11eb_8389_0242ac1c0002row10_col0{\n",
              "            background-color:  #e0dded;\n",
              "            color:  #000000;\n",
              "        }#T_a8a2ea30_3a86_11eb_8389_0242ac1c0002row10_col2,#T_a8a2ea30_3a86_11eb_8389_0242ac1c0002row10_col17{\n",
              "            background-color:  #4094c3;\n",
              "            color:  #000000;\n",
              "        }#T_a8a2ea30_3a86_11eb_8389_0242ac1c0002row10_col7,#T_a8a2ea30_3a86_11eb_8389_0242ac1c0002row10_col8{\n",
              "            background-color:  #5ea0ca;\n",
              "            color:  #000000;\n",
              "        }#T_a8a2ea30_3a86_11eb_8389_0242ac1c0002row10_col9,#T_a8a2ea30_3a86_11eb_8389_0242ac1c0002row16_col3{\n",
              "            background-color:  #046299;\n",
              "            color:  #f1f1f1;\n",
              "        }#T_a8a2ea30_3a86_11eb_8389_0242ac1c0002row10_col11,#T_a8a2ea30_3a86_11eb_8389_0242ac1c0002row17_col12{\n",
              "            background-color:  #dddbec;\n",
              "            color:  #000000;\n",
              "        }#T_a8a2ea30_3a86_11eb_8389_0242ac1c0002row10_col15{\n",
              "            background-color:  #a1bbda;\n",
              "            color:  #000000;\n",
              "        }#T_a8a2ea30_3a86_11eb_8389_0242ac1c0002row11_col2{\n",
              "            background-color:  #b3c3de;\n",
              "            color:  #000000;\n",
              "        }#T_a8a2ea30_3a86_11eb_8389_0242ac1c0002row11_col4,#T_a8a2ea30_3a86_11eb_8389_0242ac1c0002row11_col5,#T_a8a2ea30_3a86_11eb_8389_0242ac1c0002row11_col14,#T_a8a2ea30_3a86_11eb_8389_0242ac1c0002row11_col15,#T_a8a2ea30_3a86_11eb_8389_0242ac1c0002row12_col1{\n",
              "            background-color:  #f2ecf5;\n",
              "            color:  #000000;\n",
              "        }#T_a8a2ea30_3a86_11eb_8389_0242ac1c0002row11_col6,#T_a8a2ea30_3a86_11eb_8389_0242ac1c0002row13_col9{\n",
              "            background-color:  #d0d1e6;\n",
              "            color:  #000000;\n",
              "        }#T_a8a2ea30_3a86_11eb_8389_0242ac1c0002row11_col12{\n",
              "            background-color:  #eee9f3;\n",
              "            color:  #000000;\n",
              "        }#T_a8a2ea30_3a86_11eb_8389_0242ac1c0002row11_col16{\n",
              "            background-color:  #86b0d3;\n",
              "            color:  #000000;\n",
              "        }#T_a8a2ea30_3a86_11eb_8389_0242ac1c0002row11_col17{\n",
              "            background-color:  #6da6cd;\n",
              "            color:  #000000;\n",
              "        }#T_a8a2ea30_3a86_11eb_8389_0242ac1c0002row12_col0,#T_a8a2ea30_3a86_11eb_8389_0242ac1c0002row13_col10{\n",
              "            background-color:  #d7d6e9;\n",
              "            color:  #000000;\n",
              "        }#T_a8a2ea30_3a86_11eb_8389_0242ac1c0002row12_col2,#T_a8a2ea30_3a86_11eb_8389_0242ac1c0002row12_col3,#T_a8a2ea30_3a86_11eb_8389_0242ac1c0002row13_col3{\n",
              "            background-color:  #afc1dd;\n",
              "            color:  #000000;\n",
              "        }#T_a8a2ea30_3a86_11eb_8389_0242ac1c0002row12_col6,#T_a8a2ea30_3a86_11eb_8389_0242ac1c0002row13_col6{\n",
              "            background-color:  #bcc7e1;\n",
              "            color:  #000000;\n",
              "        }#T_a8a2ea30_3a86_11eb_8389_0242ac1c0002row12_col7,#T_a8a2ea30_3a86_11eb_8389_0242ac1c0002row12_col8{\n",
              "            background-color:  #f1ebf4;\n",
              "            color:  #000000;\n",
              "        }#T_a8a2ea30_3a86_11eb_8389_0242ac1c0002row12_col9,#T_a8a2ea30_3a86_11eb_8389_0242ac1c0002row14_col0,#T_a8a2ea30_3a86_11eb_8389_0242ac1c0002row15_col0{\n",
              "            background-color:  #d2d2e7;\n",
              "            color:  #000000;\n",
              "        }#T_a8a2ea30_3a86_11eb_8389_0242ac1c0002row12_col10,#T_a8a2ea30_3a86_11eb_8389_0242ac1c0002row13_col0{\n",
              "            background-color:  #d9d8ea;\n",
              "            color:  #000000;\n",
              "        }#T_a8a2ea30_3a86_11eb_8389_0242ac1c0002row12_col11{\n",
              "            background-color:  #e4e1ef;\n",
              "            color:  #000000;\n",
              "        }#T_a8a2ea30_3a86_11eb_8389_0242ac1c0002row12_col13,#T_a8a2ea30_3a86_11eb_8389_0242ac1c0002row13_col12{\n",
              "            background-color:  #023d60;\n",
              "            color:  #f1f1f1;\n",
              "        }#T_a8a2ea30_3a86_11eb_8389_0242ac1c0002row12_col16{\n",
              "            background-color:  #abbfdc;\n",
              "            color:  #000000;\n",
              "        }#T_a8a2ea30_3a86_11eb_8389_0242ac1c0002row12_col17{\n",
              "            background-color:  #a9bfdc;\n",
              "            color:  #000000;\n",
              "        }#T_a8a2ea30_3a86_11eb_8389_0242ac1c0002row13_col1{\n",
              "            background-color:  #f5eef6;\n",
              "            color:  #000000;\n",
              "        }#T_a8a2ea30_3a86_11eb_8389_0242ac1c0002row13_col7,#T_a8a2ea30_3a86_11eb_8389_0242ac1c0002row13_col8{\n",
              "            background-color:  #ede8f3;\n",
              "            color:  #000000;\n",
              "        }#T_a8a2ea30_3a86_11eb_8389_0242ac1c0002row14_col2,#T_a8a2ea30_3a86_11eb_8389_0242ac1c0002row15_col2{\n",
              "            background-color:  #7eadd1;\n",
              "            color:  #000000;\n",
              "        }#T_a8a2ea30_3a86_11eb_8389_0242ac1c0002row14_col3,#T_a8a2ea30_3a86_11eb_8389_0242ac1c0002row15_col3{\n",
              "            background-color:  #7dacd1;\n",
              "            color:  #000000;\n",
              "        }#T_a8a2ea30_3a86_11eb_8389_0242ac1c0002row14_col4,#T_a8a2ea30_3a86_11eb_8389_0242ac1c0002row14_col5,#T_a8a2ea30_3a86_11eb_8389_0242ac1c0002row15_col4,#T_a8a2ea30_3a86_11eb_8389_0242ac1c0002row15_col5{\n",
              "            background-color:  #a4bcda;\n",
              "            color:  #000000;\n",
              "        }#T_a8a2ea30_3a86_11eb_8389_0242ac1c0002row14_col6,#T_a8a2ea30_3a86_11eb_8389_0242ac1c0002row15_col6{\n",
              "            background-color:  #81aed2;\n",
              "            color:  #000000;\n",
              "        }#T_a8a2ea30_3a86_11eb_8389_0242ac1c0002row14_col7,#T_a8a2ea30_3a86_11eb_8389_0242ac1c0002row14_col8,#T_a8a2ea30_3a86_11eb_8389_0242ac1c0002row15_col7,#T_a8a2ea30_3a86_11eb_8389_0242ac1c0002row15_col8{\n",
              "            background-color:  #c4cbe3;\n",
              "            color:  #000000;\n",
              "        }#T_a8a2ea30_3a86_11eb_8389_0242ac1c0002row14_col9,#T_a8a2ea30_3a86_11eb_8389_0242ac1c0002row15_col9{\n",
              "            background-color:  #97b7d7;\n",
              "            color:  #000000;\n",
              "        }#T_a8a2ea30_3a86_11eb_8389_0242ac1c0002row14_col10,#T_a8a2ea30_3a86_11eb_8389_0242ac1c0002row15_col10{\n",
              "            background-color:  #8eb3d5;\n",
              "            color:  #000000;\n",
              "        }#T_a8a2ea30_3a86_11eb_8389_0242ac1c0002row14_col13,#T_a8a2ea30_3a86_11eb_8389_0242ac1c0002row15_col13{\n",
              "            background-color:  #d8d7e9;\n",
              "            color:  #000000;\n",
              "        }#T_a8a2ea30_3a86_11eb_8389_0242ac1c0002row14_col17,#T_a8a2ea30_3a86_11eb_8389_0242ac1c0002row15_col17,#T_a8a2ea30_3a86_11eb_8389_0242ac1c0002row17_col11{\n",
              "            background-color:  #94b6d7;\n",
              "            color:  #000000;\n",
              "        }#T_a8a2ea30_3a86_11eb_8389_0242ac1c0002row16_col4{\n",
              "            background-color:  #056fae;\n",
              "            color:  #f1f1f1;\n",
              "        }#T_a8a2ea30_3a86_11eb_8389_0242ac1c0002row16_col5{\n",
              "            background-color:  #046096;\n",
              "            color:  #f1f1f1;\n",
              "        }#T_a8a2ea30_3a86_11eb_8389_0242ac1c0002row16_col7,#T_a8a2ea30_3a86_11eb_8389_0242ac1c0002row16_col8{\n",
              "            background-color:  #73a9cf;\n",
              "            color:  #000000;\n",
              "        }#T_a8a2ea30_3a86_11eb_8389_0242ac1c0002row16_col9{\n",
              "            background-color:  #1077b4;\n",
              "            color:  #f1f1f1;\n",
              "        }#T_a8a2ea30_3a86_11eb_8389_0242ac1c0002row16_col10{\n",
              "            background-color:  #0a73b2;\n",
              "            color:  #f1f1f1;\n",
              "        }#T_a8a2ea30_3a86_11eb_8389_0242ac1c0002row16_col12{\n",
              "            background-color:  #d5d5e8;\n",
              "            color:  #000000;\n",
              "        }#T_a8a2ea30_3a86_11eb_8389_0242ac1c0002row16_col13,#T_a8a2ea30_3a86_11eb_8389_0242ac1c0002row17_col14,#T_a8a2ea30_3a86_11eb_8389_0242ac1c0002row17_col15{\n",
              "            background-color:  #d2d3e7;\n",
              "            color:  #000000;\n",
              "        }#T_a8a2ea30_3a86_11eb_8389_0242ac1c0002row16_col14,#T_a8a2ea30_3a86_11eb_8389_0242ac1c0002row16_col15{\n",
              "            background-color:  #9cb9d9;\n",
              "            color:  #000000;\n",
              "        }#T_a8a2ea30_3a86_11eb_8389_0242ac1c0002row16_col17{\n",
              "            background-color:  #045483;\n",
              "            color:  #f1f1f1;\n",
              "        }#T_a8a2ea30_3a86_11eb_8389_0242ac1c0002row17_col0{\n",
              "            background-color:  #fef6fa;\n",
              "            color:  #000000;\n",
              "        }#T_a8a2ea30_3a86_11eb_8389_0242ac1c0002row17_col1{\n",
              "            background-color:  #ede7f2;\n",
              "            color:  #000000;\n",
              "        }#T_a8a2ea30_3a86_11eb_8389_0242ac1c0002row17_col3{\n",
              "            background-color:  #056ba7;\n",
              "            color:  #f1f1f1;\n",
              "        }#T_a8a2ea30_3a86_11eb_8389_0242ac1c0002row17_col4{\n",
              "            background-color:  #67a4cc;\n",
              "            color:  #000000;\n",
              "        }#T_a8a2ea30_3a86_11eb_8389_0242ac1c0002row17_col5{\n",
              "            background-color:  #509ac6;\n",
              "            color:  #000000;\n",
              "        }#T_a8a2ea30_3a86_11eb_8389_0242ac1c0002row17_col6{\n",
              "            background-color:  #056ead;\n",
              "            color:  #f1f1f1;\n",
              "        }#T_a8a2ea30_3a86_11eb_8389_0242ac1c0002row17_col7,#T_a8a2ea30_3a86_11eb_8389_0242ac1c0002row17_col8{\n",
              "            background-color:  #c1cae2;\n",
              "            color:  #000000;\n",
              "        }#T_a8a2ea30_3a86_11eb_8389_0242ac1c0002row17_col9{\n",
              "            background-color:  #60a1ca;\n",
              "            color:  #000000;\n",
              "        }#T_a8a2ea30_3a86_11eb_8389_0242ac1c0002row17_col16{\n",
              "            background-color:  #045585;\n",
              "            color:  #f1f1f1;\n",
              "        }</style><table id=\"T_a8a2ea30_3a86_11eb_8389_0242ac1c0002\" ><thead>    <tr>        <th class=\"blank level0\" ></th>        <th class=\"col_heading level0 col0\" >Sector_score</th>        <th class=\"col_heading level0 col1\" >LOCATION_ID</th>        <th class=\"col_heading level0 col2\" >PARA_A</th>        <th class=\"col_heading level0 col3\" >SCORE_A</th>        <th class=\"col_heading level0 col4\" >PARA_B</th>        <th class=\"col_heading level0 col5\" >SCORE_B</th>        <th class=\"col_heading level0 col6\" >TOTAL</th>        <th class=\"col_heading level0 col7\" >numbers</th>        <th class=\"col_heading level0 col8\" >Marks</th>        <th class=\"col_heading level0 col9\" >Money_Value</th>        <th class=\"col_heading level0 col10\" >MONEY_Marks</th>        <th class=\"col_heading level0 col11\" >District</th>        <th class=\"col_heading level0 col12\" >Loss</th>        <th class=\"col_heading level0 col13\" >LOSS_SCORE</th>        <th class=\"col_heading level0 col14\" >History</th>        <th class=\"col_heading level0 col15\" >History_score</th>        <th class=\"col_heading level0 col16\" >Score</th>        <th class=\"col_heading level0 col17\" >Risk</th>    </tr></thead><tbody>\n",
              "                <tr>\n",
              "                        <th id=\"T_a8a2ea30_3a86_11eb_8389_0242ac1c0002level0_row0\" class=\"row_heading level0 row0\" >Sector_score</th>\n",
              "                        <td id=\"T_a8a2ea30_3a86_11eb_8389_0242ac1c0002row0_col0\" class=\"data row0 col0\" >1.00</td>\n",
              "                        <td id=\"T_a8a2ea30_3a86_11eb_8389_0242ac1c0002row0_col1\" class=\"data row0 col1\" >-0.02</td>\n",
              "                        <td id=\"T_a8a2ea30_3a86_11eb_8389_0242ac1c0002row0_col2\" class=\"data row0 col2\" >-0.39</td>\n",
              "                        <td id=\"T_a8a2ea30_3a86_11eb_8389_0242ac1c0002row0_col3\" class=\"data row0 col3\" >-0.38</td>\n",
              "                        <td id=\"T_a8a2ea30_3a86_11eb_8389_0242ac1c0002row0_col4\" class=\"data row0 col4\" >-0.14</td>\n",
              "                        <td id=\"T_a8a2ea30_3a86_11eb_8389_0242ac1c0002row0_col5\" class=\"data row0 col5\" >-0.10</td>\n",
              "                        <td id=\"T_a8a2ea30_3a86_11eb_8389_0242ac1c0002row0_col6\" class=\"data row0 col6\" >-0.31</td>\n",
              "                        <td id=\"T_a8a2ea30_3a86_11eb_8389_0242ac1c0002row0_col7\" class=\"data row0 col7\" >-0.07</td>\n",
              "                        <td id=\"T_a8a2ea30_3a86_11eb_8389_0242ac1c0002row0_col8\" class=\"data row0 col8\" >-0.07</td>\n",
              "                        <td id=\"T_a8a2ea30_3a86_11eb_8389_0242ac1c0002row0_col9\" class=\"data row0 col9\" >-0.17</td>\n",
              "                        <td id=\"T_a8a2ea30_3a86_11eb_8389_0242ac1c0002row0_col10\" class=\"data row0 col10\" >-0.14</td>\n",
              "                        <td id=\"T_a8a2ea30_3a86_11eb_8389_0242ac1c0002row0_col11\" class=\"data row0 col11\" >-0.15</td>\n",
              "                        <td id=\"T_a8a2ea30_3a86_11eb_8389_0242ac1c0002row0_col12\" class=\"data row0 col12\" >-0.08</td>\n",
              "                        <td id=\"T_a8a2ea30_3a86_11eb_8389_0242ac1c0002row0_col13\" class=\"data row0 col13\" >-0.09</td>\n",
              "                        <td id=\"T_a8a2ea30_3a86_11eb_8389_0242ac1c0002row0_col14\" class=\"data row0 col14\" >-0.05</td>\n",
              "                        <td id=\"T_a8a2ea30_3a86_11eb_8389_0242ac1c0002row0_col15\" class=\"data row0 col15\" >-0.05</td>\n",
              "                        <td id=\"T_a8a2ea30_3a86_11eb_8389_0242ac1c0002row0_col16\" class=\"data row0 col16\" >-0.31</td>\n",
              "                        <td id=\"T_a8a2ea30_3a86_11eb_8389_0242ac1c0002row0_col17\" class=\"data row0 col17\" >-0.37</td>\n",
              "            </tr>\n",
              "            <tr>\n",
              "                        <th id=\"T_a8a2ea30_3a86_11eb_8389_0242ac1c0002level0_row1\" class=\"row_heading level0 row1\" >LOCATION_ID</th>\n",
              "                        <td id=\"T_a8a2ea30_3a86_11eb_8389_0242ac1c0002row1_col0\" class=\"data row1 col0\" >-0.02</td>\n",
              "                        <td id=\"T_a8a2ea30_3a86_11eb_8389_0242ac1c0002row1_col1\" class=\"data row1 col1\" >1.00</td>\n",
              "                        <td id=\"T_a8a2ea30_3a86_11eb_8389_0242ac1c0002row1_col2\" class=\"data row1 col2\" >0.07</td>\n",
              "                        <td id=\"T_a8a2ea30_3a86_11eb_8389_0242ac1c0002row1_col3\" class=\"data row1 col3\" >0.07</td>\n",
              "                        <td id=\"T_a8a2ea30_3a86_11eb_8389_0242ac1c0002row1_col4\" class=\"data row1 col4\" >0.10</td>\n",
              "                        <td id=\"T_a8a2ea30_3a86_11eb_8389_0242ac1c0002row1_col5\" class=\"data row1 col5\" >0.11</td>\n",
              "                        <td id=\"T_a8a2ea30_3a86_11eb_8389_0242ac1c0002row1_col6\" class=\"data row1 col6\" >0.11</td>\n",
              "                        <td id=\"T_a8a2ea30_3a86_11eb_8389_0242ac1c0002row1_col7\" class=\"data row1 col7\" >-0.03</td>\n",
              "                        <td id=\"T_a8a2ea30_3a86_11eb_8389_0242ac1c0002row1_col8\" class=\"data row1 col8\" >-0.03</td>\n",
              "                        <td id=\"T_a8a2ea30_3a86_11eb_8389_0242ac1c0002row1_col9\" class=\"data row1 col9\" >0.06</td>\n",
              "                        <td id=\"T_a8a2ea30_3a86_11eb_8389_0242ac1c0002row1_col10\" class=\"data row1 col10\" >0.09</td>\n",
              "                        <td id=\"T_a8a2ea30_3a86_11eb_8389_0242ac1c0002row1_col11\" class=\"data row1 col11\" >-0.09</td>\n",
              "                        <td id=\"T_a8a2ea30_3a86_11eb_8389_0242ac1c0002row1_col12\" class=\"data row1 col12\" >0.00</td>\n",
              "                        <td id=\"T_a8a2ea30_3a86_11eb_8389_0242ac1c0002row1_col13\" class=\"data row1 col13\" >-0.01</td>\n",
              "                        <td id=\"T_a8a2ea30_3a86_11eb_8389_0242ac1c0002row1_col14\" class=\"data row1 col14\" >-0.03</td>\n",
              "                        <td id=\"T_a8a2ea30_3a86_11eb_8389_0242ac1c0002row1_col15\" class=\"data row1 col15\" >-0.03</td>\n",
              "                        <td id=\"T_a8a2ea30_3a86_11eb_8389_0242ac1c0002row1_col16\" class=\"data row1 col16\" >0.07</td>\n",
              "                        <td id=\"T_a8a2ea30_3a86_11eb_8389_0242ac1c0002row1_col17\" class=\"data row1 col17\" >0.05</td>\n",
              "            </tr>\n",
              "            <tr>\n",
              "                        <th id=\"T_a8a2ea30_3a86_11eb_8389_0242ac1c0002level0_row2\" class=\"row_heading level0 row2\" >PARA_A</th>\n",
              "                        <td id=\"T_a8a2ea30_3a86_11eb_8389_0242ac1c0002row2_col0\" class=\"data row2 col0\" >-0.39</td>\n",
              "                        <td id=\"T_a8a2ea30_3a86_11eb_8389_0242ac1c0002row2_col1\" class=\"data row2 col1\" >0.07</td>\n",
              "                        <td id=\"T_a8a2ea30_3a86_11eb_8389_0242ac1c0002row2_col2\" class=\"data row2 col2\" >1.00</td>\n",
              "                        <td id=\"T_a8a2ea30_3a86_11eb_8389_0242ac1c0002row2_col3\" class=\"data row2 col3\" >0.91</td>\n",
              "                        <td id=\"T_a8a2ea30_3a86_11eb_8389_0242ac1c0002row2_col4\" class=\"data row2 col4\" >0.53</td>\n",
              "                        <td id=\"T_a8a2ea30_3a86_11eb_8389_0242ac1c0002row2_col5\" class=\"data row2 col5\" >0.54</td>\n",
              "                        <td id=\"T_a8a2ea30_3a86_11eb_8389_0242ac1c0002row2_col6\" class=\"data row2 col6\" >0.82</td>\n",
              "                        <td id=\"T_a8a2ea30_3a86_11eb_8389_0242ac1c0002row2_col7\" class=\"data row2 col7\" >0.28</td>\n",
              "                        <td id=\"T_a8a2ea30_3a86_11eb_8389_0242ac1c0002row2_col8\" class=\"data row2 col8\" >0.28</td>\n",
              "                        <td id=\"T_a8a2ea30_3a86_11eb_8389_0242ac1c0002row2_col9\" class=\"data row2 col9\" >0.46</td>\n",
              "                        <td id=\"T_a8a2ea30_3a86_11eb_8389_0242ac1c0002row2_col10\" class=\"data row2 col10\" >0.45</td>\n",
              "                        <td id=\"T_a8a2ea30_3a86_11eb_8389_0242ac1c0002row2_col11\" class=\"data row2 col11\" >0.08</td>\n",
              "                        <td id=\"T_a8a2ea30_3a86_11eb_8389_0242ac1c0002row2_col12\" class=\"data row2 col12\" >0.10</td>\n",
              "                        <td id=\"T_a8a2ea30_3a86_11eb_8389_0242ac1c0002row2_col13\" class=\"data row2 col13\" >0.10</td>\n",
              "                        <td id=\"T_a8a2ea30_3a86_11eb_8389_0242ac1c0002row2_col14\" class=\"data row2 col14\" >0.27</td>\n",
              "                        <td id=\"T_a8a2ea30_3a86_11eb_8389_0242ac1c0002row2_col15\" class=\"data row2 col15\" >0.27</td>\n",
              "                        <td id=\"T_a8a2ea30_3a86_11eb_8389_0242ac1c0002row2_col16\" class=\"data row2 col16\" >0.72</td>\n",
              "                        <td id=\"T_a8a2ea30_3a86_11eb_8389_0242ac1c0002row2_col17\" class=\"data row2 col17\" >0.65</td>\n",
              "            </tr>\n",
              "            <tr>\n",
              "                        <th id=\"T_a8a2ea30_3a86_11eb_8389_0242ac1c0002level0_row3\" class=\"row_heading level0 row3\" >SCORE_A</th>\n",
              "                        <td id=\"T_a8a2ea30_3a86_11eb_8389_0242ac1c0002row3_col0\" class=\"data row3 col0\" >-0.38</td>\n",
              "                        <td id=\"T_a8a2ea30_3a86_11eb_8389_0242ac1c0002row3_col1\" class=\"data row3 col1\" >0.07</td>\n",
              "                        <td id=\"T_a8a2ea30_3a86_11eb_8389_0242ac1c0002row3_col2\" class=\"data row3 col2\" >0.91</td>\n",
              "                        <td id=\"T_a8a2ea30_3a86_11eb_8389_0242ac1c0002row3_col3\" class=\"data row3 col3\" >1.00</td>\n",
              "                        <td id=\"T_a8a2ea30_3a86_11eb_8389_0242ac1c0002row3_col4\" class=\"data row3 col4\" >0.54</td>\n",
              "                        <td id=\"T_a8a2ea30_3a86_11eb_8389_0242ac1c0002row3_col5\" class=\"data row3 col5\" >0.56</td>\n",
              "                        <td id=\"T_a8a2ea30_3a86_11eb_8389_0242ac1c0002row3_col6\" class=\"data row3 col6\" >0.79</td>\n",
              "                        <td id=\"T_a8a2ea30_3a86_11eb_8389_0242ac1c0002row3_col7\" class=\"data row3 col7\" >0.29</td>\n",
              "                        <td id=\"T_a8a2ea30_3a86_11eb_8389_0242ac1c0002row3_col8\" class=\"data row3 col8\" >0.29</td>\n",
              "                        <td id=\"T_a8a2ea30_3a86_11eb_8389_0242ac1c0002row3_col9\" class=\"data row3 col9\" >0.48</td>\n",
              "                        <td id=\"T_a8a2ea30_3a86_11eb_8389_0242ac1c0002row3_col10\" class=\"data row3 col10\" >0.49</td>\n",
              "                        <td id=\"T_a8a2ea30_3a86_11eb_8389_0242ac1c0002row3_col11\" class=\"data row3 col11\" >0.08</td>\n",
              "                        <td id=\"T_a8a2ea30_3a86_11eb_8389_0242ac1c0002row3_col12\" class=\"data row3 col12\" >0.10</td>\n",
              "                        <td id=\"T_a8a2ea30_3a86_11eb_8389_0242ac1c0002row3_col13\" class=\"data row3 col13\" >0.10</td>\n",
              "                        <td id=\"T_a8a2ea30_3a86_11eb_8389_0242ac1c0002row3_col14\" class=\"data row3 col14\" >0.28</td>\n",
              "                        <td id=\"T_a8a2ea30_3a86_11eb_8389_0242ac1c0002row3_col15\" class=\"data row3 col15\" >0.28</td>\n",
              "                        <td id=\"T_a8a2ea30_3a86_11eb_8389_0242ac1c0002row3_col16\" class=\"data row3 col16\" >0.77</td>\n",
              "                        <td id=\"T_a8a2ea30_3a86_11eb_8389_0242ac1c0002row3_col17\" class=\"data row3 col17\" >0.69</td>\n",
              "            </tr>\n",
              "            <tr>\n",
              "                        <th id=\"T_a8a2ea30_3a86_11eb_8389_0242ac1c0002level0_row4\" class=\"row_heading level0 row4\" >PARA_B</th>\n",
              "                        <td id=\"T_a8a2ea30_3a86_11eb_8389_0242ac1c0002row4_col0\" class=\"data row4 col0\" >-0.14</td>\n",
              "                        <td id=\"T_a8a2ea30_3a86_11eb_8389_0242ac1c0002row4_col1\" class=\"data row4 col1\" >0.10</td>\n",
              "                        <td id=\"T_a8a2ea30_3a86_11eb_8389_0242ac1c0002row4_col2\" class=\"data row4 col2\" >0.53</td>\n",
              "                        <td id=\"T_a8a2ea30_3a86_11eb_8389_0242ac1c0002row4_col3\" class=\"data row4 col3\" >0.54</td>\n",
              "                        <td id=\"T_a8a2ea30_3a86_11eb_8389_0242ac1c0002row4_col4\" class=\"data row4 col4\" >1.00</td>\n",
              "                        <td id=\"T_a8a2ea30_3a86_11eb_8389_0242ac1c0002row4_col5\" class=\"data row4 col5\" >0.83</td>\n",
              "                        <td id=\"T_a8a2ea30_3a86_11eb_8389_0242ac1c0002row4_col6\" class=\"data row4 col6\" >0.85</td>\n",
              "                        <td id=\"T_a8a2ea30_3a86_11eb_8389_0242ac1c0002row4_col7\" class=\"data row4 col7\" >0.32</td>\n",
              "                        <td id=\"T_a8a2ea30_3a86_11eb_8389_0242ac1c0002row4_col8\" class=\"data row4 col8\" >0.32</td>\n",
              "                        <td id=\"T_a8a2ea30_3a86_11eb_8389_0242ac1c0002row4_col9\" class=\"data row4 col9\" >0.58</td>\n",
              "                        <td id=\"T_a8a2ea30_3a86_11eb_8389_0242ac1c0002row4_col10\" class=\"data row4 col10\" >0.55</td>\n",
              "                        <td id=\"T_a8a2ea30_3a86_11eb_8389_0242ac1c0002row4_col11\" class=\"data row4 col11\" >-0.04</td>\n",
              "                        <td id=\"T_a8a2ea30_3a86_11eb_8389_0242ac1c0002row4_col12\" class=\"data row4 col12\" >0.07</td>\n",
              "                        <td id=\"T_a8a2ea30_3a86_11eb_8389_0242ac1c0002row4_col13\" class=\"data row4 col13\" >0.06</td>\n",
              "                        <td id=\"T_a8a2ea30_3a86_11eb_8389_0242ac1c0002row4_col14\" class=\"data row4 col14\" >0.30</td>\n",
              "                        <td id=\"T_a8a2ea30_3a86_11eb_8389_0242ac1c0002row4_col15\" class=\"data row4 col15\" >0.30</td>\n",
              "                        <td id=\"T_a8a2ea30_3a86_11eb_8389_0242ac1c0002row4_col16\" class=\"data row4 col16\" >0.72</td>\n",
              "                        <td id=\"T_a8a2ea30_3a86_11eb_8389_0242ac1c0002row4_col17\" class=\"data row4 col17\" >0.46</td>\n",
              "            </tr>\n",
              "            <tr>\n",
              "                        <th id=\"T_a8a2ea30_3a86_11eb_8389_0242ac1c0002level0_row5\" class=\"row_heading level0 row5\" >SCORE_B</th>\n",
              "                        <td id=\"T_a8a2ea30_3a86_11eb_8389_0242ac1c0002row5_col0\" class=\"data row5 col0\" >-0.10</td>\n",
              "                        <td id=\"T_a8a2ea30_3a86_11eb_8389_0242ac1c0002row5_col1\" class=\"data row5 col1\" >0.11</td>\n",
              "                        <td id=\"T_a8a2ea30_3a86_11eb_8389_0242ac1c0002row5_col2\" class=\"data row5 col2\" >0.54</td>\n",
              "                        <td id=\"T_a8a2ea30_3a86_11eb_8389_0242ac1c0002row5_col3\" class=\"data row5 col3\" >0.56</td>\n",
              "                        <td id=\"T_a8a2ea30_3a86_11eb_8389_0242ac1c0002row5_col4\" class=\"data row5 col4\" >0.83</td>\n",
              "                        <td id=\"T_a8a2ea30_3a86_11eb_8389_0242ac1c0002row5_col5\" class=\"data row5 col5\" >1.00</td>\n",
              "                        <td id=\"T_a8a2ea30_3a86_11eb_8389_0242ac1c0002row5_col6\" class=\"data row5 col6\" >0.78</td>\n",
              "                        <td id=\"T_a8a2ea30_3a86_11eb_8389_0242ac1c0002row5_col7\" class=\"data row5 col7\" >0.33</td>\n",
              "                        <td id=\"T_a8a2ea30_3a86_11eb_8389_0242ac1c0002row5_col8\" class=\"data row5 col8\" >0.33</td>\n",
              "                        <td id=\"T_a8a2ea30_3a86_11eb_8389_0242ac1c0002row5_col9\" class=\"data row5 col9\" >0.58</td>\n",
              "                        <td id=\"T_a8a2ea30_3a86_11eb_8389_0242ac1c0002row5_col10\" class=\"data row5 col10\" >0.57</td>\n",
              "                        <td id=\"T_a8a2ea30_3a86_11eb_8389_0242ac1c0002row5_col11\" class=\"data row5 col11\" >-0.00</td>\n",
              "                        <td id=\"T_a8a2ea30_3a86_11eb_8389_0242ac1c0002row5_col12\" class=\"data row5 col12\" >0.10</td>\n",
              "                        <td id=\"T_a8a2ea30_3a86_11eb_8389_0242ac1c0002row5_col13\" class=\"data row5 col13\" >0.09</td>\n",
              "                        <td id=\"T_a8a2ea30_3a86_11eb_8389_0242ac1c0002row5_col14\" class=\"data row5 col14\" >0.32</td>\n",
              "                        <td id=\"T_a8a2ea30_3a86_11eb_8389_0242ac1c0002row5_col15\" class=\"data row5 col15\" >0.32</td>\n",
              "                        <td id=\"T_a8a2ea30_3a86_11eb_8389_0242ac1c0002row5_col16\" class=\"data row5 col16\" >0.82</td>\n",
              "                        <td id=\"T_a8a2ea30_3a86_11eb_8389_0242ac1c0002row5_col17\" class=\"data row5 col17\" >0.53</td>\n",
              "            </tr>\n",
              "            <tr>\n",
              "                        <th id=\"T_a8a2ea30_3a86_11eb_8389_0242ac1c0002level0_row6\" class=\"row_heading level0 row6\" >TOTAL</th>\n",
              "                        <td id=\"T_a8a2ea30_3a86_11eb_8389_0242ac1c0002row6_col0\" class=\"data row6 col0\" >-0.31</td>\n",
              "                        <td id=\"T_a8a2ea30_3a86_11eb_8389_0242ac1c0002row6_col1\" class=\"data row6 col1\" >0.11</td>\n",
              "                        <td id=\"T_a8a2ea30_3a86_11eb_8389_0242ac1c0002row6_col2\" class=\"data row6 col2\" >0.82</td>\n",
              "                        <td id=\"T_a8a2ea30_3a86_11eb_8389_0242ac1c0002row6_col3\" class=\"data row6 col3\" >0.79</td>\n",
              "                        <td id=\"T_a8a2ea30_3a86_11eb_8389_0242ac1c0002row6_col4\" class=\"data row6 col4\" >0.85</td>\n",
              "                        <td id=\"T_a8a2ea30_3a86_11eb_8389_0242ac1c0002row6_col5\" class=\"data row6 col5\" >0.78</td>\n",
              "                        <td id=\"T_a8a2ea30_3a86_11eb_8389_0242ac1c0002row6_col6\" class=\"data row6 col6\" >1.00</td>\n",
              "                        <td id=\"T_a8a2ea30_3a86_11eb_8389_0242ac1c0002row6_col7\" class=\"data row6 col7\" >0.32</td>\n",
              "                        <td id=\"T_a8a2ea30_3a86_11eb_8389_0242ac1c0002row6_col8\" class=\"data row6 col8\" >0.32</td>\n",
              "                        <td id=\"T_a8a2ea30_3a86_11eb_8389_0242ac1c0002row6_col9\" class=\"data row6 col9\" >0.59</td>\n",
              "                        <td id=\"T_a8a2ea30_3a86_11eb_8389_0242ac1c0002row6_col10\" class=\"data row6 col10\" >0.55</td>\n",
              "                        <td id=\"T_a8a2ea30_3a86_11eb_8389_0242ac1c0002row6_col11\" class=\"data row6 col11\" >0.02</td>\n",
              "                        <td id=\"T_a8a2ea30_3a86_11eb_8389_0242ac1c0002row6_col12\" class=\"data row6 col12\" >0.10</td>\n",
              "                        <td id=\"T_a8a2ea30_3a86_11eb_8389_0242ac1c0002row6_col13\" class=\"data row6 col13\" >0.10</td>\n",
              "                        <td id=\"T_a8a2ea30_3a86_11eb_8389_0242ac1c0002row6_col14\" class=\"data row6 col14\" >0.30</td>\n",
              "                        <td id=\"T_a8a2ea30_3a86_11eb_8389_0242ac1c0002row6_col15\" class=\"data row6 col15\" >0.30</td>\n",
              "                        <td id=\"T_a8a2ea30_3a86_11eb_8389_0242ac1c0002row6_col16\" class=\"data row6 col16\" >0.84</td>\n",
              "                        <td id=\"T_a8a2ea30_3a86_11eb_8389_0242ac1c0002row6_col17\" class=\"data row6 col17\" >0.69</td>\n",
              "            </tr>\n",
              "            <tr>\n",
              "                        <th id=\"T_a8a2ea30_3a86_11eb_8389_0242ac1c0002level0_row7\" class=\"row_heading level0 row7\" >numbers</th>\n",
              "                        <td id=\"T_a8a2ea30_3a86_11eb_8389_0242ac1c0002row7_col0\" class=\"data row7 col0\" >-0.07</td>\n",
              "                        <td id=\"T_a8a2ea30_3a86_11eb_8389_0242ac1c0002row7_col1\" class=\"data row7 col1\" >-0.03</td>\n",
              "                        <td id=\"T_a8a2ea30_3a86_11eb_8389_0242ac1c0002row7_col2\" class=\"data row7 col2\" >0.28</td>\n",
              "                        <td id=\"T_a8a2ea30_3a86_11eb_8389_0242ac1c0002row7_col3\" class=\"data row7 col3\" >0.29</td>\n",
              "                        <td id=\"T_a8a2ea30_3a86_11eb_8389_0242ac1c0002row7_col4\" class=\"data row7 col4\" >0.32</td>\n",
              "                        <td id=\"T_a8a2ea30_3a86_11eb_8389_0242ac1c0002row7_col5\" class=\"data row7 col5\" >0.33</td>\n",
              "                        <td id=\"T_a8a2ea30_3a86_11eb_8389_0242ac1c0002row7_col6\" class=\"data row7 col6\" >0.32</td>\n",
              "                        <td id=\"T_a8a2ea30_3a86_11eb_8389_0242ac1c0002row7_col7\" class=\"data row7 col7\" >1.00</td>\n",
              "                        <td id=\"T_a8a2ea30_3a86_11eb_8389_0242ac1c0002row7_col8\" class=\"data row7 col8\" >1.00</td>\n",
              "                        <td id=\"T_a8a2ea30_3a86_11eb_8389_0242ac1c0002row7_col9\" class=\"data row7 col9\" >0.42</td>\n",
              "                        <td id=\"T_a8a2ea30_3a86_11eb_8389_0242ac1c0002row7_col10\" class=\"data row7 col10\" >0.51</td>\n",
              "                        <td id=\"T_a8a2ea30_3a86_11eb_8389_0242ac1c0002row7_col11\" class=\"data row7 col11\" >0.14</td>\n",
              "                        <td id=\"T_a8a2ea30_3a86_11eb_8389_0242ac1c0002row7_col12\" class=\"data row7 col12\" >0.03</td>\n",
              "                        <td id=\"T_a8a2ea30_3a86_11eb_8389_0242ac1c0002row7_col13\" class=\"data row7 col13\" >0.05</td>\n",
              "                        <td id=\"T_a8a2ea30_3a86_11eb_8389_0242ac1c0002row7_col14\" class=\"data row7 col14\" >0.23</td>\n",
              "                        <td id=\"T_a8a2ea30_3a86_11eb_8389_0242ac1c0002row7_col15\" class=\"data row7 col15\" >0.23</td>\n",
              "                        <td id=\"T_a8a2ea30_3a86_11eb_8389_0242ac1c0002row7_col16\" class=\"data row7 col16\" >0.46</td>\n",
              "                        <td id=\"T_a8a2ea30_3a86_11eb_8389_0242ac1c0002row7_col17\" class=\"data row7 col17\" >0.24</td>\n",
              "            </tr>\n",
              "            <tr>\n",
              "                        <th id=\"T_a8a2ea30_3a86_11eb_8389_0242ac1c0002level0_row8\" class=\"row_heading level0 row8\" >Marks</th>\n",
              "                        <td id=\"T_a8a2ea30_3a86_11eb_8389_0242ac1c0002row8_col0\" class=\"data row8 col0\" >-0.07</td>\n",
              "                        <td id=\"T_a8a2ea30_3a86_11eb_8389_0242ac1c0002row8_col1\" class=\"data row8 col1\" >-0.03</td>\n",
              "                        <td id=\"T_a8a2ea30_3a86_11eb_8389_0242ac1c0002row8_col2\" class=\"data row8 col2\" >0.28</td>\n",
              "                        <td id=\"T_a8a2ea30_3a86_11eb_8389_0242ac1c0002row8_col3\" class=\"data row8 col3\" >0.29</td>\n",
              "                        <td id=\"T_a8a2ea30_3a86_11eb_8389_0242ac1c0002row8_col4\" class=\"data row8 col4\" >0.32</td>\n",
              "                        <td id=\"T_a8a2ea30_3a86_11eb_8389_0242ac1c0002row8_col5\" class=\"data row8 col5\" >0.33</td>\n",
              "                        <td id=\"T_a8a2ea30_3a86_11eb_8389_0242ac1c0002row8_col6\" class=\"data row8 col6\" >0.32</td>\n",
              "                        <td id=\"T_a8a2ea30_3a86_11eb_8389_0242ac1c0002row8_col7\" class=\"data row8 col7\" >1.00</td>\n",
              "                        <td id=\"T_a8a2ea30_3a86_11eb_8389_0242ac1c0002row8_col8\" class=\"data row8 col8\" >1.00</td>\n",
              "                        <td id=\"T_a8a2ea30_3a86_11eb_8389_0242ac1c0002row8_col9\" class=\"data row8 col9\" >0.42</td>\n",
              "                        <td id=\"T_a8a2ea30_3a86_11eb_8389_0242ac1c0002row8_col10\" class=\"data row8 col10\" >0.51</td>\n",
              "                        <td id=\"T_a8a2ea30_3a86_11eb_8389_0242ac1c0002row8_col11\" class=\"data row8 col11\" >0.14</td>\n",
              "                        <td id=\"T_a8a2ea30_3a86_11eb_8389_0242ac1c0002row8_col12\" class=\"data row8 col12\" >0.03</td>\n",
              "                        <td id=\"T_a8a2ea30_3a86_11eb_8389_0242ac1c0002row8_col13\" class=\"data row8 col13\" >0.05</td>\n",
              "                        <td id=\"T_a8a2ea30_3a86_11eb_8389_0242ac1c0002row8_col14\" class=\"data row8 col14\" >0.23</td>\n",
              "                        <td id=\"T_a8a2ea30_3a86_11eb_8389_0242ac1c0002row8_col15\" class=\"data row8 col15\" >0.23</td>\n",
              "                        <td id=\"T_a8a2ea30_3a86_11eb_8389_0242ac1c0002row8_col16\" class=\"data row8 col16\" >0.46</td>\n",
              "                        <td id=\"T_a8a2ea30_3a86_11eb_8389_0242ac1c0002row8_col17\" class=\"data row8 col17\" >0.24</td>\n",
              "            </tr>\n",
              "            <tr>\n",
              "                        <th id=\"T_a8a2ea30_3a86_11eb_8389_0242ac1c0002level0_row9\" class=\"row_heading level0 row9\" >Money_Value</th>\n",
              "                        <td id=\"T_a8a2ea30_3a86_11eb_8389_0242ac1c0002row9_col0\" class=\"data row9 col0\" >-0.17</td>\n",
              "                        <td id=\"T_a8a2ea30_3a86_11eb_8389_0242ac1c0002row9_col1\" class=\"data row9 col1\" >0.06</td>\n",
              "                        <td id=\"T_a8a2ea30_3a86_11eb_8389_0242ac1c0002row9_col2\" class=\"data row9 col2\" >0.46</td>\n",
              "                        <td id=\"T_a8a2ea30_3a86_11eb_8389_0242ac1c0002row9_col3\" class=\"data row9 col3\" >0.48</td>\n",
              "                        <td id=\"T_a8a2ea30_3a86_11eb_8389_0242ac1c0002row9_col4\" class=\"data row9 col4\" >0.58</td>\n",
              "                        <td id=\"T_a8a2ea30_3a86_11eb_8389_0242ac1c0002row9_col5\" class=\"data row9 col5\" >0.58</td>\n",
              "                        <td id=\"T_a8a2ea30_3a86_11eb_8389_0242ac1c0002row9_col6\" class=\"data row9 col6\" >0.59</td>\n",
              "                        <td id=\"T_a8a2ea30_3a86_11eb_8389_0242ac1c0002row9_col7\" class=\"data row9 col7\" >0.42</td>\n",
              "                        <td id=\"T_a8a2ea30_3a86_11eb_8389_0242ac1c0002row9_col8\" class=\"data row9 col8\" >0.42</td>\n",
              "                        <td id=\"T_a8a2ea30_3a86_11eb_8389_0242ac1c0002row9_col9\" class=\"data row9 col9\" >1.00</td>\n",
              "                        <td id=\"T_a8a2ea30_3a86_11eb_8389_0242ac1c0002row9_col10\" class=\"data row9 col10\" >0.80</td>\n",
              "                        <td id=\"T_a8a2ea30_3a86_11eb_8389_0242ac1c0002row9_col11\" class=\"data row9 col11\" >0.06</td>\n",
              "                        <td id=\"T_a8a2ea30_3a86_11eb_8389_0242ac1c0002row9_col12\" class=\"data row9 col12\" >0.12</td>\n",
              "                        <td id=\"T_a8a2ea30_3a86_11eb_8389_0242ac1c0002row9_col13\" class=\"data row9 col13\" >0.13</td>\n",
              "                        <td id=\"T_a8a2ea30_3a86_11eb_8389_0242ac1c0002row9_col14\" class=\"data row9 col14\" >0.31</td>\n",
              "                        <td id=\"T_a8a2ea30_3a86_11eb_8389_0242ac1c0002row9_col15\" class=\"data row9 col15\" >0.31</td>\n",
              "                        <td id=\"T_a8a2ea30_3a86_11eb_8389_0242ac1c0002row9_col16\" class=\"data row9 col16\" >0.68</td>\n",
              "                        <td id=\"T_a8a2ea30_3a86_11eb_8389_0242ac1c0002row9_col17\" class=\"data row9 col17\" >0.46</td>\n",
              "            </tr>\n",
              "            <tr>\n",
              "                        <th id=\"T_a8a2ea30_3a86_11eb_8389_0242ac1c0002level0_row10\" class=\"row_heading level0 row10\" >MONEY_Marks</th>\n",
              "                        <td id=\"T_a8a2ea30_3a86_11eb_8389_0242ac1c0002row10_col0\" class=\"data row10 col0\" >-0.14</td>\n",
              "                        <td id=\"T_a8a2ea30_3a86_11eb_8389_0242ac1c0002row10_col1\" class=\"data row10 col1\" >0.09</td>\n",
              "                        <td id=\"T_a8a2ea30_3a86_11eb_8389_0242ac1c0002row10_col2\" class=\"data row10 col2\" >0.45</td>\n",
              "                        <td id=\"T_a8a2ea30_3a86_11eb_8389_0242ac1c0002row10_col3\" class=\"data row10 col3\" >0.49</td>\n",
              "                        <td id=\"T_a8a2ea30_3a86_11eb_8389_0242ac1c0002row10_col4\" class=\"data row10 col4\" >0.55</td>\n",
              "                        <td id=\"T_a8a2ea30_3a86_11eb_8389_0242ac1c0002row10_col5\" class=\"data row10 col5\" >0.57</td>\n",
              "                        <td id=\"T_a8a2ea30_3a86_11eb_8389_0242ac1c0002row10_col6\" class=\"data row10 col6\" >0.55</td>\n",
              "                        <td id=\"T_a8a2ea30_3a86_11eb_8389_0242ac1c0002row10_col7\" class=\"data row10 col7\" >0.51</td>\n",
              "                        <td id=\"T_a8a2ea30_3a86_11eb_8389_0242ac1c0002row10_col8\" class=\"data row10 col8\" >0.51</td>\n",
              "                        <td id=\"T_a8a2ea30_3a86_11eb_8389_0242ac1c0002row10_col9\" class=\"data row10 col9\" >0.80</td>\n",
              "                        <td id=\"T_a8a2ea30_3a86_11eb_8389_0242ac1c0002row10_col10\" class=\"data row10 col10\" >1.00</td>\n",
              "                        <td id=\"T_a8a2ea30_3a86_11eb_8389_0242ac1c0002row10_col11\" class=\"data row10 col11\" >0.08</td>\n",
              "                        <td id=\"T_a8a2ea30_3a86_11eb_8389_0242ac1c0002row10_col12\" class=\"data row10 col12\" >0.10</td>\n",
              "                        <td id=\"T_a8a2ea30_3a86_11eb_8389_0242ac1c0002row10_col13\" class=\"data row10 col13\" >0.11</td>\n",
              "                        <td id=\"T_a8a2ea30_3a86_11eb_8389_0242ac1c0002row10_col14\" class=\"data row10 col14\" >0.36</td>\n",
              "                        <td id=\"T_a8a2ea30_3a86_11eb_8389_0242ac1c0002row10_col15\" class=\"data row10 col15\" >0.36</td>\n",
              "                        <td id=\"T_a8a2ea30_3a86_11eb_8389_0242ac1c0002row10_col16\" class=\"data row10 col16\" >0.70</td>\n",
              "                        <td id=\"T_a8a2ea30_3a86_11eb_8389_0242ac1c0002row10_col17\" class=\"data row10 col17\" >0.45</td>\n",
              "            </tr>\n",
              "            <tr>\n",
              "                        <th id=\"T_a8a2ea30_3a86_11eb_8389_0242ac1c0002level0_row11\" class=\"row_heading level0 row11\" >District</th>\n",
              "                        <td id=\"T_a8a2ea30_3a86_11eb_8389_0242ac1c0002row11_col0\" class=\"data row11 col0\" >-0.15</td>\n",
              "                        <td id=\"T_a8a2ea30_3a86_11eb_8389_0242ac1c0002row11_col1\" class=\"data row11 col1\" >-0.09</td>\n",
              "                        <td id=\"T_a8a2ea30_3a86_11eb_8389_0242ac1c0002row11_col2\" class=\"data row11 col2\" >0.08</td>\n",
              "                        <td id=\"T_a8a2ea30_3a86_11eb_8389_0242ac1c0002row11_col3\" class=\"data row11 col3\" >0.08</td>\n",
              "                        <td id=\"T_a8a2ea30_3a86_11eb_8389_0242ac1c0002row11_col4\" class=\"data row11 col4\" >-0.04</td>\n",
              "                        <td id=\"T_a8a2ea30_3a86_11eb_8389_0242ac1c0002row11_col5\" class=\"data row11 col5\" >-0.00</td>\n",
              "                        <td id=\"T_a8a2ea30_3a86_11eb_8389_0242ac1c0002row11_col6\" class=\"data row11 col6\" >0.02</td>\n",
              "                        <td id=\"T_a8a2ea30_3a86_11eb_8389_0242ac1c0002row11_col7\" class=\"data row11 col7\" >0.14</td>\n",
              "                        <td id=\"T_a8a2ea30_3a86_11eb_8389_0242ac1c0002row11_col8\" class=\"data row11 col8\" >0.14</td>\n",
              "                        <td id=\"T_a8a2ea30_3a86_11eb_8389_0242ac1c0002row11_col9\" class=\"data row11 col9\" >0.06</td>\n",
              "                        <td id=\"T_a8a2ea30_3a86_11eb_8389_0242ac1c0002row11_col10\" class=\"data row11 col10\" >0.08</td>\n",
              "                        <td id=\"T_a8a2ea30_3a86_11eb_8389_0242ac1c0002row11_col11\" class=\"data row11 col11\" >1.00</td>\n",
              "                        <td id=\"T_a8a2ea30_3a86_11eb_8389_0242ac1c0002row11_col12\" class=\"data row11 col12\" >0.04</td>\n",
              "                        <td id=\"T_a8a2ea30_3a86_11eb_8389_0242ac1c0002row11_col13\" class=\"data row11 col13\" >0.06</td>\n",
              "                        <td id=\"T_a8a2ea30_3a86_11eb_8389_0242ac1c0002row11_col14\" class=\"data row11 col14\" >0.04</td>\n",
              "                        <td id=\"T_a8a2ea30_3a86_11eb_8389_0242ac1c0002row11_col15\" class=\"data row11 col15\" >0.04</td>\n",
              "                        <td id=\"T_a8a2ea30_3a86_11eb_8389_0242ac1c0002row11_col16\" class=\"data row11 col16\" >0.28</td>\n",
              "                        <td id=\"T_a8a2ea30_3a86_11eb_8389_0242ac1c0002row11_col17\" class=\"data row11 col17\" >0.33</td>\n",
              "            </tr>\n",
              "            <tr>\n",
              "                        <th id=\"T_a8a2ea30_3a86_11eb_8389_0242ac1c0002level0_row12\" class=\"row_heading level0 row12\" >Loss</th>\n",
              "                        <td id=\"T_a8a2ea30_3a86_11eb_8389_0242ac1c0002row12_col0\" class=\"data row12 col0\" >-0.08</td>\n",
              "                        <td id=\"T_a8a2ea30_3a86_11eb_8389_0242ac1c0002row12_col1\" class=\"data row12 col1\" >0.00</td>\n",
              "                        <td id=\"T_a8a2ea30_3a86_11eb_8389_0242ac1c0002row12_col2\" class=\"data row12 col2\" >0.10</td>\n",
              "                        <td id=\"T_a8a2ea30_3a86_11eb_8389_0242ac1c0002row12_col3\" class=\"data row12 col3\" >0.10</td>\n",
              "                        <td id=\"T_a8a2ea30_3a86_11eb_8389_0242ac1c0002row12_col4\" class=\"data row12 col4\" >0.07</td>\n",
              "                        <td id=\"T_a8a2ea30_3a86_11eb_8389_0242ac1c0002row12_col5\" class=\"data row12 col5\" >0.10</td>\n",
              "                        <td id=\"T_a8a2ea30_3a86_11eb_8389_0242ac1c0002row12_col6\" class=\"data row12 col6\" >0.10</td>\n",
              "                        <td id=\"T_a8a2ea30_3a86_11eb_8389_0242ac1c0002row12_col7\" class=\"data row12 col7\" >0.03</td>\n",
              "                        <td id=\"T_a8a2ea30_3a86_11eb_8389_0242ac1c0002row12_col8\" class=\"data row12 col8\" >0.03</td>\n",
              "                        <td id=\"T_a8a2ea30_3a86_11eb_8389_0242ac1c0002row12_col9\" class=\"data row12 col9\" >0.12</td>\n",
              "                        <td id=\"T_a8a2ea30_3a86_11eb_8389_0242ac1c0002row12_col10\" class=\"data row12 col10\" >0.10</td>\n",
              "                        <td id=\"T_a8a2ea30_3a86_11eb_8389_0242ac1c0002row12_col11\" class=\"data row12 col11\" >0.04</td>\n",
              "                        <td id=\"T_a8a2ea30_3a86_11eb_8389_0242ac1c0002row12_col12\" class=\"data row12 col12\" >1.00</td>\n",
              "                        <td id=\"T_a8a2ea30_3a86_11eb_8389_0242ac1c0002row12_col13\" class=\"data row12 col13\" >0.98</td>\n",
              "                        <td id=\"T_a8a2ea30_3a86_11eb_8389_0242ac1c0002row12_col14\" class=\"data row12 col14\" >0.12</td>\n",
              "                        <td id=\"T_a8a2ea30_3a86_11eb_8389_0242ac1c0002row12_col15\" class=\"data row12 col15\" >0.12</td>\n",
              "                        <td id=\"T_a8a2ea30_3a86_11eb_8389_0242ac1c0002row12_col16\" class=\"data row12 col16\" >0.17</td>\n",
              "                        <td id=\"T_a8a2ea30_3a86_11eb_8389_0242ac1c0002row12_col17\" class=\"data row12 col17\" >0.13</td>\n",
              "            </tr>\n",
              "            <tr>\n",
              "                        <th id=\"T_a8a2ea30_3a86_11eb_8389_0242ac1c0002level0_row13\" class=\"row_heading level0 row13\" >LOSS_SCORE</th>\n",
              "                        <td id=\"T_a8a2ea30_3a86_11eb_8389_0242ac1c0002row13_col0\" class=\"data row13 col0\" >-0.09</td>\n",
              "                        <td id=\"T_a8a2ea30_3a86_11eb_8389_0242ac1c0002row13_col1\" class=\"data row13 col1\" >-0.01</td>\n",
              "                        <td id=\"T_a8a2ea30_3a86_11eb_8389_0242ac1c0002row13_col2\" class=\"data row13 col2\" >0.10</td>\n",
              "                        <td id=\"T_a8a2ea30_3a86_11eb_8389_0242ac1c0002row13_col3\" class=\"data row13 col3\" >0.10</td>\n",
              "                        <td id=\"T_a8a2ea30_3a86_11eb_8389_0242ac1c0002row13_col4\" class=\"data row13 col4\" >0.06</td>\n",
              "                        <td id=\"T_a8a2ea30_3a86_11eb_8389_0242ac1c0002row13_col5\" class=\"data row13 col5\" >0.09</td>\n",
              "                        <td id=\"T_a8a2ea30_3a86_11eb_8389_0242ac1c0002row13_col6\" class=\"data row13 col6\" >0.10</td>\n",
              "                        <td id=\"T_a8a2ea30_3a86_11eb_8389_0242ac1c0002row13_col7\" class=\"data row13 col7\" >0.05</td>\n",
              "                        <td id=\"T_a8a2ea30_3a86_11eb_8389_0242ac1c0002row13_col8\" class=\"data row13 col8\" >0.05</td>\n",
              "                        <td id=\"T_a8a2ea30_3a86_11eb_8389_0242ac1c0002row13_col9\" class=\"data row13 col9\" >0.13</td>\n",
              "                        <td id=\"T_a8a2ea30_3a86_11eb_8389_0242ac1c0002row13_col10\" class=\"data row13 col10\" >0.11</td>\n",
              "                        <td id=\"T_a8a2ea30_3a86_11eb_8389_0242ac1c0002row13_col11\" class=\"data row13 col11\" >0.06</td>\n",
              "                        <td id=\"T_a8a2ea30_3a86_11eb_8389_0242ac1c0002row13_col12\" class=\"data row13 col12\" >0.98</td>\n",
              "                        <td id=\"T_a8a2ea30_3a86_11eb_8389_0242ac1c0002row13_col13\" class=\"data row13 col13\" >1.00</td>\n",
              "                        <td id=\"T_a8a2ea30_3a86_11eb_8389_0242ac1c0002row13_col14\" class=\"data row13 col14\" >0.15</td>\n",
              "                        <td id=\"T_a8a2ea30_3a86_11eb_8389_0242ac1c0002row13_col15\" class=\"data row13 col15\" >0.15</td>\n",
              "                        <td id=\"T_a8a2ea30_3a86_11eb_8389_0242ac1c0002row13_col16\" class=\"data row13 col16\" >0.17</td>\n",
              "                        <td id=\"T_a8a2ea30_3a86_11eb_8389_0242ac1c0002row13_col17\" class=\"data row13 col17\" >0.13</td>\n",
              "            </tr>\n",
              "            <tr>\n",
              "                        <th id=\"T_a8a2ea30_3a86_11eb_8389_0242ac1c0002level0_row14\" class=\"row_heading level0 row14\" >History</th>\n",
              "                        <td id=\"T_a8a2ea30_3a86_11eb_8389_0242ac1c0002row14_col0\" class=\"data row14 col0\" >-0.05</td>\n",
              "                        <td id=\"T_a8a2ea30_3a86_11eb_8389_0242ac1c0002row14_col1\" class=\"data row14 col1\" >-0.03</td>\n",
              "                        <td id=\"T_a8a2ea30_3a86_11eb_8389_0242ac1c0002row14_col2\" class=\"data row14 col2\" >0.27</td>\n",
              "                        <td id=\"T_a8a2ea30_3a86_11eb_8389_0242ac1c0002row14_col3\" class=\"data row14 col3\" >0.28</td>\n",
              "                        <td id=\"T_a8a2ea30_3a86_11eb_8389_0242ac1c0002row14_col4\" class=\"data row14 col4\" >0.30</td>\n",
              "                        <td id=\"T_a8a2ea30_3a86_11eb_8389_0242ac1c0002row14_col5\" class=\"data row14 col5\" >0.32</td>\n",
              "                        <td id=\"T_a8a2ea30_3a86_11eb_8389_0242ac1c0002row14_col6\" class=\"data row14 col6\" >0.30</td>\n",
              "                        <td id=\"T_a8a2ea30_3a86_11eb_8389_0242ac1c0002row14_col7\" class=\"data row14 col7\" >0.23</td>\n",
              "                        <td id=\"T_a8a2ea30_3a86_11eb_8389_0242ac1c0002row14_col8\" class=\"data row14 col8\" >0.23</td>\n",
              "                        <td id=\"T_a8a2ea30_3a86_11eb_8389_0242ac1c0002row14_col9\" class=\"data row14 col9\" >0.31</td>\n",
              "                        <td id=\"T_a8a2ea30_3a86_11eb_8389_0242ac1c0002row14_col10\" class=\"data row14 col10\" >0.36</td>\n",
              "                        <td id=\"T_a8a2ea30_3a86_11eb_8389_0242ac1c0002row14_col11\" class=\"data row14 col11\" >0.04</td>\n",
              "                        <td id=\"T_a8a2ea30_3a86_11eb_8389_0242ac1c0002row14_col12\" class=\"data row14 col12\" >0.12</td>\n",
              "                        <td id=\"T_a8a2ea30_3a86_11eb_8389_0242ac1c0002row14_col13\" class=\"data row14 col13\" >0.15</td>\n",
              "                        <td id=\"T_a8a2ea30_3a86_11eb_8389_0242ac1c0002row14_col14\" class=\"data row14 col14\" >1.00</td>\n",
              "                        <td id=\"T_a8a2ea30_3a86_11eb_8389_0242ac1c0002row14_col15\" class=\"data row14 col15\" >1.00</td>\n",
              "                        <td id=\"T_a8a2ea30_3a86_11eb_8389_0242ac1c0002row14_col16\" class=\"data row14 col16\" >0.37</td>\n",
              "                        <td id=\"T_a8a2ea30_3a86_11eb_8389_0242ac1c0002row14_col17\" class=\"data row14 col17\" >0.20</td>\n",
              "            </tr>\n",
              "            <tr>\n",
              "                        <th id=\"T_a8a2ea30_3a86_11eb_8389_0242ac1c0002level0_row15\" class=\"row_heading level0 row15\" >History_score</th>\n",
              "                        <td id=\"T_a8a2ea30_3a86_11eb_8389_0242ac1c0002row15_col0\" class=\"data row15 col0\" >-0.05</td>\n",
              "                        <td id=\"T_a8a2ea30_3a86_11eb_8389_0242ac1c0002row15_col1\" class=\"data row15 col1\" >-0.03</td>\n",
              "                        <td id=\"T_a8a2ea30_3a86_11eb_8389_0242ac1c0002row15_col2\" class=\"data row15 col2\" >0.27</td>\n",
              "                        <td id=\"T_a8a2ea30_3a86_11eb_8389_0242ac1c0002row15_col3\" class=\"data row15 col3\" >0.28</td>\n",
              "                        <td id=\"T_a8a2ea30_3a86_11eb_8389_0242ac1c0002row15_col4\" class=\"data row15 col4\" >0.30</td>\n",
              "                        <td id=\"T_a8a2ea30_3a86_11eb_8389_0242ac1c0002row15_col5\" class=\"data row15 col5\" >0.32</td>\n",
              "                        <td id=\"T_a8a2ea30_3a86_11eb_8389_0242ac1c0002row15_col6\" class=\"data row15 col6\" >0.30</td>\n",
              "                        <td id=\"T_a8a2ea30_3a86_11eb_8389_0242ac1c0002row15_col7\" class=\"data row15 col7\" >0.23</td>\n",
              "                        <td id=\"T_a8a2ea30_3a86_11eb_8389_0242ac1c0002row15_col8\" class=\"data row15 col8\" >0.23</td>\n",
              "                        <td id=\"T_a8a2ea30_3a86_11eb_8389_0242ac1c0002row15_col9\" class=\"data row15 col9\" >0.31</td>\n",
              "                        <td id=\"T_a8a2ea30_3a86_11eb_8389_0242ac1c0002row15_col10\" class=\"data row15 col10\" >0.36</td>\n",
              "                        <td id=\"T_a8a2ea30_3a86_11eb_8389_0242ac1c0002row15_col11\" class=\"data row15 col11\" >0.04</td>\n",
              "                        <td id=\"T_a8a2ea30_3a86_11eb_8389_0242ac1c0002row15_col12\" class=\"data row15 col12\" >0.12</td>\n",
              "                        <td id=\"T_a8a2ea30_3a86_11eb_8389_0242ac1c0002row15_col13\" class=\"data row15 col13\" >0.15</td>\n",
              "                        <td id=\"T_a8a2ea30_3a86_11eb_8389_0242ac1c0002row15_col14\" class=\"data row15 col14\" >1.00</td>\n",
              "                        <td id=\"T_a8a2ea30_3a86_11eb_8389_0242ac1c0002row15_col15\" class=\"data row15 col15\" >1.00</td>\n",
              "                        <td id=\"T_a8a2ea30_3a86_11eb_8389_0242ac1c0002row15_col16\" class=\"data row15 col16\" >0.37</td>\n",
              "                        <td id=\"T_a8a2ea30_3a86_11eb_8389_0242ac1c0002row15_col17\" class=\"data row15 col17\" >0.20</td>\n",
              "            </tr>\n",
              "            <tr>\n",
              "                        <th id=\"T_a8a2ea30_3a86_11eb_8389_0242ac1c0002level0_row16\" class=\"row_heading level0 row16\" >Score</th>\n",
              "                        <td id=\"T_a8a2ea30_3a86_11eb_8389_0242ac1c0002row16_col0\" class=\"data row16 col0\" >-0.31</td>\n",
              "                        <td id=\"T_a8a2ea30_3a86_11eb_8389_0242ac1c0002row16_col1\" class=\"data row16 col1\" >0.07</td>\n",
              "                        <td id=\"T_a8a2ea30_3a86_11eb_8389_0242ac1c0002row16_col2\" class=\"data row16 col2\" >0.72</td>\n",
              "                        <td id=\"T_a8a2ea30_3a86_11eb_8389_0242ac1c0002row16_col3\" class=\"data row16 col3\" >0.77</td>\n",
              "                        <td id=\"T_a8a2ea30_3a86_11eb_8389_0242ac1c0002row16_col4\" class=\"data row16 col4\" >0.72</td>\n",
              "                        <td id=\"T_a8a2ea30_3a86_11eb_8389_0242ac1c0002row16_col5\" class=\"data row16 col5\" >0.82</td>\n",
              "                        <td id=\"T_a8a2ea30_3a86_11eb_8389_0242ac1c0002row16_col6\" class=\"data row16 col6\" >0.84</td>\n",
              "                        <td id=\"T_a8a2ea30_3a86_11eb_8389_0242ac1c0002row16_col7\" class=\"data row16 col7\" >0.46</td>\n",
              "                        <td id=\"T_a8a2ea30_3a86_11eb_8389_0242ac1c0002row16_col8\" class=\"data row16 col8\" >0.46</td>\n",
              "                        <td id=\"T_a8a2ea30_3a86_11eb_8389_0242ac1c0002row16_col9\" class=\"data row16 col9\" >0.68</td>\n",
              "                        <td id=\"T_a8a2ea30_3a86_11eb_8389_0242ac1c0002row16_col10\" class=\"data row16 col10\" >0.70</td>\n",
              "                        <td id=\"T_a8a2ea30_3a86_11eb_8389_0242ac1c0002row16_col11\" class=\"data row16 col11\" >0.28</td>\n",
              "                        <td id=\"T_a8a2ea30_3a86_11eb_8389_0242ac1c0002row16_col12\" class=\"data row16 col12\" >0.17</td>\n",
              "                        <td id=\"T_a8a2ea30_3a86_11eb_8389_0242ac1c0002row16_col13\" class=\"data row16 col13\" >0.17</td>\n",
              "                        <td id=\"T_a8a2ea30_3a86_11eb_8389_0242ac1c0002row16_col14\" class=\"data row16 col14\" >0.37</td>\n",
              "                        <td id=\"T_a8a2ea30_3a86_11eb_8389_0242ac1c0002row16_col15\" class=\"data row16 col15\" >0.37</td>\n",
              "                        <td id=\"T_a8a2ea30_3a86_11eb_8389_0242ac1c0002row16_col16\" class=\"data row16 col16\" >1.00</td>\n",
              "                        <td id=\"T_a8a2ea30_3a86_11eb_8389_0242ac1c0002row16_col17\" class=\"data row16 col17\" >0.86</td>\n",
              "            </tr>\n",
              "            <tr>\n",
              "                        <th id=\"T_a8a2ea30_3a86_11eb_8389_0242ac1c0002level0_row17\" class=\"row_heading level0 row17\" >Risk</th>\n",
              "                        <td id=\"T_a8a2ea30_3a86_11eb_8389_0242ac1c0002row17_col0\" class=\"data row17 col0\" >-0.37</td>\n",
              "                        <td id=\"T_a8a2ea30_3a86_11eb_8389_0242ac1c0002row17_col1\" class=\"data row17 col1\" >0.05</td>\n",
              "                        <td id=\"T_a8a2ea30_3a86_11eb_8389_0242ac1c0002row17_col2\" class=\"data row17 col2\" >0.65</td>\n",
              "                        <td id=\"T_a8a2ea30_3a86_11eb_8389_0242ac1c0002row17_col3\" class=\"data row17 col3\" >0.69</td>\n",
              "                        <td id=\"T_a8a2ea30_3a86_11eb_8389_0242ac1c0002row17_col4\" class=\"data row17 col4\" >0.46</td>\n",
              "                        <td id=\"T_a8a2ea30_3a86_11eb_8389_0242ac1c0002row17_col5\" class=\"data row17 col5\" >0.53</td>\n",
              "                        <td id=\"T_a8a2ea30_3a86_11eb_8389_0242ac1c0002row17_col6\" class=\"data row17 col6\" >0.69</td>\n",
              "                        <td id=\"T_a8a2ea30_3a86_11eb_8389_0242ac1c0002row17_col7\" class=\"data row17 col7\" >0.24</td>\n",
              "                        <td id=\"T_a8a2ea30_3a86_11eb_8389_0242ac1c0002row17_col8\" class=\"data row17 col8\" >0.24</td>\n",
              "                        <td id=\"T_a8a2ea30_3a86_11eb_8389_0242ac1c0002row17_col9\" class=\"data row17 col9\" >0.46</td>\n",
              "                        <td id=\"T_a8a2ea30_3a86_11eb_8389_0242ac1c0002row17_col10\" class=\"data row17 col10\" >0.45</td>\n",
              "                        <td id=\"T_a8a2ea30_3a86_11eb_8389_0242ac1c0002row17_col11\" class=\"data row17 col11\" >0.33</td>\n",
              "                        <td id=\"T_a8a2ea30_3a86_11eb_8389_0242ac1c0002row17_col12\" class=\"data row17 col12\" >0.13</td>\n",
              "                        <td id=\"T_a8a2ea30_3a86_11eb_8389_0242ac1c0002row17_col13\" class=\"data row17 col13\" >0.13</td>\n",
              "                        <td id=\"T_a8a2ea30_3a86_11eb_8389_0242ac1c0002row17_col14\" class=\"data row17 col14\" >0.20</td>\n",
              "                        <td id=\"T_a8a2ea30_3a86_11eb_8389_0242ac1c0002row17_col15\" class=\"data row17 col15\" >0.20</td>\n",
              "                        <td id=\"T_a8a2ea30_3a86_11eb_8389_0242ac1c0002row17_col16\" class=\"data row17 col16\" >0.86</td>\n",
              "                        <td id=\"T_a8a2ea30_3a86_11eb_8389_0242ac1c0002row17_col17\" class=\"data row17 col17\" >1.00</td>\n",
              "            </tr>\n",
              "    </tbody></table>"
            ],
            "text/plain": [
              "<pandas.io.formats.style.Styler at 0x7fc1379a6908>"
            ]
          },
          "metadata": {
            "tags": []
          },
          "execution_count": 11
        }
      ]
    },
    {
      "cell_type": "markdown",
      "metadata": {
        "id": "D1rLLz_oNGju"
      },
      "source": [
        "**Observations based on the correlation matrix:**\n",
        "*   the difference between the correlation coefficients computed with Pearson and Spearman methods indicates the non-linear relationships between the variables; \n",
        "*   the output variable Risk is positively correlated with all the input variables except for Sector_score;\n",
        "*   the output variable Risk is highly correlated (Spearman coefficient > 0.50) with the following variables: PARA_A, SCORE_A, SCORE_B, TOTAL, and Score (highest correlation of 0.86);\n",
        "*   as for the correlations between the inputs, we observe the highest correlations (Spearman coefficient >= 0.80) between the variables PARA_A and SCORE_A (0.91), PARA_B and SCORE_B (0.83), TOTAL and PARA_A (0.82), TOTAL and PARA_B (0.85), LOSS_SCORE and Loss (0.98), Marks and numbers (1.00), MONEY_Marks and Money_Value (0.80), History_score and History (1.00)."
      ]
    },
    {
      "cell_type": "markdown",
      "metadata": {
        "id": "U_N25cSU4k-r"
      },
      "source": [
        "**Assumption:** some of the high correlation coefficients between the variables might suggest that in some pairs of the attributes (e.g. PARA_A & SCORE_A) one variable is derived from another one. We will double check this assumption via applying RandomForestRegressor to better understand the relationships between the variables."
      ]
    },
    {
      "cell_type": "markdown",
      "metadata": {
        "id": "PFXw1q67Nf3m"
      },
      "source": [
        "## Varible analysis: modelling"
      ]
    },
    {
      "cell_type": "code",
      "metadata": {
        "id": "OAV9CzvT5fI-"
      },
      "source": [
        "from sklearn.ensemble import RandomForestClassifier, RandomForestRegressor\n",
        "\n",
        "variables = trial.columns \n",
        "\n",
        "x_explains_y = pd.DataFrame(index=variables, columns=variables, dtype=np.float)\n",
        "for xname in variables:\n",
        "    for yname in variables:\n",
        "        X = trial[[xname]].values\n",
        "        y = trial[yname]\n",
        "        \n",
        "        rf = RandomForestRegressor(n_estimators=50, oob_score=True)\n",
        "        rf.fit(X, y)\n",
        "        \n",
        "        x_explains_y.loc[xname, yname] = rf.oob_score_"
      ],
      "execution_count": 12,
      "outputs": []
    },
    {
      "cell_type": "code",
      "metadata": {
        "colab": {
          "base_uri": "https://localhost:8080/",
          "height": 418
        },
        "id": "OLSwQI2I6Wmx",
        "outputId": "efb372df-bebb-447e-f37f-63a0d409f1f7"
      },
      "source": [
        "x_explains_y.style.background_gradient(low=0, high=1).format('{:.2f}')"
      ],
      "execution_count": 13,
      "outputs": [
        {
          "output_type": "execute_result",
          "data": {
            "text/html": [
              "<style  type=\"text/css\" >\n",
              "#T_b4ffabc4_3a86_11eb_8389_0242ac1c0002row0_col0,#T_b4ffabc4_3a86_11eb_8389_0242ac1c0002row1_col1,#T_b4ffabc4_3a86_11eb_8389_0242ac1c0002row2_col2,#T_b4ffabc4_3a86_11eb_8389_0242ac1c0002row3_col3,#T_b4ffabc4_3a86_11eb_8389_0242ac1c0002row4_col4,#T_b4ffabc4_3a86_11eb_8389_0242ac1c0002row5_col5,#T_b4ffabc4_3a86_11eb_8389_0242ac1c0002row6_col6,#T_b4ffabc4_3a86_11eb_8389_0242ac1c0002row7_col7,#T_b4ffabc4_3a86_11eb_8389_0242ac1c0002row9_col9,#T_b4ffabc4_3a86_11eb_8389_0242ac1c0002row11_col11,#T_b4ffabc4_3a86_11eb_8389_0242ac1c0002row12_col12,#T_b4ffabc4_3a86_11eb_8389_0242ac1c0002row13_col13,#T_b4ffabc4_3a86_11eb_8389_0242ac1c0002row14_col14,#T_b4ffabc4_3a86_11eb_8389_0242ac1c0002row14_col15,#T_b4ffabc4_3a86_11eb_8389_0242ac1c0002row15_col15,#T_b4ffabc4_3a86_11eb_8389_0242ac1c0002row16_col17,#T_b4ffabc4_3a86_11eb_8389_0242ac1c0002row17_col17{\n",
              "            background-color:  #73a9cf;\n",
              "            color:  #000000;\n",
              "        }#T_b4ffabc4_3a86_11eb_8389_0242ac1c0002row0_col1,#T_b4ffabc4_3a86_11eb_8389_0242ac1c0002row0_col16,#T_b4ffabc4_3a86_11eb_8389_0242ac1c0002row5_col1,#T_b4ffabc4_3a86_11eb_8389_0242ac1c0002row10_col1,#T_b4ffabc4_3a86_11eb_8389_0242ac1c0002row11_col1,#T_b4ffabc4_3a86_11eb_8389_0242ac1c0002row14_col13,#T_b4ffabc4_3a86_11eb_8389_0242ac1c0002row17_col2{\n",
              "            background-color:  #ece7f2;\n",
              "            color:  #000000;\n",
              "        }#T_b4ffabc4_3a86_11eb_8389_0242ac1c0002row0_col2{\n",
              "            background-color:  #efe9f3;\n",
              "            color:  #000000;\n",
              "        }#T_b4ffabc4_3a86_11eb_8389_0242ac1c0002row0_col3,#T_b4ffabc4_3a86_11eb_8389_0242ac1c0002row3_col10,#T_b4ffabc4_3a86_11eb_8389_0242ac1c0002row3_col13,#T_b4ffabc4_3a86_11eb_8389_0242ac1c0002row5_col13,#T_b4ffabc4_3a86_11eb_8389_0242ac1c0002row5_col17,#T_b4ffabc4_3a86_11eb_8389_0242ac1c0002row10_col13,#T_b4ffabc4_3a86_11eb_8389_0242ac1c0002row15_col13,#T_b4ffabc4_3a86_11eb_8389_0242ac1c0002row16_col12,#T_b4ffabc4_3a86_11eb_8389_0242ac1c0002row17_col12{\n",
              "            background-color:  #e9e5f1;\n",
              "            color:  #000000;\n",
              "        }#T_b4ffabc4_3a86_11eb_8389_0242ac1c0002row0_col4{\n",
              "            background-color:  #b4c4df;\n",
              "            color:  #000000;\n",
              "        }#T_b4ffabc4_3a86_11eb_8389_0242ac1c0002row0_col5,#T_b4ffabc4_3a86_11eb_8389_0242ac1c0002row0_col17,#T_b4ffabc4_3a86_11eb_8389_0242ac1c0002row1_col7,#T_b4ffabc4_3a86_11eb_8389_0242ac1c0002row6_col10,#T_b4ffabc4_3a86_11eb_8389_0242ac1c0002row7_col2,#T_b4ffabc4_3a86_11eb_8389_0242ac1c0002row8_col2,#T_b4ffabc4_3a86_11eb_8389_0242ac1c0002row10_col17,#T_b4ffabc4_3a86_11eb_8389_0242ac1c0002row14_col2,#T_b4ffabc4_3a86_11eb_8389_0242ac1c0002row15_col2,#T_b4ffabc4_3a86_11eb_8389_0242ac1c0002row17_col0{\n",
              "            background-color:  #f0eaf4;\n",
              "            color:  #000000;\n",
              "        }#T_b4ffabc4_3a86_11eb_8389_0242ac1c0002row0_col6{\n",
              "            background-color:  #c1cae2;\n",
              "            color:  #000000;\n",
              "        }#T_b4ffabc4_3a86_11eb_8389_0242ac1c0002row0_col7,#T_b4ffabc4_3a86_11eb_8389_0242ac1c0002row0_col8,#T_b4ffabc4_3a86_11eb_8389_0242ac1c0002row3_col8,#T_b4ffabc4_3a86_11eb_8389_0242ac1c0002row8_col15,#T_b4ffabc4_3a86_11eb_8389_0242ac1c0002row14_col7,#T_b4ffabc4_3a86_11eb_8389_0242ac1c0002row14_col8{\n",
              "            background-color:  #e5e1ef;\n",
              "            color:  #000000;\n",
              "        }#T_b4ffabc4_3a86_11eb_8389_0242ac1c0002row0_col9,#T_b4ffabc4_3a86_11eb_8389_0242ac1c0002row2_col4,#T_b4ffabc4_3a86_11eb_8389_0242ac1c0002row10_col14,#T_b4ffabc4_3a86_11eb_8389_0242ac1c0002row15_col9,#T_b4ffabc4_3a86_11eb_8389_0242ac1c0002row16_col11,#T_b4ffabc4_3a86_11eb_8389_0242ac1c0002row17_col16{\n",
              "            background-color:  #dddbec;\n",
              "            color:  #000000;\n",
              "        }#T_b4ffabc4_3a86_11eb_8389_0242ac1c0002row0_col10,#T_b4ffabc4_3a86_11eb_8389_0242ac1c0002row0_col11,#T_b4ffabc4_3a86_11eb_8389_0242ac1c0002row1_col14,#T_b4ffabc4_3a86_11eb_8389_0242ac1c0002row3_col15,#T_b4ffabc4_3a86_11eb_8389_0242ac1c0002row5_col3,#T_b4ffabc4_3a86_11eb_8389_0242ac1c0002row5_col8{\n",
              "            background-color:  #e3e0ee;\n",
              "            color:  #000000;\n",
              "        }#T_b4ffabc4_3a86_11eb_8389_0242ac1c0002row0_col12,#T_b4ffabc4_3a86_11eb_8389_0242ac1c0002row0_col13,#T_b4ffabc4_3a86_11eb_8389_0242ac1c0002row3_col12,#T_b4ffabc4_3a86_11eb_8389_0242ac1c0002row5_col12,#T_b4ffabc4_3a86_11eb_8389_0242ac1c0002row7_col12,#T_b4ffabc4_3a86_11eb_8389_0242ac1c0002row7_col13,#T_b4ffabc4_3a86_11eb_8389_0242ac1c0002row8_col12,#T_b4ffabc4_3a86_11eb_8389_0242ac1c0002row8_col13,#T_b4ffabc4_3a86_11eb_8389_0242ac1c0002row10_col12,#T_b4ffabc4_3a86_11eb_8389_0242ac1c0002row11_col7,#T_b4ffabc4_3a86_11eb_8389_0242ac1c0002row11_col8,#T_b4ffabc4_3a86_11eb_8389_0242ac1c0002row11_col13,#T_b4ffabc4_3a86_11eb_8389_0242ac1c0002row12_col7,#T_b4ffabc4_3a86_11eb_8389_0242ac1c0002row15_col12,#T_b4ffabc4_3a86_11eb_8389_0242ac1c0002row17_col5{\n",
              "            background-color:  #eae6f1;\n",
              "            color:  #000000;\n",
              "        }#T_b4ffabc4_3a86_11eb_8389_0242ac1c0002row0_col14,#T_b4ffabc4_3a86_11eb_8389_0242ac1c0002row7_col14,#T_b4ffabc4_3a86_11eb_8389_0242ac1c0002row10_col15,#T_b4ffabc4_3a86_11eb_8389_0242ac1c0002row17_col11{\n",
              "            background-color:  #e0deed;\n",
              "            color:  #000000;\n",
              "        }#T_b4ffabc4_3a86_11eb_8389_0242ac1c0002row0_col15,#T_b4ffabc4_3a86_11eb_8389_0242ac1c0002row1_col8,#T_b4ffabc4_3a86_11eb_8389_0242ac1c0002row7_col11,#T_b4ffabc4_3a86_11eb_8389_0242ac1c0002row7_col15,#T_b4ffabc4_3a86_11eb_8389_0242ac1c0002row8_col11,#T_b4ffabc4_3a86_11eb_8389_0242ac1c0002row10_col11,#T_b4ffabc4_3a86_11eb_8389_0242ac1c0002row11_col15,#T_b4ffabc4_3a86_11eb_8389_0242ac1c0002row13_col15,#T_b4ffabc4_3a86_11eb_8389_0242ac1c0002row15_col7,#T_b4ffabc4_3a86_11eb_8389_0242ac1c0002row15_col8,#T_b4ffabc4_3a86_11eb_8389_0242ac1c0002row16_col6,#T_b4ffabc4_3a86_11eb_8389_0242ac1c0002row17_col7,#T_b4ffabc4_3a86_11eb_8389_0242ac1c0002row17_col8{\n",
              "            background-color:  #e7e3f0;\n",
              "            color:  #000000;\n",
              "        }#T_b4ffabc4_3a86_11eb_8389_0242ac1c0002row1_col0,#T_b4ffabc4_3a86_11eb_8389_0242ac1c0002row2_col1,#T_b4ffabc4_3a86_11eb_8389_0242ac1c0002row2_col15,#T_b4ffabc4_3a86_11eb_8389_0242ac1c0002row6_col7,#T_b4ffabc4_3a86_11eb_8389_0242ac1c0002row7_col17,#T_b4ffabc4_3a86_11eb_8389_0242ac1c0002row8_col17{\n",
              "            background-color:  #fcf4fa;\n",
              "            color:  #000000;\n",
              "        }#T_b4ffabc4_3a86_11eb_8389_0242ac1c0002row1_col2,#T_b4ffabc4_3a86_11eb_8389_0242ac1c0002row9_col14{\n",
              "            background-color:  #f2ecf5;\n",
              "            color:  #000000;\n",
              "        }#T_b4ffabc4_3a86_11eb_8389_0242ac1c0002row1_col3,#T_b4ffabc4_3a86_11eb_8389_0242ac1c0002row1_col5,#T_b4ffabc4_3a86_11eb_8389_0242ac1c0002row1_col16,#T_b4ffabc4_3a86_11eb_8389_0242ac1c0002row1_col17,#T_b4ffabc4_3a86_11eb_8389_0242ac1c0002row2_col7,#T_b4ffabc4_3a86_11eb_8389_0242ac1c0002row2_col8,#T_b4ffabc4_3a86_11eb_8389_0242ac1c0002row2_col9,#T_b4ffabc4_3a86_11eb_8389_0242ac1c0002row2_col10,#T_b4ffabc4_3a86_11eb_8389_0242ac1c0002row2_col12,#T_b4ffabc4_3a86_11eb_8389_0242ac1c0002row2_col13,#T_b4ffabc4_3a86_11eb_8389_0242ac1c0002row4_col2,#T_b4ffabc4_3a86_11eb_8389_0242ac1c0002row4_col14,#T_b4ffabc4_3a86_11eb_8389_0242ac1c0002row6_col0,#T_b4ffabc4_3a86_11eb_8389_0242ac1c0002row6_col1,#T_b4ffabc4_3a86_11eb_8389_0242ac1c0002row6_col11,#T_b4ffabc4_3a86_11eb_8389_0242ac1c0002row6_col15,#T_b4ffabc4_3a86_11eb_8389_0242ac1c0002row9_col4,#T_b4ffabc4_3a86_11eb_8389_0242ac1c0002row9_col6,#T_b4ffabc4_3a86_11eb_8389_0242ac1c0002row12_col16,#T_b4ffabc4_3a86_11eb_8389_0242ac1c0002row12_col17,#T_b4ffabc4_3a86_11eb_8389_0242ac1c0002row13_col16,#T_b4ffabc4_3a86_11eb_8389_0242ac1c0002row13_col17{\n",
              "            background-color:  #fff7fb;\n",
              "            color:  #000000;\n",
              "        }#T_b4ffabc4_3a86_11eb_8389_0242ac1c0002row1_col4,#T_b4ffabc4_3a86_11eb_8389_0242ac1c0002row6_col3{\n",
              "            background-color:  #c9cee4;\n",
              "            color:  #000000;\n",
              "        }#T_b4ffabc4_3a86_11eb_8389_0242ac1c0002row1_col6,#T_b4ffabc4_3a86_11eb_8389_0242ac1c0002row10_col9{\n",
              "            background-color:  #d3d4e7;\n",
              "            color:  #000000;\n",
              "        }#T_b4ffabc4_3a86_11eb_8389_0242ac1c0002row1_col9,#T_b4ffabc4_3a86_11eb_8389_0242ac1c0002row7_col9,#T_b4ffabc4_3a86_11eb_8389_0242ac1c0002row17_col9{\n",
              "            background-color:  #dcdaeb;\n",
              "            color:  #000000;\n",
              "        }#T_b4ffabc4_3a86_11eb_8389_0242ac1c0002row1_col10,#T_b4ffabc4_3a86_11eb_8389_0242ac1c0002row4_col8,#T_b4ffabc4_3a86_11eb_8389_0242ac1c0002row12_col10,#T_b4ffabc4_3a86_11eb_8389_0242ac1c0002row13_col10,#T_b4ffabc4_3a86_11eb_8389_0242ac1c0002row14_col0,#T_b4ffabc4_3a86_11eb_8389_0242ac1c0002row15_col0{\n",
              "            background-color:  #f9f2f8;\n",
              "            color:  #000000;\n",
              "        }#T_b4ffabc4_3a86_11eb_8389_0242ac1c0002row1_col11{\n",
              "            background-color:  #d2d3e7;\n",
              "            color:  #000000;\n",
              "        }#T_b4ffabc4_3a86_11eb_8389_0242ac1c0002row1_col12,#T_b4ffabc4_3a86_11eb_8389_0242ac1c0002row9_col2,#T_b4ffabc4_3a86_11eb_8389_0242ac1c0002row9_col8{\n",
              "            background-color:  #eee9f3;\n",
              "            color:  #000000;\n",
              "        }#T_b4ffabc4_3a86_11eb_8389_0242ac1c0002row1_col13,#T_b4ffabc4_3a86_11eb_8389_0242ac1c0002row3_col1,#T_b4ffabc4_3a86_11eb_8389_0242ac1c0002row4_col7,#T_b4ffabc4_3a86_11eb_8389_0242ac1c0002row7_col1,#T_b4ffabc4_3a86_11eb_8389_0242ac1c0002row8_col1,#T_b4ffabc4_3a86_11eb_8389_0242ac1c0002row10_col2,#T_b4ffabc4_3a86_11eb_8389_0242ac1c0002row12_col1,#T_b4ffabc4_3a86_11eb_8389_0242ac1c0002row13_col1,#T_b4ffabc4_3a86_11eb_8389_0242ac1c0002row14_col1,#T_b4ffabc4_3a86_11eb_8389_0242ac1c0002row15_col1,#T_b4ffabc4_3a86_11eb_8389_0242ac1c0002row16_col1,#T_b4ffabc4_3a86_11eb_8389_0242ac1c0002row17_col1,#T_b4ffabc4_3a86_11eb_8389_0242ac1c0002row17_col10{\n",
              "            background-color:  #ede7f2;\n",
              "            color:  #000000;\n",
              "        }#T_b4ffabc4_3a86_11eb_8389_0242ac1c0002row1_col15{\n",
              "            background-color:  #ede8f3;\n",
              "            color:  #000000;\n",
              "        }#T_b4ffabc4_3a86_11eb_8389_0242ac1c0002row2_col0,#T_b4ffabc4_3a86_11eb_8389_0242ac1c0002row2_col5,#T_b4ffabc4_3a86_11eb_8389_0242ac1c0002row2_col11,#T_b4ffabc4_3a86_11eb_8389_0242ac1c0002row6_col8,#T_b4ffabc4_3a86_11eb_8389_0242ac1c0002row6_col14,#T_b4ffabc4_3a86_11eb_8389_0242ac1c0002row7_col0,#T_b4ffabc4_3a86_11eb_8389_0242ac1c0002row7_col3,#T_b4ffabc4_3a86_11eb_8389_0242ac1c0002row8_col0,#T_b4ffabc4_3a86_11eb_8389_0242ac1c0002row8_col3,#T_b4ffabc4_3a86_11eb_8389_0242ac1c0002row9_col12,#T_b4ffabc4_3a86_11eb_8389_0242ac1c0002row9_col13,#T_b4ffabc4_3a86_11eb_8389_0242ac1c0002row11_col17,#T_b4ffabc4_3a86_11eb_8389_0242ac1c0002row14_col3,#T_b4ffabc4_3a86_11eb_8389_0242ac1c0002row15_col3{\n",
              "            background-color:  #f8f1f8;\n",
              "            color:  #000000;\n",
              "        }#T_b4ffabc4_3a86_11eb_8389_0242ac1c0002row2_col3,#T_b4ffabc4_3a86_11eb_8389_0242ac1c0002row7_col8,#T_b4ffabc4_3a86_11eb_8389_0242ac1c0002row8_col8,#T_b4ffabc4_3a86_11eb_8389_0242ac1c0002row9_col10,#T_b4ffabc4_3a86_11eb_8389_0242ac1c0002row10_col10,#T_b4ffabc4_3a86_11eb_8389_0242ac1c0002row16_col16{\n",
              "            background-color:  #75a9cf;\n",
              "            color:  #000000;\n",
              "        }#T_b4ffabc4_3a86_11eb_8389_0242ac1c0002row2_col6{\n",
              "            background-color:  #d4d4e8;\n",
              "            color:  #000000;\n",
              "        }#T_b4ffabc4_3a86_11eb_8389_0242ac1c0002row2_col14,#T_b4ffabc4_3a86_11eb_8389_0242ac1c0002row4_col9,#T_b4ffabc4_3a86_11eb_8389_0242ac1c0002row6_col9,#T_b4ffabc4_3a86_11eb_8389_0242ac1c0002row9_col11{\n",
              "            background-color:  #f4eef6;\n",
              "            color:  #000000;\n",
              "        }#T_b4ffabc4_3a86_11eb_8389_0242ac1c0002row2_col16,#T_b4ffabc4_3a86_11eb_8389_0242ac1c0002row3_col14,#T_b4ffabc4_3a86_11eb_8389_0242ac1c0002row17_col14{\n",
              "            background-color:  #e0dded;\n",
              "            color:  #000000;\n",
              "        }#T_b4ffabc4_3a86_11eb_8389_0242ac1c0002row2_col17,#T_b4ffabc4_3a86_11eb_8389_0242ac1c0002row10_col7,#T_b4ffabc4_3a86_11eb_8389_0242ac1c0002row16_col9,#T_b4ffabc4_3a86_11eb_8389_0242ac1c0002row16_col14,#T_b4ffabc4_3a86_11eb_8389_0242ac1c0002row16_col15{\n",
              "            background-color:  #d9d8ea;\n",
              "            color:  #000000;\n",
              "        }#T_b4ffabc4_3a86_11eb_8389_0242ac1c0002row3_col0,#T_b4ffabc4_3a86_11eb_8389_0242ac1c0002row16_col0{\n",
              "            background-color:  #eee8f3;\n",
              "            color:  #000000;\n",
              "        }#T_b4ffabc4_3a86_11eb_8389_0242ac1c0002row3_col2{\n",
              "            background-color:  #dad9ea;\n",
              "            color:  #000000;\n",
              "        }#T_b4ffabc4_3a86_11eb_8389_0242ac1c0002row3_col4,#T_b4ffabc4_3a86_11eb_8389_0242ac1c0002row6_col5{\n",
              "            background-color:  #b8c6e0;\n",
              "            color:  #000000;\n",
              "        }#T_b4ffabc4_3a86_11eb_8389_0242ac1c0002row3_col5,#T_b4ffabc4_3a86_11eb_8389_0242ac1c0002row9_col7{\n",
              "            background-color:  #e2dfee;\n",
              "            color:  #000000;\n",
              "        }#T_b4ffabc4_3a86_11eb_8389_0242ac1c0002row3_col6,#T_b4ffabc4_3a86_11eb_8389_0242ac1c0002row17_col4{\n",
              "            background-color:  #bfc9e1;\n",
              "            color:  #000000;\n",
              "        }#T_b4ffabc4_3a86_11eb_8389_0242ac1c0002row3_col7,#T_b4ffabc4_3a86_11eb_8389_0242ac1c0002row17_col15{\n",
              "            background-color:  #e6e2ef;\n",
              "            color:  #000000;\n",
              "        }#T_b4ffabc4_3a86_11eb_8389_0242ac1c0002row3_col9,#T_b4ffabc4_3a86_11eb_8389_0242ac1c0002row5_col9,#T_b4ffabc4_3a86_11eb_8389_0242ac1c0002row8_col9{\n",
              "            background-color:  #dbdaeb;\n",
              "            color:  #000000;\n",
              "        }#T_b4ffabc4_3a86_11eb_8389_0242ac1c0002row3_col11,#T_b4ffabc4_3a86_11eb_8389_0242ac1c0002row5_col2,#T_b4ffabc4_3a86_11eb_8389_0242ac1c0002row5_col11,#T_b4ffabc4_3a86_11eb_8389_0242ac1c0002row12_col11,#T_b4ffabc4_3a86_11eb_8389_0242ac1c0002row12_col15,#T_b4ffabc4_3a86_11eb_8389_0242ac1c0002row13_col11,#T_b4ffabc4_3a86_11eb_8389_0242ac1c0002row14_col11,#T_b4ffabc4_3a86_11eb_8389_0242ac1c0002row15_col11,#T_b4ffabc4_3a86_11eb_8389_0242ac1c0002row16_col13,#T_b4ffabc4_3a86_11eb_8389_0242ac1c0002row17_col13{\n",
              "            background-color:  #e8e4f0;\n",
              "            color:  #000000;\n",
              "        }#T_b4ffabc4_3a86_11eb_8389_0242ac1c0002row3_col16{\n",
              "            background-color:  #ced0e6;\n",
              "            color:  #000000;\n",
              "        }#T_b4ffabc4_3a86_11eb_8389_0242ac1c0002row3_col17,#T_b4ffabc4_3a86_11eb_8389_0242ac1c0002row15_col6{\n",
              "            background-color:  #cdd0e5;\n",
              "            color:  #000000;\n",
              "        }#T_b4ffabc4_3a86_11eb_8389_0242ac1c0002row4_col0,#T_b4ffabc4_3a86_11eb_8389_0242ac1c0002row4_col1,#T_b4ffabc4_3a86_11eb_8389_0242ac1c0002row4_col11,#T_b4ffabc4_3a86_11eb_8389_0242ac1c0002row4_col15,#T_b4ffabc4_3a86_11eb_8389_0242ac1c0002row9_col0,#T_b4ffabc4_3a86_11eb_8389_0242ac1c0002row9_col1,#T_b4ffabc4_3a86_11eb_8389_0242ac1c0002row9_col15,#T_b4ffabc4_3a86_11eb_8389_0242ac1c0002row12_col3,#T_b4ffabc4_3a86_11eb_8389_0242ac1c0002row13_col3,#T_b4ffabc4_3a86_11eb_8389_0242ac1c0002row14_col17,#T_b4ffabc4_3a86_11eb_8389_0242ac1c0002row15_col17{\n",
              "            background-color:  #fdf5fa;\n",
              "            color:  #000000;\n",
              "        }#T_b4ffabc4_3a86_11eb_8389_0242ac1c0002row4_col3,#T_b4ffabc4_3a86_11eb_8389_0242ac1c0002row6_col2,#T_b4ffabc4_3a86_11eb_8389_0242ac1c0002row7_col5,#T_b4ffabc4_3a86_11eb_8389_0242ac1c0002row9_col17,#T_b4ffabc4_3a86_11eb_8389_0242ac1c0002row15_col5{\n",
              "            background-color:  #f6eff7;\n",
              "            color:  #000000;\n",
              "        }#T_b4ffabc4_3a86_11eb_8389_0242ac1c0002row4_col5{\n",
              "            background-color:  #9cb9d9;\n",
              "            color:  #000000;\n",
              "        }#T_b4ffabc4_3a86_11eb_8389_0242ac1c0002row4_col6{\n",
              "            background-color:  #7dacd1;\n",
              "            color:  #000000;\n",
              "        }#T_b4ffabc4_3a86_11eb_8389_0242ac1c0002row4_col10,#T_b4ffabc4_3a86_11eb_8389_0242ac1c0002row5_col10,#T_b4ffabc4_3a86_11eb_8389_0242ac1c0002row5_col14,#T_b4ffabc4_3a86_11eb_8389_0242ac1c0002row6_col17,#T_b4ffabc4_3a86_11eb_8389_0242ac1c0002row8_col14{\n",
              "            background-color:  #dfddec;\n",
              "            color:  #000000;\n",
              "        }#T_b4ffabc4_3a86_11eb_8389_0242ac1c0002row4_col12,#T_b4ffabc4_3a86_11eb_8389_0242ac1c0002row9_col5,#T_b4ffabc4_3a86_11eb_8389_0242ac1c0002row14_col10,#T_b4ffabc4_3a86_11eb_8389_0242ac1c0002row14_col16,#T_b4ffabc4_3a86_11eb_8389_0242ac1c0002row15_col10,#T_b4ffabc4_3a86_11eb_8389_0242ac1c0002row15_col16{\n",
              "            background-color:  #f1ebf5;\n",
              "            color:  #000000;\n",
              "        }#T_b4ffabc4_3a86_11eb_8389_0242ac1c0002row4_col13,#T_b4ffabc4_3a86_11eb_8389_0242ac1c0002row11_col2,#T_b4ffabc4_3a86_11eb_8389_0242ac1c0002row12_col2,#T_b4ffabc4_3a86_11eb_8389_0242ac1c0002row13_col2{\n",
              "            background-color:  #f1ebf4;\n",
              "            color:  #000000;\n",
              "        }#T_b4ffabc4_3a86_11eb_8389_0242ac1c0002row4_col16{\n",
              "            background-color:  #adc1dd;\n",
              "            color:  #000000;\n",
              "        }#T_b4ffabc4_3a86_11eb_8389_0242ac1c0002row4_col17{\n",
              "            background-color:  #f5eef6;\n",
              "            color:  #000000;\n",
              "        }#T_b4ffabc4_3a86_11eb_8389_0242ac1c0002row5_col0{\n",
              "            background-color:  #f7f0f7;\n",
              "            color:  #000000;\n",
              "        }#T_b4ffabc4_3a86_11eb_8389_0242ac1c0002row5_col4{\n",
              "            background-color:  #a9bfdc;\n",
              "            color:  #000000;\n",
              "        }#T_b4ffabc4_3a86_11eb_8389_0242ac1c0002row5_col6{\n",
              "            background-color:  #b3c3de;\n",
              "            color:  #000000;\n",
              "        }#T_b4ffabc4_3a86_11eb_8389_0242ac1c0002row5_col7,#T_b4ffabc4_3a86_11eb_8389_0242ac1c0002row7_col10,#T_b4ffabc4_3a86_11eb_8389_0242ac1c0002row7_col16,#T_b4ffabc4_3a86_11eb_8389_0242ac1c0002row8_col10,#T_b4ffabc4_3a86_11eb_8389_0242ac1c0002row8_col16{\n",
              "            background-color:  #e4e1ef;\n",
              "            color:  #000000;\n",
              "        }#T_b4ffabc4_3a86_11eb_8389_0242ac1c0002row5_col15,#T_b4ffabc4_3a86_11eb_8389_0242ac1c0002row10_col5,#T_b4ffabc4_3a86_11eb_8389_0242ac1c0002row11_col14,#T_b4ffabc4_3a86_11eb_8389_0242ac1c0002row12_col14,#T_b4ffabc4_3a86_11eb_8389_0242ac1c0002row13_col14,#T_b4ffabc4_3a86_11eb_8389_0242ac1c0002row16_col2{\n",
              "            background-color:  #e1dfed;\n",
              "            color:  #000000;\n",
              "        }#T_b4ffabc4_3a86_11eb_8389_0242ac1c0002row5_col16{\n",
              "            background-color:  #9ab8d8;\n",
              "            color:  #000000;\n",
              "        }#T_b4ffabc4_3a86_11eb_8389_0242ac1c0002row6_col4,#T_b4ffabc4_3a86_11eb_8389_0242ac1c0002row12_col13{\n",
              "            background-color:  #79abd0;\n",
              "            color:  #000000;\n",
              "        }#T_b4ffabc4_3a86_11eb_8389_0242ac1c0002row6_col12,#T_b4ffabc4_3a86_11eb_8389_0242ac1c0002row11_col5,#T_b4ffabc4_3a86_11eb_8389_0242ac1c0002row12_col5,#T_b4ffabc4_3a86_11eb_8389_0242ac1c0002row13_col5{\n",
              "            background-color:  #fef6fb;\n",
              "            color:  #000000;\n",
              "        }#T_b4ffabc4_3a86_11eb_8389_0242ac1c0002row6_col13{\n",
              "            background-color:  #fbf3f9;\n",
              "            color:  #000000;\n",
              "        }#T_b4ffabc4_3a86_11eb_8389_0242ac1c0002row6_col16{\n",
              "            background-color:  #afc1dd;\n",
              "            color:  #000000;\n",
              "        }#T_b4ffabc4_3a86_11eb_8389_0242ac1c0002row7_col4,#T_b4ffabc4_3a86_11eb_8389_0242ac1c0002row10_col6,#T_b4ffabc4_3a86_11eb_8389_0242ac1c0002row16_col10{\n",
              "            background-color:  #bcc7e1;\n",
              "            color:  #000000;\n",
              "        }#T_b4ffabc4_3a86_11eb_8389_0242ac1c0002row7_col6,#T_b4ffabc4_3a86_11eb_8389_0242ac1c0002row11_col4,#T_b4ffabc4_3a86_11eb_8389_0242ac1c0002row14_col4{\n",
              "            background-color:  #c6cce3;\n",
              "            color:  #000000;\n",
              "        }#T_b4ffabc4_3a86_11eb_8389_0242ac1c0002row8_col4{\n",
              "            background-color:  #bbc7e0;\n",
              "            color:  #000000;\n",
              "        }#T_b4ffabc4_3a86_11eb_8389_0242ac1c0002row8_col5,#T_b4ffabc4_3a86_11eb_8389_0242ac1c0002row14_col5{\n",
              "            background-color:  #f5eff6;\n",
              "            color:  #000000;\n",
              "        }#T_b4ffabc4_3a86_11eb_8389_0242ac1c0002row8_col6{\n",
              "            background-color:  #c8cde4;\n",
              "            color:  #000000;\n",
              "        }#T_b4ffabc4_3a86_11eb_8389_0242ac1c0002row8_col7{\n",
              "            background-color:  #7eadd1;\n",
              "            color:  #000000;\n",
              "        }#T_b4ffabc4_3a86_11eb_8389_0242ac1c0002row9_col3,#T_b4ffabc4_3a86_11eb_8389_0242ac1c0002row11_col0,#T_b4ffabc4_3a86_11eb_8389_0242ac1c0002row11_col10,#T_b4ffabc4_3a86_11eb_8389_0242ac1c0002row12_col0,#T_b4ffabc4_3a86_11eb_8389_0242ac1c0002row13_col0{\n",
              "            background-color:  #faf2f8;\n",
              "            color:  #000000;\n",
              "        }#T_b4ffabc4_3a86_11eb_8389_0242ac1c0002row9_col16{\n",
              "            background-color:  #d7d6e9;\n",
              "            color:  #000000;\n",
              "        }#T_b4ffabc4_3a86_11eb_8389_0242ac1c0002row10_col0{\n",
              "            background-color:  #f3edf5;\n",
              "            color:  #000000;\n",
              "        }#T_b4ffabc4_3a86_11eb_8389_0242ac1c0002row10_col3,#T_b4ffabc4_3a86_11eb_8389_0242ac1c0002row11_col12,#T_b4ffabc4_3a86_11eb_8389_0242ac1c0002row12_col8,#T_b4ffabc4_3a86_11eb_8389_0242ac1c0002row13_col7,#T_b4ffabc4_3a86_11eb_8389_0242ac1c0002row13_col8,#T_b4ffabc4_3a86_11eb_8389_0242ac1c0002row14_col12{\n",
              "            background-color:  #ebe6f2;\n",
              "            color:  #000000;\n",
              "        }#T_b4ffabc4_3a86_11eb_8389_0242ac1c0002row10_col4{\n",
              "            background-color:  #b1c2de;\n",
              "            color:  #000000;\n",
              "        }#T_b4ffabc4_3a86_11eb_8389_0242ac1c0002row10_col8{\n",
              "            background-color:  #d6d6e9;\n",
              "            color:  #000000;\n",
              "        }#T_b4ffabc4_3a86_11eb_8389_0242ac1c0002row10_col16,#T_b4ffabc4_3a86_11eb_8389_0242ac1c0002row12_col4,#T_b4ffabc4_3a86_11eb_8389_0242ac1c0002row13_col4{\n",
              "            background-color:  #c4cbe3;\n",
              "            color:  #000000;\n",
              "        }#T_b4ffabc4_3a86_11eb_8389_0242ac1c0002row11_col3,#T_b4ffabc4_3a86_11eb_8389_0242ac1c0002row11_col16{\n",
              "            background-color:  #fef6fa;\n",
              "            color:  #000000;\n",
              "        }#T_b4ffabc4_3a86_11eb_8389_0242ac1c0002row11_col6{\n",
              "            background-color:  #d2d2e7;\n",
              "            color:  #000000;\n",
              "        }#T_b4ffabc4_3a86_11eb_8389_0242ac1c0002row11_col9,#T_b4ffabc4_3a86_11eb_8389_0242ac1c0002row12_col9,#T_b4ffabc4_3a86_11eb_8389_0242ac1c0002row13_col9,#T_b4ffabc4_3a86_11eb_8389_0242ac1c0002row14_col9{\n",
              "            background-color:  #dedcec;\n",
              "            color:  #000000;\n",
              "        }#T_b4ffabc4_3a86_11eb_8389_0242ac1c0002row12_col6,#T_b4ffabc4_3a86_11eb_8389_0242ac1c0002row13_col6{\n",
              "            background-color:  #d1d2e6;\n",
              "            color:  #000000;\n",
              "        }#T_b4ffabc4_3a86_11eb_8389_0242ac1c0002row13_col12{\n",
              "            background-color:  #7bacd1;\n",
              "            color:  #000000;\n",
              "        }#T_b4ffabc4_3a86_11eb_8389_0242ac1c0002row14_col6{\n",
              "            background-color:  #cccfe5;\n",
              "            color:  #000000;\n",
              "        }#T_b4ffabc4_3a86_11eb_8389_0242ac1c0002row15_col4,#T_b4ffabc4_3a86_11eb_8389_0242ac1c0002row16_col7{\n",
              "            background-color:  #bdc8e1;\n",
              "            color:  #000000;\n",
              "        }#T_b4ffabc4_3a86_11eb_8389_0242ac1c0002row15_col14{\n",
              "            background-color:  #8eb3d5;\n",
              "            color:  #000000;\n",
              "        }#T_b4ffabc4_3a86_11eb_8389_0242ac1c0002row16_col3{\n",
              "            background-color:  #b9c6e0;\n",
              "            color:  #000000;\n",
              "        }#T_b4ffabc4_3a86_11eb_8389_0242ac1c0002row16_col4,#T_b4ffabc4_3a86_11eb_8389_0242ac1c0002row17_col3{\n",
              "            background-color:  #d5d5e8;\n",
              "            color:  #000000;\n",
              "        }#T_b4ffabc4_3a86_11eb_8389_0242ac1c0002row16_col5{\n",
              "            background-color:  #8fb4d6;\n",
              "            color:  #000000;\n",
              "        }#T_b4ffabc4_3a86_11eb_8389_0242ac1c0002row16_col8{\n",
              "            background-color:  #b5c4df;\n",
              "            color:  #000000;\n",
              "        }#T_b4ffabc4_3a86_11eb_8389_0242ac1c0002row17_col6{\n",
              "            background-color:  #cacee5;\n",
              "            color:  #000000;\n",
              "        }</style><table id=\"T_b4ffabc4_3a86_11eb_8389_0242ac1c0002\" ><thead>    <tr>        <th class=\"blank level0\" ></th>        <th class=\"col_heading level0 col0\" >Sector_score</th>        <th class=\"col_heading level0 col1\" >LOCATION_ID</th>        <th class=\"col_heading level0 col2\" >PARA_A</th>        <th class=\"col_heading level0 col3\" >SCORE_A</th>        <th class=\"col_heading level0 col4\" >PARA_B</th>        <th class=\"col_heading level0 col5\" >SCORE_B</th>        <th class=\"col_heading level0 col6\" >TOTAL</th>        <th class=\"col_heading level0 col7\" >numbers</th>        <th class=\"col_heading level0 col8\" >Marks</th>        <th class=\"col_heading level0 col9\" >Money_Value</th>        <th class=\"col_heading level0 col10\" >MONEY_Marks</th>        <th class=\"col_heading level0 col11\" >District</th>        <th class=\"col_heading level0 col12\" >Loss</th>        <th class=\"col_heading level0 col13\" >LOSS_SCORE</th>        <th class=\"col_heading level0 col14\" >History</th>        <th class=\"col_heading level0 col15\" >History_score</th>        <th class=\"col_heading level0 col16\" >Score</th>        <th class=\"col_heading level0 col17\" >Risk</th>    </tr></thead><tbody>\n",
              "                <tr>\n",
              "                        <th id=\"T_b4ffabc4_3a86_11eb_8389_0242ac1c0002level0_row0\" class=\"row_heading level0 row0\" >Sector_score</th>\n",
              "                        <td id=\"T_b4ffabc4_3a86_11eb_8389_0242ac1c0002row0_col0\" class=\"data row0 col0\" >1.00</td>\n",
              "                        <td id=\"T_b4ffabc4_3a86_11eb_8389_0242ac1c0002row0_col1\" class=\"data row0 col1\" >0.01</td>\n",
              "                        <td id=\"T_b4ffabc4_3a86_11eb_8389_0242ac1c0002row0_col2\" class=\"data row0 col2\" >0.03</td>\n",
              "                        <td id=\"T_b4ffabc4_3a86_11eb_8389_0242ac1c0002row0_col3\" class=\"data row0 col3\" >0.26</td>\n",
              "                        <td id=\"T_b4ffabc4_3a86_11eb_8389_0242ac1c0002row0_col4\" class=\"data row0 col4\" >0.08</td>\n",
              "                        <td id=\"T_b4ffabc4_3a86_11eb_8389_0242ac1c0002row0_col5\" class=\"data row0 col5\" >0.19</td>\n",
              "                        <td id=\"T_b4ffabc4_3a86_11eb_8389_0242ac1c0002row0_col6\" class=\"data row0 col6\" >0.08</td>\n",
              "                        <td id=\"T_b4ffabc4_3a86_11eb_8389_0242ac1c0002row0_col7\" class=\"data row0 col7\" >0.06</td>\n",
              "                        <td id=\"T_b4ffabc4_3a86_11eb_8389_0242ac1c0002row0_col8\" class=\"data row0 col8\" >0.07</td>\n",
              "                        <td id=\"T_b4ffabc4_3a86_11eb_8389_0242ac1c0002row0_col9\" class=\"data row0 col9\" >0.01</td>\n",
              "                        <td id=\"T_b4ffabc4_3a86_11eb_8389_0242ac1c0002row0_col10\" class=\"data row0 col10\" >0.28</td>\n",
              "                        <td id=\"T_b4ffabc4_3a86_11eb_8389_0242ac1c0002row0_col11\" class=\"data row0 col11\" >0.06</td>\n",
              "                        <td id=\"T_b4ffabc4_3a86_11eb_8389_0242ac1c0002row0_col12\" class=\"data row0 col12\" >-0.01</td>\n",
              "                        <td id=\"T_b4ffabc4_3a86_11eb_8389_0242ac1c0002row0_col13\" class=\"data row0 col13\" >-0.00</td>\n",
              "                        <td id=\"T_b4ffabc4_3a86_11eb_8389_0242ac1c0002row0_col14\" class=\"data row0 col14\" >0.01</td>\n",
              "                        <td id=\"T_b4ffabc4_3a86_11eb_8389_0242ac1c0002row0_col15\" class=\"data row0 col15\" >0.02</td>\n",
              "                        <td id=\"T_b4ffabc4_3a86_11eb_8389_0242ac1c0002row0_col16\" class=\"data row0 col16\" >0.27</td>\n",
              "                        <td id=\"T_b4ffabc4_3a86_11eb_8389_0242ac1c0002row0_col17\" class=\"data row0 col17\" >0.21</td>\n",
              "            </tr>\n",
              "            <tr>\n",
              "                        <th id=\"T_b4ffabc4_3a86_11eb_8389_0242ac1c0002level0_row1\" class=\"row_heading level0 row1\" >LOCATION_ID</th>\n",
              "                        <td id=\"T_b4ffabc4_3a86_11eb_8389_0242ac1c0002row1_col0\" class=\"data row1 col0\" >-0.03</td>\n",
              "                        <td id=\"T_b4ffabc4_3a86_11eb_8389_0242ac1c0002row1_col1\" class=\"data row1 col1\" >1.00</td>\n",
              "                        <td id=\"T_b4ffabc4_3a86_11eb_8389_0242ac1c0002row1_col2\" class=\"data row1 col2\" >-0.02</td>\n",
              "                        <td id=\"T_b4ffabc4_3a86_11eb_8389_0242ac1c0002row1_col3\" class=\"data row1 col3\" >-0.02</td>\n",
              "                        <td id=\"T_b4ffabc4_3a86_11eb_8389_0242ac1c0002row1_col4\" class=\"data row1 col4\" >-0.03</td>\n",
              "                        <td id=\"T_b4ffabc4_3a86_11eb_8389_0242ac1c0002row1_col5\" class=\"data row1 col5\" >-0.02</td>\n",
              "                        <td id=\"T_b4ffabc4_3a86_11eb_8389_0242ac1c0002row1_col6\" class=\"data row1 col6\" >-0.02</td>\n",
              "                        <td id=\"T_b4ffabc4_3a86_11eb_8389_0242ac1c0002row1_col7\" class=\"data row1 col7\" >-0.08</td>\n",
              "                        <td id=\"T_b4ffabc4_3a86_11eb_8389_0242ac1c0002row1_col8\" class=\"data row1 col8\" >0.03</td>\n",
              "                        <td id=\"T_b4ffabc4_3a86_11eb_8389_0242ac1c0002row1_col9\" class=\"data row1 col9\" >0.02</td>\n",
              "                        <td id=\"T_b4ffabc4_3a86_11eb_8389_0242ac1c0002row1_col10\" class=\"data row1 col10\" >0.01</td>\n",
              "                        <td id=\"T_b4ffabc4_3a86_11eb_8389_0242ac1c0002row1_col11\" class=\"data row1 col11\" >0.27</td>\n",
              "                        <td id=\"T_b4ffabc4_3a86_11eb_8389_0242ac1c0002row1_col12\" class=\"data row1 col12\" >-0.06</td>\n",
              "                        <td id=\"T_b4ffabc4_3a86_11eb_8389_0242ac1c0002row1_col13\" class=\"data row1 col13\" >-0.04</td>\n",
              "                        <td id=\"T_b4ffabc4_3a86_11eb_8389_0242ac1c0002row1_col14\" class=\"data row1 col14\" >-0.02</td>\n",
              "                        <td id=\"T_b4ffabc4_3a86_11eb_8389_0242ac1c0002row1_col15\" class=\"data row1 col15\" >-0.07</td>\n",
              "                        <td id=\"T_b4ffabc4_3a86_11eb_8389_0242ac1c0002row1_col16\" class=\"data row1 col16\" >0.03</td>\n",
              "                        <td id=\"T_b4ffabc4_3a86_11eb_8389_0242ac1c0002row1_col17\" class=\"data row1 col17\" >0.01</td>\n",
              "            </tr>\n",
              "            <tr>\n",
              "                        <th id=\"T_b4ffabc4_3a86_11eb_8389_0242ac1c0002level0_row2\" class=\"row_heading level0 row2\" >PARA_A</th>\n",
              "                        <td id=\"T_b4ffabc4_3a86_11eb_8389_0242ac1c0002row2_col0\" class=\"data row2 col0\" >0.03</td>\n",
              "                        <td id=\"T_b4ffabc4_3a86_11eb_8389_0242ac1c0002row2_col1\" class=\"data row2 col1\" >-0.27</td>\n",
              "                        <td id=\"T_b4ffabc4_3a86_11eb_8389_0242ac1c0002row2_col2\" class=\"data row2 col2\" >0.98</td>\n",
              "                        <td id=\"T_b4ffabc4_3a86_11eb_8389_0242ac1c0002row2_col3\" class=\"data row2 col3\" >1.00</td>\n",
              "                        <td id=\"T_b4ffabc4_3a86_11eb_8389_0242ac1c0002row2_col4\" class=\"data row2 col4\" >-0.16</td>\n",
              "                        <td id=\"T_b4ffabc4_3a86_11eb_8389_0242ac1c0002row2_col5\" class=\"data row2 col5\" >0.08</td>\n",
              "                        <td id=\"T_b4ffabc4_3a86_11eb_8389_0242ac1c0002row2_col6\" class=\"data row2 col6\" >-0.03</td>\n",
              "                        <td id=\"T_b4ffabc4_3a86_11eb_8389_0242ac1c0002row2_col7\" class=\"data row2 col7\" >-0.33</td>\n",
              "                        <td id=\"T_b4ffabc4_3a86_11eb_8389_0242ac1c0002row2_col8\" class=\"data row2 col8\" >-0.37</td>\n",
              "                        <td id=\"T_b4ffabc4_3a86_11eb_8389_0242ac1c0002row2_col9\" class=\"data row2 col9\" >-0.60</td>\n",
              "                        <td id=\"T_b4ffabc4_3a86_11eb_8389_0242ac1c0002row2_col10\" class=\"data row2 col10\" >-0.08</td>\n",
              "                        <td id=\"T_b4ffabc4_3a86_11eb_8389_0242ac1c0002row2_col11\" class=\"data row2 col11\" >-0.27</td>\n",
              "                        <td id=\"T_b4ffabc4_3a86_11eb_8389_0242ac1c0002row2_col12\" class=\"data row2 col12\" >-0.37</td>\n",
              "                        <td id=\"T_b4ffabc4_3a86_11eb_8389_0242ac1c0002row2_col13\" class=\"data row2 col13\" >-0.38</td>\n",
              "                        <td id=\"T_b4ffabc4_3a86_11eb_8389_0242ac1c0002row2_col14\" class=\"data row2 col14\" >-0.29</td>\n",
              "                        <td id=\"T_b4ffabc4_3a86_11eb_8389_0242ac1c0002row2_col15\" class=\"data row2 col15\" >-0.33</td>\n",
              "                        <td id=\"T_b4ffabc4_3a86_11eb_8389_0242ac1c0002row2_col16\" class=\"data row2 col16\" >0.38</td>\n",
              "                        <td id=\"T_b4ffabc4_3a86_11eb_8389_0242ac1c0002row2_col17\" class=\"data row2 col17\" >0.43</td>\n",
              "            </tr>\n",
              "            <tr>\n",
              "                        <th id=\"T_b4ffabc4_3a86_11eb_8389_0242ac1c0002level0_row3\" class=\"row_heading level0 row3\" >SCORE_A</th>\n",
              "                        <td id=\"T_b4ffabc4_3a86_11eb_8389_0242ac1c0002row3_col0\" class=\"data row3 col0\" >0.18</td>\n",
              "                        <td id=\"T_b4ffabc4_3a86_11eb_8389_0242ac1c0002row3_col1\" class=\"data row3 col1\" >0.00</td>\n",
              "                        <td id=\"T_b4ffabc4_3a86_11eb_8389_0242ac1c0002row3_col2\" class=\"data row3 col2\" >0.26</td>\n",
              "                        <td id=\"T_b4ffabc4_3a86_11eb_8389_0242ac1c0002row3_col3\" class=\"data row3 col3\" >1.00</td>\n",
              "                        <td id=\"T_b4ffabc4_3a86_11eb_8389_0242ac1c0002row3_col4\" class=\"data row3 col4\" >0.06</td>\n",
              "                        <td id=\"T_b4ffabc4_3a86_11eb_8389_0242ac1c0002row3_col5\" class=\"data row3 col5\" >0.33</td>\n",
              "                        <td id=\"T_b4ffabc4_3a86_11eb_8389_0242ac1c0002row3_col6\" class=\"data row3 col6\" >0.09</td>\n",
              "                        <td id=\"T_b4ffabc4_3a86_11eb_8389_0242ac1c0002row3_col7\" class=\"data row3 col7\" >0.05</td>\n",
              "                        <td id=\"T_b4ffabc4_3a86_11eb_8389_0242ac1c0002row3_col8\" class=\"data row3 col8\" >0.06</td>\n",
              "                        <td id=\"T_b4ffabc4_3a86_11eb_8389_0242ac1c0002row3_col9\" class=\"data row3 col9\" >0.03</td>\n",
              "                        <td id=\"T_b4ffabc4_3a86_11eb_8389_0242ac1c0002row3_col10\" class=\"data row3 col10\" >0.22</td>\n",
              "                        <td id=\"T_b4ffabc4_3a86_11eb_8389_0242ac1c0002row3_col11\" class=\"data row3 col11\" >-0.00</td>\n",
              "                        <td id=\"T_b4ffabc4_3a86_11eb_8389_0242ac1c0002row3_col12\" class=\"data row3 col12\" >-0.00</td>\n",
              "                        <td id=\"T_b4ffabc4_3a86_11eb_8389_0242ac1c0002row3_col13\" class=\"data row3 col13\" >-0.00</td>\n",
              "                        <td id=\"T_b4ffabc4_3a86_11eb_8389_0242ac1c0002row3_col14\" class=\"data row3 col14\" >0.03</td>\n",
              "                        <td id=\"T_b4ffabc4_3a86_11eb_8389_0242ac1c0002row3_col15\" class=\"data row3 col15\" >0.07</td>\n",
              "                        <td id=\"T_b4ffabc4_3a86_11eb_8389_0242ac1c0002row3_col16\" class=\"data row3 col16\" >0.52</td>\n",
              "                        <td id=\"T_b4ffabc4_3a86_11eb_8389_0242ac1c0002row3_col17\" class=\"data row3 col17\" >0.53</td>\n",
              "            </tr>\n",
              "            <tr>\n",
              "                        <th id=\"T_b4ffabc4_3a86_11eb_8389_0242ac1c0002level0_row4\" class=\"row_heading level0 row4\" >PARA_B</th>\n",
              "                        <td id=\"T_b4ffabc4_3a86_11eb_8389_0242ac1c0002row4_col0\" class=\"data row4 col0\" >-0.04</td>\n",
              "                        <td id=\"T_b4ffabc4_3a86_11eb_8389_0242ac1c0002row4_col1\" class=\"data row4 col1\" >-0.28</td>\n",
              "                        <td id=\"T_b4ffabc4_3a86_11eb_8389_0242ac1c0002row4_col2\" class=\"data row4 col2\" >-0.23</td>\n",
              "                        <td id=\"T_b4ffabc4_3a86_11eb_8389_0242ac1c0002row4_col3\" class=\"data row4 col3\" >0.10</td>\n",
              "                        <td id=\"T_b4ffabc4_3a86_11eb_8389_0242ac1c0002row4_col4\" class=\"data row4 col4\" >0.35</td>\n",
              "                        <td id=\"T_b4ffabc4_3a86_11eb_8389_0242ac1c0002row4_col5\" class=\"data row4 col5\" >0.80</td>\n",
              "                        <td id=\"T_b4ffabc4_3a86_11eb_8389_0242ac1c0002row4_col6\" class=\"data row4 col6\" >0.38</td>\n",
              "                        <td id=\"T_b4ffabc4_3a86_11eb_8389_0242ac1c0002row4_col7\" class=\"data row4 col7\" >-0.03</td>\n",
              "                        <td id=\"T_b4ffabc4_3a86_11eb_8389_0242ac1c0002row4_col8\" class=\"data row4 col8\" >-0.25</td>\n",
              "                        <td id=\"T_b4ffabc4_3a86_11eb_8389_0242ac1c0002row4_col9\" class=\"data row4 col9\" >-0.37</td>\n",
              "                        <td id=\"T_b4ffabc4_3a86_11eb_8389_0242ac1c0002row4_col10\" class=\"data row4 col10\" >0.32</td>\n",
              "                        <td id=\"T_b4ffabc4_3a86_11eb_8389_0242ac1c0002row4_col11\" class=\"data row4 col11\" >-0.36</td>\n",
              "                        <td id=\"T_b4ffabc4_3a86_11eb_8389_0242ac1c0002row4_col12\" class=\"data row4 col12\" >-0.12</td>\n",
              "                        <td id=\"T_b4ffabc4_3a86_11eb_8389_0242ac1c0002row4_col13\" class=\"data row4 col13\" >-0.11</td>\n",
              "                        <td id=\"T_b4ffabc4_3a86_11eb_8389_0242ac1c0002row4_col14\" class=\"data row4 col14\" >-0.48</td>\n",
              "                        <td id=\"T_b4ffabc4_3a86_11eb_8389_0242ac1c0002row4_col15\" class=\"data row4 col15\" >-0.36</td>\n",
              "                        <td id=\"T_b4ffabc4_3a86_11eb_8389_0242ac1c0002row4_col16\" class=\"data row4 col16\" >0.71</td>\n",
              "                        <td id=\"T_b4ffabc4_3a86_11eb_8389_0242ac1c0002row4_col17\" class=\"data row4 col17\" >0.15</td>\n",
              "            </tr>\n",
              "            <tr>\n",
              "                        <th id=\"T_b4ffabc4_3a86_11eb_8389_0242ac1c0002level0_row5\" class=\"row_heading level0 row5\" >SCORE_B</th>\n",
              "                        <td id=\"T_b4ffabc4_3a86_11eb_8389_0242ac1c0002row5_col0\" class=\"data row5 col0\" >0.04</td>\n",
              "                        <td id=\"T_b4ffabc4_3a86_11eb_8389_0242ac1c0002row5_col1\" class=\"data row5 col1\" >0.01</td>\n",
              "                        <td id=\"T_b4ffabc4_3a86_11eb_8389_0242ac1c0002row5_col2\" class=\"data row5 col2\" >0.12</td>\n",
              "                        <td id=\"T_b4ffabc4_3a86_11eb_8389_0242ac1c0002row5_col3\" class=\"data row5 col3\" >0.32</td>\n",
              "                        <td id=\"T_b4ffabc4_3a86_11eb_8389_0242ac1c0002row5_col4\" class=\"data row5 col4\" >0.12</td>\n",
              "                        <td id=\"T_b4ffabc4_3a86_11eb_8389_0242ac1c0002row5_col5\" class=\"data row5 col5\" >1.00</td>\n",
              "                        <td id=\"T_b4ffabc4_3a86_11eb_8389_0242ac1c0002row5_col6\" class=\"data row5 col6\" >0.14</td>\n",
              "                        <td id=\"T_b4ffabc4_3a86_11eb_8389_0242ac1c0002row5_col7\" class=\"data row5 col7\" >0.07</td>\n",
              "                        <td id=\"T_b4ffabc4_3a86_11eb_8389_0242ac1c0002row5_col8\" class=\"data row5 col8\" >0.09</td>\n",
              "                        <td id=\"T_b4ffabc4_3a86_11eb_8389_0242ac1c0002row5_col9\" class=\"data row5 col9\" >0.03</td>\n",
              "                        <td id=\"T_b4ffabc4_3a86_11eb_8389_0242ac1c0002row5_col10\" class=\"data row5 col10\" >0.32</td>\n",
              "                        <td id=\"T_b4ffabc4_3a86_11eb_8389_0242ac1c0002row5_col11\" class=\"data row5 col11\" >-0.01</td>\n",
              "                        <td id=\"T_b4ffabc4_3a86_11eb_8389_0242ac1c0002row5_col12\" class=\"data row5 col12\" >0.00</td>\n",
              "                        <td id=\"T_b4ffabc4_3a86_11eb_8389_0242ac1c0002row5_col13\" class=\"data row5 col13\" >0.00</td>\n",
              "                        <td id=\"T_b4ffabc4_3a86_11eb_8389_0242ac1c0002row5_col14\" class=\"data row5 col14\" >0.04</td>\n",
              "                        <td id=\"T_b4ffabc4_3a86_11eb_8389_0242ac1c0002row5_col15\" class=\"data row5 col15\" >0.09</td>\n",
              "                        <td id=\"T_b4ffabc4_3a86_11eb_8389_0242ac1c0002row5_col16\" class=\"data row5 col16\" >0.81</td>\n",
              "                        <td id=\"T_b4ffabc4_3a86_11eb_8389_0242ac1c0002row5_col17\" class=\"data row5 col17\" >0.29</td>\n",
              "            </tr>\n",
              "            <tr>\n",
              "                        <th id=\"T_b4ffabc4_3a86_11eb_8389_0242ac1c0002level0_row6\" class=\"row_heading level0 row6\" >TOTAL</th>\n",
              "                        <td id=\"T_b4ffabc4_3a86_11eb_8389_0242ac1c0002row6_col0\" class=\"data row6 col0\" >-0.07</td>\n",
              "                        <td id=\"T_b4ffabc4_3a86_11eb_8389_0242ac1c0002row6_col1\" class=\"data row6 col1\" >-0.33</td>\n",
              "                        <td id=\"T_b4ffabc4_3a86_11eb_8389_0242ac1c0002row6_col2\" class=\"data row6 col2\" >-0.08</td>\n",
              "                        <td id=\"T_b4ffabc4_3a86_11eb_8389_0242ac1c0002row6_col3\" class=\"data row6 col3\" >0.54</td>\n",
              "                        <td id=\"T_b4ffabc4_3a86_11eb_8389_0242ac1c0002row6_col4\" class=\"data row6 col4\" >0.33</td>\n",
              "                        <td id=\"T_b4ffabc4_3a86_11eb_8389_0242ac1c0002row6_col5\" class=\"data row6 col5\" >0.63</td>\n",
              "                        <td id=\"T_b4ffabc4_3a86_11eb_8389_0242ac1c0002row6_col6\" class=\"data row6 col6\" >0.41</td>\n",
              "                        <td id=\"T_b4ffabc4_3a86_11eb_8389_0242ac1c0002row6_col7\" class=\"data row6 col7\" >-0.28</td>\n",
              "                        <td id=\"T_b4ffabc4_3a86_11eb_8389_0242ac1c0002row6_col8\" class=\"data row6 col8\" >-0.24</td>\n",
              "                        <td id=\"T_b4ffabc4_3a86_11eb_8389_0242ac1c0002row6_col9\" class=\"data row6 col9\" >-0.37</td>\n",
              "                        <td id=\"T_b4ffabc4_3a86_11eb_8389_0242ac1c0002row6_col10\" class=\"data row6 col10\" >0.15</td>\n",
              "                        <td id=\"T_b4ffabc4_3a86_11eb_8389_0242ac1c0002row6_col11\" class=\"data row6 col11\" >-0.41</td>\n",
              "                        <td id=\"T_b4ffabc4_3a86_11eb_8389_0242ac1c0002row6_col12\" class=\"data row6 col12\" >-0.35</td>\n",
              "                        <td id=\"T_b4ffabc4_3a86_11eb_8389_0242ac1c0002row6_col13\" class=\"data row6 col13\" >-0.29</td>\n",
              "                        <td id=\"T_b4ffabc4_3a86_11eb_8389_0242ac1c0002row6_col14\" class=\"data row6 col14\" >-0.35</td>\n",
              "                        <td id=\"T_b4ffabc4_3a86_11eb_8389_0242ac1c0002row6_col15\" class=\"data row6 col15\" >-0.40</td>\n",
              "                        <td id=\"T_b4ffabc4_3a86_11eb_8389_0242ac1c0002row6_col16\" class=\"data row6 col16\" >0.71</td>\n",
              "                        <td id=\"T_b4ffabc4_3a86_11eb_8389_0242ac1c0002row6_col17\" class=\"data row6 col17\" >0.38</td>\n",
              "            </tr>\n",
              "            <tr>\n",
              "                        <th id=\"T_b4ffabc4_3a86_11eb_8389_0242ac1c0002level0_row7\" class=\"row_heading level0 row7\" >numbers</th>\n",
              "                        <td id=\"T_b4ffabc4_3a86_11eb_8389_0242ac1c0002row7_col0\" class=\"data row7 col0\" >0.03</td>\n",
              "                        <td id=\"T_b4ffabc4_3a86_11eb_8389_0242ac1c0002row7_col1\" class=\"data row7 col1\" >0.00</td>\n",
              "                        <td id=\"T_b4ffabc4_3a86_11eb_8389_0242ac1c0002row7_col2\" class=\"data row7 col2\" >0.01</td>\n",
              "                        <td id=\"T_b4ffabc4_3a86_11eb_8389_0242ac1c0002row7_col3\" class=\"data row7 col3\" >0.08</td>\n",
              "                        <td id=\"T_b4ffabc4_3a86_11eb_8389_0242ac1c0002row7_col4\" class=\"data row7 col4\" >0.04</td>\n",
              "                        <td id=\"T_b4ffabc4_3a86_11eb_8389_0242ac1c0002row7_col5\" class=\"data row7 col5\" >0.11</td>\n",
              "                        <td id=\"T_b4ffabc4_3a86_11eb_8389_0242ac1c0002row7_col6\" class=\"data row7 col6\" >0.05</td>\n",
              "                        <td id=\"T_b4ffabc4_3a86_11eb_8389_0242ac1c0002row7_col7\" class=\"data row7 col7\" >0.88</td>\n",
              "                        <td id=\"T_b4ffabc4_3a86_11eb_8389_0242ac1c0002row7_col8\" class=\"data row7 col8\" >1.00</td>\n",
              "                        <td id=\"T_b4ffabc4_3a86_11eb_8389_0242ac1c0002row7_col9\" class=\"data row7 col9\" >0.02</td>\n",
              "                        <td id=\"T_b4ffabc4_3a86_11eb_8389_0242ac1c0002row7_col10\" class=\"data row7 col10\" >0.27</td>\n",
              "                        <td id=\"T_b4ffabc4_3a86_11eb_8389_0242ac1c0002row7_col11\" class=\"data row7 col11\" >-0.00</td>\n",
              "                        <td id=\"T_b4ffabc4_3a86_11eb_8389_0242ac1c0002row7_col12\" class=\"data row7 col12\" >-0.00</td>\n",
              "                        <td id=\"T_b4ffabc4_3a86_11eb_8389_0242ac1c0002row7_col13\" class=\"data row7 col13\" >-0.01</td>\n",
              "                        <td id=\"T_b4ffabc4_3a86_11eb_8389_0242ac1c0002row7_col14\" class=\"data row7 col14\" >0.00</td>\n",
              "                        <td id=\"T_b4ffabc4_3a86_11eb_8389_0242ac1c0002row7_col15\" class=\"data row7 col15\" >0.02</td>\n",
              "                        <td id=\"T_b4ffabc4_3a86_11eb_8389_0242ac1c0002row7_col16\" class=\"data row7 col16\" >0.34</td>\n",
              "                        <td id=\"T_b4ffabc4_3a86_11eb_8389_0242ac1c0002row7_col17\" class=\"data row7 col17\" >0.06</td>\n",
              "            </tr>\n",
              "            <tr>\n",
              "                        <th id=\"T_b4ffabc4_3a86_11eb_8389_0242ac1c0002level0_row8\" class=\"row_heading level0 row8\" >Marks</th>\n",
              "                        <td id=\"T_b4ffabc4_3a86_11eb_8389_0242ac1c0002row8_col0\" class=\"data row8 col0\" >0.03</td>\n",
              "                        <td id=\"T_b4ffabc4_3a86_11eb_8389_0242ac1c0002row8_col1\" class=\"data row8 col1\" >0.00</td>\n",
              "                        <td id=\"T_b4ffabc4_3a86_11eb_8389_0242ac1c0002row8_col2\" class=\"data row8 col2\" >0.01</td>\n",
              "                        <td id=\"T_b4ffabc4_3a86_11eb_8389_0242ac1c0002row8_col3\" class=\"data row8 col3\" >0.08</td>\n",
              "                        <td id=\"T_b4ffabc4_3a86_11eb_8389_0242ac1c0002row8_col4\" class=\"data row8 col4\" >0.04</td>\n",
              "                        <td id=\"T_b4ffabc4_3a86_11eb_8389_0242ac1c0002row8_col5\" class=\"data row8 col5\" >0.11</td>\n",
              "                        <td id=\"T_b4ffabc4_3a86_11eb_8389_0242ac1c0002row8_col6\" class=\"data row8 col6\" >0.04</td>\n",
              "                        <td id=\"T_b4ffabc4_3a86_11eb_8389_0242ac1c0002row8_col7\" class=\"data row8 col7\" >0.83</td>\n",
              "                        <td id=\"T_b4ffabc4_3a86_11eb_8389_0242ac1c0002row8_col8\" class=\"data row8 col8\" >1.00</td>\n",
              "                        <td id=\"T_b4ffabc4_3a86_11eb_8389_0242ac1c0002row8_col9\" class=\"data row8 col9\" >0.03</td>\n",
              "                        <td id=\"T_b4ffabc4_3a86_11eb_8389_0242ac1c0002row8_col10\" class=\"data row8 col10\" >0.27</td>\n",
              "                        <td id=\"T_b4ffabc4_3a86_11eb_8389_0242ac1c0002row8_col11\" class=\"data row8 col11\" >0.01</td>\n",
              "                        <td id=\"T_b4ffabc4_3a86_11eb_8389_0242ac1c0002row8_col12\" class=\"data row8 col12\" >-0.00</td>\n",
              "                        <td id=\"T_b4ffabc4_3a86_11eb_8389_0242ac1c0002row8_col13\" class=\"data row8 col13\" >-0.01</td>\n",
              "                        <td id=\"T_b4ffabc4_3a86_11eb_8389_0242ac1c0002row8_col14\" class=\"data row8 col14\" >0.03</td>\n",
              "                        <td id=\"T_b4ffabc4_3a86_11eb_8389_0242ac1c0002row8_col15\" class=\"data row8 col15\" >0.05</td>\n",
              "                        <td id=\"T_b4ffabc4_3a86_11eb_8389_0242ac1c0002row8_col16\" class=\"data row8 col16\" >0.34</td>\n",
              "                        <td id=\"T_b4ffabc4_3a86_11eb_8389_0242ac1c0002row8_col17\" class=\"data row8 col17\" >0.06</td>\n",
              "            </tr>\n",
              "            <tr>\n",
              "                        <th id=\"T_b4ffabc4_3a86_11eb_8389_0242ac1c0002level0_row9\" class=\"row_heading level0 row9\" >Money_Value</th>\n",
              "                        <td id=\"T_b4ffabc4_3a86_11eb_8389_0242ac1c0002row9_col0\" class=\"data row9 col0\" >-0.04</td>\n",
              "                        <td id=\"T_b4ffabc4_3a86_11eb_8389_0242ac1c0002row9_col1\" class=\"data row9 col1\" >-0.28</td>\n",
              "                        <td id=\"T_b4ffabc4_3a86_11eb_8389_0242ac1c0002row9_col2\" class=\"data row9 col2\" >0.04</td>\n",
              "                        <td id=\"T_b4ffabc4_3a86_11eb_8389_0242ac1c0002row9_col3\" class=\"data row9 col3\" >0.06</td>\n",
              "                        <td id=\"T_b4ffabc4_3a86_11eb_8389_0242ac1c0002row9_col4\" class=\"data row9 col4\" >-0.48</td>\n",
              "                        <td id=\"T_b4ffabc4_3a86_11eb_8389_0242ac1c0002row9_col5\" class=\"data row9 col5\" >0.17</td>\n",
              "                        <td id=\"T_b4ffabc4_3a86_11eb_8389_0242ac1c0002row9_col6\" class=\"data row9 col6\" >-0.41</td>\n",
              "                        <td id=\"T_b4ffabc4_3a86_11eb_8389_0242ac1c0002row9_col7\" class=\"data row9 col7\" >0.08</td>\n",
              "                        <td id=\"T_b4ffabc4_3a86_11eb_8389_0242ac1c0002row9_col8\" class=\"data row9 col8\" >-0.06</td>\n",
              "                        <td id=\"T_b4ffabc4_3a86_11eb_8389_0242ac1c0002row9_col9\" class=\"data row9 col9\" >0.98</td>\n",
              "                        <td id=\"T_b4ffabc4_3a86_11eb_8389_0242ac1c0002row9_col10\" class=\"data row9 col10\" >1.00</td>\n",
              "                        <td id=\"T_b4ffabc4_3a86_11eb_8389_0242ac1c0002row9_col11\" class=\"data row9 col11\" >-0.20</td>\n",
              "                        <td id=\"T_b4ffabc4_3a86_11eb_8389_0242ac1c0002row9_col12\" class=\"data row9 col12\" >-0.25</td>\n",
              "                        <td id=\"T_b4ffabc4_3a86_11eb_8389_0242ac1c0002row9_col13\" class=\"data row9 col13\" >-0.25</td>\n",
              "                        <td id=\"T_b4ffabc4_3a86_11eb_8389_0242ac1c0002row9_col14\" class=\"data row9 col14\" >-0.24</td>\n",
              "                        <td id=\"T_b4ffabc4_3a86_11eb_8389_0242ac1c0002row9_col15\" class=\"data row9 col15\" >-0.34</td>\n",
              "                        <td id=\"T_b4ffabc4_3a86_11eb_8389_0242ac1c0002row9_col16\" class=\"data row9 col16\" >0.46</td>\n",
              "                        <td id=\"T_b4ffabc4_3a86_11eb_8389_0242ac1c0002row9_col17\" class=\"data row9 col17\" >0.13</td>\n",
              "            </tr>\n",
              "            <tr>\n",
              "                        <th id=\"T_b4ffabc4_3a86_11eb_8389_0242ac1c0002level0_row10\" class=\"row_heading level0 row10\" >MONEY_Marks</th>\n",
              "                        <td id=\"T_b4ffabc4_3a86_11eb_8389_0242ac1c0002row10_col0\" class=\"data row10 col0\" >0.10</td>\n",
              "                        <td id=\"T_b4ffabc4_3a86_11eb_8389_0242ac1c0002row10_col1\" class=\"data row10 col1\" >0.01</td>\n",
              "                        <td id=\"T_b4ffabc4_3a86_11eb_8389_0242ac1c0002row10_col2\" class=\"data row10 col2\" >0.07</td>\n",
              "                        <td id=\"T_b4ffabc4_3a86_11eb_8389_0242ac1c0002row10_col3\" class=\"data row10 col3\" >0.24</td>\n",
              "                        <td id=\"T_b4ffabc4_3a86_11eb_8389_0242ac1c0002row10_col4\" class=\"data row10 col4\" >0.09</td>\n",
              "                        <td id=\"T_b4ffabc4_3a86_11eb_8389_0242ac1c0002row10_col5\" class=\"data row10 col5\" >0.34</td>\n",
              "                        <td id=\"T_b4ffabc4_3a86_11eb_8389_0242ac1c0002row10_col6\" class=\"data row10 col6\" >0.10</td>\n",
              "                        <td id=\"T_b4ffabc4_3a86_11eb_8389_0242ac1c0002row10_col7\" class=\"data row10 col7\" >0.19</td>\n",
              "                        <td id=\"T_b4ffabc4_3a86_11eb_8389_0242ac1c0002row10_col8\" class=\"data row10 col8\" >0.25</td>\n",
              "                        <td id=\"T_b4ffabc4_3a86_11eb_8389_0242ac1c0002row10_col9\" class=\"data row10 col9\" >0.15</td>\n",
              "                        <td id=\"T_b4ffabc4_3a86_11eb_8389_0242ac1c0002row10_col10\" class=\"data row10 col10\" >1.00</td>\n",
              "                        <td id=\"T_b4ffabc4_3a86_11eb_8389_0242ac1c0002row10_col11\" class=\"data row10 col11\" >-0.00</td>\n",
              "                        <td id=\"T_b4ffabc4_3a86_11eb_8389_0242ac1c0002row10_col12\" class=\"data row10 col12\" >0.00</td>\n",
              "                        <td id=\"T_b4ffabc4_3a86_11eb_8389_0242ac1c0002row10_col13\" class=\"data row10 col13\" >0.01</td>\n",
              "                        <td id=\"T_b4ffabc4_3a86_11eb_8389_0242ac1c0002row10_col14\" class=\"data row10 col14\" >0.05</td>\n",
              "                        <td id=\"T_b4ffabc4_3a86_11eb_8389_0242ac1c0002row10_col15\" class=\"data row10 col15\" >0.10</td>\n",
              "                        <td id=\"T_b4ffabc4_3a86_11eb_8389_0242ac1c0002row10_col16\" class=\"data row10 col16\" >0.58</td>\n",
              "                        <td id=\"T_b4ffabc4_3a86_11eb_8389_0242ac1c0002row10_col17\" class=\"data row10 col17\" >0.21</td>\n",
              "            </tr>\n",
              "            <tr>\n",
              "                        <th id=\"T_b4ffabc4_3a86_11eb_8389_0242ac1c0002level0_row11\" class=\"row_heading level0 row11\" >District</th>\n",
              "                        <td id=\"T_b4ffabc4_3a86_11eb_8389_0242ac1c0002row11_col0\" class=\"data row11 col0\" >0.00</td>\n",
              "                        <td id=\"T_b4ffabc4_3a86_11eb_8389_0242ac1c0002row11_col1\" class=\"data row11 col1\" >0.01</td>\n",
              "                        <td id=\"T_b4ffabc4_3a86_11eb_8389_0242ac1c0002row11_col2\" class=\"data row11 col2\" >0.01</td>\n",
              "                        <td id=\"T_b4ffabc4_3a86_11eb_8389_0242ac1c0002row11_col3\" class=\"data row11 col3\" >-0.00</td>\n",
              "                        <td id=\"T_b4ffabc4_3a86_11eb_8389_0242ac1c0002row11_col4\" class=\"data row11 col4\" >-0.02</td>\n",
              "                        <td id=\"T_b4ffabc4_3a86_11eb_8389_0242ac1c0002row11_col5\" class=\"data row11 col5\" >-0.01</td>\n",
              "                        <td id=\"T_b4ffabc4_3a86_11eb_8389_0242ac1c0002row11_col6\" class=\"data row11 col6\" >-0.01</td>\n",
              "                        <td id=\"T_b4ffabc4_3a86_11eb_8389_0242ac1c0002row11_col7\" class=\"data row11 col7\" >0.00</td>\n",
              "                        <td id=\"T_b4ffabc4_3a86_11eb_8389_0242ac1c0002row11_col8\" class=\"data row11 col8\" >0.01</td>\n",
              "                        <td id=\"T_b4ffabc4_3a86_11eb_8389_0242ac1c0002row11_col9\" class=\"data row11 col9\" >-0.00</td>\n",
              "                        <td id=\"T_b4ffabc4_3a86_11eb_8389_0242ac1c0002row11_col10\" class=\"data row11 col10\" >-0.00</td>\n",
              "                        <td id=\"T_b4ffabc4_3a86_11eb_8389_0242ac1c0002row11_col11\" class=\"data row11 col11\" >1.00</td>\n",
              "                        <td id=\"T_b4ffabc4_3a86_11eb_8389_0242ac1c0002row11_col12\" class=\"data row11 col12\" >-0.01</td>\n",
              "                        <td id=\"T_b4ffabc4_3a86_11eb_8389_0242ac1c0002row11_col13\" class=\"data row11 col13\" >-0.01</td>\n",
              "                        <td id=\"T_b4ffabc4_3a86_11eb_8389_0242ac1c0002row11_col14\" class=\"data row11 col14\" >0.00</td>\n",
              "                        <td id=\"T_b4ffabc4_3a86_11eb_8389_0242ac1c0002row11_col15\" class=\"data row11 col15\" >0.01</td>\n",
              "                        <td id=\"T_b4ffabc4_3a86_11eb_8389_0242ac1c0002row11_col16\" class=\"data row11 col16\" >0.03</td>\n",
              "                        <td id=\"T_b4ffabc4_3a86_11eb_8389_0242ac1c0002row11_col17\" class=\"data row11 col17\" >0.11</td>\n",
              "            </tr>\n",
              "            <tr>\n",
              "                        <th id=\"T_b4ffabc4_3a86_11eb_8389_0242ac1c0002level0_row12\" class=\"row_heading level0 row12\" >Loss</th>\n",
              "                        <td id=\"T_b4ffabc4_3a86_11eb_8389_0242ac1c0002row12_col0\" class=\"data row12 col0\" >0.00</td>\n",
              "                        <td id=\"T_b4ffabc4_3a86_11eb_8389_0242ac1c0002row12_col1\" class=\"data row12 col1\" >-0.00</td>\n",
              "                        <td id=\"T_b4ffabc4_3a86_11eb_8389_0242ac1c0002row12_col2\" class=\"data row12 col2\" >-0.00</td>\n",
              "                        <td id=\"T_b4ffabc4_3a86_11eb_8389_0242ac1c0002row12_col3\" class=\"data row12 col3\" >0.01</td>\n",
              "                        <td id=\"T_b4ffabc4_3a86_11eb_8389_0242ac1c0002row12_col4\" class=\"data row12 col4\" >-0.00</td>\n",
              "                        <td id=\"T_b4ffabc4_3a86_11eb_8389_0242ac1c0002row12_col5\" class=\"data row12 col5\" >-0.00</td>\n",
              "                        <td id=\"T_b4ffabc4_3a86_11eb_8389_0242ac1c0002row12_col6\" class=\"data row12 col6\" >-0.00</td>\n",
              "                        <td id=\"T_b4ffabc4_3a86_11eb_8389_0242ac1c0002row12_col7\" class=\"data row12 col7\" >-0.00</td>\n",
              "                        <td id=\"T_b4ffabc4_3a86_11eb_8389_0242ac1c0002row12_col8\" class=\"data row12 col8\" >-0.00</td>\n",
              "                        <td id=\"T_b4ffabc4_3a86_11eb_8389_0242ac1c0002row12_col9\" class=\"data row12 col9\" >-0.00</td>\n",
              "                        <td id=\"T_b4ffabc4_3a86_11eb_8389_0242ac1c0002row12_col10\" class=\"data row12 col10\" >0.01</td>\n",
              "                        <td id=\"T_b4ffabc4_3a86_11eb_8389_0242ac1c0002row12_col11\" class=\"data row12 col11\" >-0.00</td>\n",
              "                        <td id=\"T_b4ffabc4_3a86_11eb_8389_0242ac1c0002row12_col12\" class=\"data row12 col12\" >0.99</td>\n",
              "                        <td id=\"T_b4ffabc4_3a86_11eb_8389_0242ac1c0002row12_col13\" class=\"data row12 col13\" >0.96</td>\n",
              "                        <td id=\"T_b4ffabc4_3a86_11eb_8389_0242ac1c0002row12_col14\" class=\"data row12 col14\" >-0.00</td>\n",
              "                        <td id=\"T_b4ffabc4_3a86_11eb_8389_0242ac1c0002row12_col15\" class=\"data row12 col15\" >0.00</td>\n",
              "                        <td id=\"T_b4ffabc4_3a86_11eb_8389_0242ac1c0002row12_col16\" class=\"data row12 col16\" >0.02</td>\n",
              "                        <td id=\"T_b4ffabc4_3a86_11eb_8389_0242ac1c0002row12_col17\" class=\"data row12 col17\" >0.01</td>\n",
              "            </tr>\n",
              "            <tr>\n",
              "                        <th id=\"T_b4ffabc4_3a86_11eb_8389_0242ac1c0002level0_row13\" class=\"row_heading level0 row13\" >LOSS_SCORE</th>\n",
              "                        <td id=\"T_b4ffabc4_3a86_11eb_8389_0242ac1c0002row13_col0\" class=\"data row13 col0\" >0.00</td>\n",
              "                        <td id=\"T_b4ffabc4_3a86_11eb_8389_0242ac1c0002row13_col1\" class=\"data row13 col1\" >-0.00</td>\n",
              "                        <td id=\"T_b4ffabc4_3a86_11eb_8389_0242ac1c0002row13_col2\" class=\"data row13 col2\" >-0.00</td>\n",
              "                        <td id=\"T_b4ffabc4_3a86_11eb_8389_0242ac1c0002row13_col3\" class=\"data row13 col3\" >0.00</td>\n",
              "                        <td id=\"T_b4ffabc4_3a86_11eb_8389_0242ac1c0002row13_col4\" class=\"data row13 col4\" >-0.00</td>\n",
              "                        <td id=\"T_b4ffabc4_3a86_11eb_8389_0242ac1c0002row13_col5\" class=\"data row13 col5\" >-0.00</td>\n",
              "                        <td id=\"T_b4ffabc4_3a86_11eb_8389_0242ac1c0002row13_col6\" class=\"data row13 col6\" >-0.00</td>\n",
              "                        <td id=\"T_b4ffabc4_3a86_11eb_8389_0242ac1c0002row13_col7\" class=\"data row13 col7\" >-0.01</td>\n",
              "                        <td id=\"T_b4ffabc4_3a86_11eb_8389_0242ac1c0002row13_col8\" class=\"data row13 col8\" >-0.01</td>\n",
              "                        <td id=\"T_b4ffabc4_3a86_11eb_8389_0242ac1c0002row13_col9\" class=\"data row13 col9\" >-0.00</td>\n",
              "                        <td id=\"T_b4ffabc4_3a86_11eb_8389_0242ac1c0002row13_col10\" class=\"data row13 col10\" >0.01</td>\n",
              "                        <td id=\"T_b4ffabc4_3a86_11eb_8389_0242ac1c0002row13_col11\" class=\"data row13 col11\" >-0.01</td>\n",
              "                        <td id=\"T_b4ffabc4_3a86_11eb_8389_0242ac1c0002row13_col12\" class=\"data row13 col12\" >0.95</td>\n",
              "                        <td id=\"T_b4ffabc4_3a86_11eb_8389_0242ac1c0002row13_col13\" class=\"data row13 col13\" >0.99</td>\n",
              "                        <td id=\"T_b4ffabc4_3a86_11eb_8389_0242ac1c0002row13_col14\" class=\"data row13 col14\" >0.00</td>\n",
              "                        <td id=\"T_b4ffabc4_3a86_11eb_8389_0242ac1c0002row13_col15\" class=\"data row13 col15\" >0.02</td>\n",
              "                        <td id=\"T_b4ffabc4_3a86_11eb_8389_0242ac1c0002row13_col16\" class=\"data row13 col16\" >0.02</td>\n",
              "                        <td id=\"T_b4ffabc4_3a86_11eb_8389_0242ac1c0002row13_col17\" class=\"data row13 col17\" >0.02</td>\n",
              "            </tr>\n",
              "            <tr>\n",
              "                        <th id=\"T_b4ffabc4_3a86_11eb_8389_0242ac1c0002level0_row14\" class=\"row_heading level0 row14\" >History</th>\n",
              "                        <td id=\"T_b4ffabc4_3a86_11eb_8389_0242ac1c0002row14_col0\" class=\"data row14 col0\" >0.02</td>\n",
              "                        <td id=\"T_b4ffabc4_3a86_11eb_8389_0242ac1c0002row14_col1\" class=\"data row14 col1\" >0.00</td>\n",
              "                        <td id=\"T_b4ffabc4_3a86_11eb_8389_0242ac1c0002row14_col2\" class=\"data row14 col2\" >0.01</td>\n",
              "                        <td id=\"T_b4ffabc4_3a86_11eb_8389_0242ac1c0002row14_col3\" class=\"data row14 col3\" >0.07</td>\n",
              "                        <td id=\"T_b4ffabc4_3a86_11eb_8389_0242ac1c0002row14_col4\" class=\"data row14 col4\" >-0.02</td>\n",
              "                        <td id=\"T_b4ffabc4_3a86_11eb_8389_0242ac1c0002row14_col5\" class=\"data row14 col5\" >0.11</td>\n",
              "                        <td id=\"T_b4ffabc4_3a86_11eb_8389_0242ac1c0002row14_col6\" class=\"data row14 col6\" >0.02</td>\n",
              "                        <td id=\"T_b4ffabc4_3a86_11eb_8389_0242ac1c0002row14_col7\" class=\"data row14 col7\" >0.06</td>\n",
              "                        <td id=\"T_b4ffabc4_3a86_11eb_8389_0242ac1c0002row14_col8\" class=\"data row14 col8\" >0.06</td>\n",
              "                        <td id=\"T_b4ffabc4_3a86_11eb_8389_0242ac1c0002row14_col9\" class=\"data row14 col9\" >0.01</td>\n",
              "                        <td id=\"T_b4ffabc4_3a86_11eb_8389_0242ac1c0002row14_col10\" class=\"data row14 col10\" >0.12</td>\n",
              "                        <td id=\"T_b4ffabc4_3a86_11eb_8389_0242ac1c0002row14_col11\" class=\"data row14 col11\" >-0.00</td>\n",
              "                        <td id=\"T_b4ffabc4_3a86_11eb_8389_0242ac1c0002row14_col12\" class=\"data row14 col12\" >-0.01</td>\n",
              "                        <td id=\"T_b4ffabc4_3a86_11eb_8389_0242ac1c0002row14_col13\" class=\"data row14 col13\" >-0.03</td>\n",
              "                        <td id=\"T_b4ffabc4_3a86_11eb_8389_0242ac1c0002row14_col14\" class=\"data row14 col14\" >0.90</td>\n",
              "                        <td id=\"T_b4ffabc4_3a86_11eb_8389_0242ac1c0002row14_col15\" class=\"data row14 col15\" >1.00</td>\n",
              "                        <td id=\"T_b4ffabc4_3a86_11eb_8389_0242ac1c0002row14_col16\" class=\"data row14 col16\" >0.20</td>\n",
              "                        <td id=\"T_b4ffabc4_3a86_11eb_8389_0242ac1c0002row14_col17\" class=\"data row14 col17\" >0.04</td>\n",
              "            </tr>\n",
              "            <tr>\n",
              "                        <th id=\"T_b4ffabc4_3a86_11eb_8389_0242ac1c0002level0_row15\" class=\"row_heading level0 row15\" >History_score</th>\n",
              "                        <td id=\"T_b4ffabc4_3a86_11eb_8389_0242ac1c0002row15_col0\" class=\"data row15 col0\" >0.02</td>\n",
              "                        <td id=\"T_b4ffabc4_3a86_11eb_8389_0242ac1c0002row15_col1\" class=\"data row15 col1\" >0.00</td>\n",
              "                        <td id=\"T_b4ffabc4_3a86_11eb_8389_0242ac1c0002row15_col2\" class=\"data row15 col2\" >0.02</td>\n",
              "                        <td id=\"T_b4ffabc4_3a86_11eb_8389_0242ac1c0002row15_col3\" class=\"data row15 col3\" >0.08</td>\n",
              "                        <td id=\"T_b4ffabc4_3a86_11eb_8389_0242ac1c0002row15_col4\" class=\"data row15 col4\" >0.03</td>\n",
              "                        <td id=\"T_b4ffabc4_3a86_11eb_8389_0242ac1c0002row15_col5\" class=\"data row15 col5\" >0.10</td>\n",
              "                        <td id=\"T_b4ffabc4_3a86_11eb_8389_0242ac1c0002row15_col6\" class=\"data row15 col6\" >0.02</td>\n",
              "                        <td id=\"T_b4ffabc4_3a86_11eb_8389_0242ac1c0002row15_col7\" class=\"data row15 col7\" >0.03</td>\n",
              "                        <td id=\"T_b4ffabc4_3a86_11eb_8389_0242ac1c0002row15_col8\" class=\"data row15 col8\" >0.05</td>\n",
              "                        <td id=\"T_b4ffabc4_3a86_11eb_8389_0242ac1c0002row15_col9\" class=\"data row15 col9\" >0.01</td>\n",
              "                        <td id=\"T_b4ffabc4_3a86_11eb_8389_0242ac1c0002row15_col10\" class=\"data row15 col10\" >0.12</td>\n",
              "                        <td id=\"T_b4ffabc4_3a86_11eb_8389_0242ac1c0002row15_col11\" class=\"data row15 col11\" >-0.00</td>\n",
              "                        <td id=\"T_b4ffabc4_3a86_11eb_8389_0242ac1c0002row15_col12\" class=\"data row15 col12\" >-0.00</td>\n",
              "                        <td id=\"T_b4ffabc4_3a86_11eb_8389_0242ac1c0002row15_col13\" class=\"data row15 col13\" >0.00</td>\n",
              "                        <td id=\"T_b4ffabc4_3a86_11eb_8389_0242ac1c0002row15_col14\" class=\"data row15 col14\" >0.72</td>\n",
              "                        <td id=\"T_b4ffabc4_3a86_11eb_8389_0242ac1c0002row15_col15\" class=\"data row15 col15\" >1.00</td>\n",
              "                        <td id=\"T_b4ffabc4_3a86_11eb_8389_0242ac1c0002row15_col16\" class=\"data row15 col16\" >0.20</td>\n",
              "                        <td id=\"T_b4ffabc4_3a86_11eb_8389_0242ac1c0002row15_col17\" class=\"data row15 col17\" >0.04</td>\n",
              "            </tr>\n",
              "            <tr>\n",
              "                        <th id=\"T_b4ffabc4_3a86_11eb_8389_0242ac1c0002level0_row16\" class=\"row_heading level0 row16\" >Score</th>\n",
              "                        <td id=\"T_b4ffabc4_3a86_11eb_8389_0242ac1c0002row16_col0\" class=\"data row16 col0\" >0.17</td>\n",
              "                        <td id=\"T_b4ffabc4_3a86_11eb_8389_0242ac1c0002row16_col1\" class=\"data row16 col1\" >-0.00</td>\n",
              "                        <td id=\"T_b4ffabc4_3a86_11eb_8389_0242ac1c0002row16_col2\" class=\"data row16 col2\" >0.19</td>\n",
              "                        <td id=\"T_b4ffabc4_3a86_11eb_8389_0242ac1c0002row16_col3\" class=\"data row16 col3\" >0.63</td>\n",
              "                        <td id=\"T_b4ffabc4_3a86_11eb_8389_0242ac1c0002row16_col4\" class=\"data row16 col4\" >-0.10</td>\n",
              "                        <td id=\"T_b4ffabc4_3a86_11eb_8389_0242ac1c0002row16_col5\" class=\"data row16 col5\" >0.86</td>\n",
              "                        <td id=\"T_b4ffabc4_3a86_11eb_8389_0242ac1c0002row16_col6\" class=\"data row16 col6\" >-0.17</td>\n",
              "                        <td id=\"T_b4ffabc4_3a86_11eb_8389_0242ac1c0002row16_col7\" class=\"data row16 col7\" >0.41</td>\n",
              "                        <td id=\"T_b4ffabc4_3a86_11eb_8389_0242ac1c0002row16_col8\" class=\"data row16 col8\" >0.54</td>\n",
              "                        <td id=\"T_b4ffabc4_3a86_11eb_8389_0242ac1c0002row16_col9\" class=\"data row16 col9\" >0.05</td>\n",
              "                        <td id=\"T_b4ffabc4_3a86_11eb_8389_0242ac1c0002row16_col10\" class=\"data row16 col10\" >0.59</td>\n",
              "                        <td id=\"T_b4ffabc4_3a86_11eb_8389_0242ac1c0002row16_col11\" class=\"data row16 col11\" >0.14</td>\n",
              "                        <td id=\"T_b4ffabc4_3a86_11eb_8389_0242ac1c0002row16_col12\" class=\"data row16 col12\" >0.01</td>\n",
              "                        <td id=\"T_b4ffabc4_3a86_11eb_8389_0242ac1c0002row16_col13\" class=\"data row16 col13\" >0.01</td>\n",
              "                        <td id=\"T_b4ffabc4_3a86_11eb_8389_0242ac1c0002row16_col14\" class=\"data row16 col14\" >0.11</td>\n",
              "                        <td id=\"T_b4ffabc4_3a86_11eb_8389_0242ac1c0002row16_col15\" class=\"data row16 col15\" >0.20</td>\n",
              "                        <td id=\"T_b4ffabc4_3a86_11eb_8389_0242ac1c0002row16_col16\" class=\"data row16 col16\" >1.00</td>\n",
              "                        <td id=\"T_b4ffabc4_3a86_11eb_8389_0242ac1c0002row16_col17\" class=\"data row16 col17\" >1.00</td>\n",
              "            </tr>\n",
              "            <tr>\n",
              "                        <th id=\"T_b4ffabc4_3a86_11eb_8389_0242ac1c0002level0_row17\" class=\"row_heading level0 row17\" >Risk</th>\n",
              "                        <td id=\"T_b4ffabc4_3a86_11eb_8389_0242ac1c0002row17_col0\" class=\"data row17 col0\" >0.14</td>\n",
              "                        <td id=\"T_b4ffabc4_3a86_11eb_8389_0242ac1c0002row17_col1\" class=\"data row17 col1\" >-0.00</td>\n",
              "                        <td id=\"T_b4ffabc4_3a86_11eb_8389_0242ac1c0002row17_col2\" class=\"data row17 col2\" >0.08</td>\n",
              "                        <td id=\"T_b4ffabc4_3a86_11eb_8389_0242ac1c0002row17_col3\" class=\"data row17 col3\" >0.45</td>\n",
              "                        <td id=\"T_b4ffabc4_3a86_11eb_8389_0242ac1c0002row17_col4\" class=\"data row17 col4\" >0.02</td>\n",
              "                        <td id=\"T_b4ffabc4_3a86_11eb_8389_0242ac1c0002row17_col5\" class=\"data row17 col5\" >0.26</td>\n",
              "                        <td id=\"T_b4ffabc4_3a86_11eb_8389_0242ac1c0002row17_col6\" class=\"data row17 col6\" >0.03</td>\n",
              "                        <td id=\"T_b4ffabc4_3a86_11eb_8389_0242ac1c0002row17_col7\" class=\"data row17 col7\" >0.04</td>\n",
              "                        <td id=\"T_b4ffabc4_3a86_11eb_8389_0242ac1c0002row17_col8\" class=\"data row17 col8\" >0.05</td>\n",
              "                        <td id=\"T_b4ffabc4_3a86_11eb_8389_0242ac1c0002row17_col9\" class=\"data row17 col9\" >0.02</td>\n",
              "                        <td id=\"T_b4ffabc4_3a86_11eb_8389_0242ac1c0002row17_col10\" class=\"data row17 col10\" >0.19</td>\n",
              "                        <td id=\"T_b4ffabc4_3a86_11eb_8389_0242ac1c0002row17_col11\" class=\"data row17 col11\" >0.10</td>\n",
              "                        <td id=\"T_b4ffabc4_3a86_11eb_8389_0242ac1c0002row17_col12\" class=\"data row17 col12\" >0.01</td>\n",
              "                        <td id=\"T_b4ffabc4_3a86_11eb_8389_0242ac1c0002row17_col13\" class=\"data row17 col13\" >0.01</td>\n",
              "                        <td id=\"T_b4ffabc4_3a86_11eb_8389_0242ac1c0002row17_col14\" class=\"data row17 col14\" >0.02</td>\n",
              "                        <td id=\"T_b4ffabc4_3a86_11eb_8389_0242ac1c0002row17_col15\" class=\"data row17 col15\" >0.03</td>\n",
              "                        <td id=\"T_b4ffabc4_3a86_11eb_8389_0242ac1c0002row17_col16\" class=\"data row17 col16\" >0.40</td>\n",
              "                        <td id=\"T_b4ffabc4_3a86_11eb_8389_0242ac1c0002row17_col17\" class=\"data row17 col17\" >1.00</td>\n",
              "            </tr>\n",
              "    </tbody></table>"
            ],
            "text/plain": [
              "<pandas.io.formats.style.Styler at 0x7fc1379b2eb8>"
            ]
          },
          "metadata": {
            "tags": []
          },
          "execution_count": 13
        }
      ]
    },
    {
      "cell_type": "markdown",
      "metadata": {
        "id": "BdihtwEj6x5V"
      },
      "source": [
        "**Observations based on the model:** \n",
        "\n",
        "\n",
        "*   A number of variables are not independent and can be explained through other variables in the dataset;\n",
        "*   Such input variables are as follows: SCORE_A (explained by: PARA_A), (PARA_B), Marks (numbers), MONEY_Marks (Money_Value), LOSS_SCORE (Loss), History_score (History); \n",
        "*   The same applies to the variable pair Score and Risk: total risk score of a firm calculated through the analytical procedure (variable Score) fully explains the risk class assigned to a firm (output variable Risk). \n",
        "\n",
        "\n"
      ]
    },
    {
      "cell_type": "markdown",
      "metadata": {
        "id": "nhKxZA4_8BMD"
      },
      "source": [
        "## Variables short-list"
      ]
    },
    {
      "cell_type": "markdown",
      "metadata": {
        "id": "19sHbkCs8Ktt"
      },
      "source": [
        "For the modelling purposes, we select the subset of the truly independent variables, which are presented in the list below:"
      ]
    },
    {
      "cell_type": "markdown",
      "metadata": {
        "id": "b7-TcicPNl6B"
      },
      "source": [
        "- **Sector_score**: Historical risk score value of the sector; \n",
        "- **PARA_A**: Discrepancy found in the plannedexpenditure of inspection and summary report A in Rs (in crore)\n",
        "- **PARA_B**: Discrepancy found in the unplannedexpenditure of inspection and summary report B in Rs (in crore)\n",
        "- **TOTAL**: Total amount of discrepancy found in other reports Rs (in crore)\n",
        "- **numbers**: Historical discrepancy score\n",
        "- **Money_Value**: Amount of money involved in misstatements in the past audits\n",
        "- **District**: Historical risk score of a district in the last 10 years\n",
        "- **Loss**: Amount of loss suffered by the firm last year\n",
        "- **History**: Average historical loss suffered by firm in the last 10 years\n",
        "- **Risk** *(output variable)*: Risk Class assigned to an audit-case "
      ]
    },
    {
      "cell_type": "markdown",
      "metadata": {
        "id": "XHKj-DCv9fbp"
      },
      "source": [
        "As `LOCATION_ID` attribute does not hold any relevant information in terms of identifying whether a firm is potentially fraudulent or not, we will not include in the classification model; however, we will use it in the end to cluster potentially fraudulent firms and see whether they tend to concentrate in some location(s)"
      ]
    },
    {
      "cell_type": "code",
      "metadata": {
        "id": "Nm5_rsAgzoq0"
      },
      "source": [
        "xnames = ['Sector_score', 'PARA_A','PARA_B', 'TOTAL', 'numbers', 'Money_Value', 'District', 'Loss', 'History']\n",
        "yname = 'Risk'"
      ],
      "execution_count": 14,
      "outputs": []
    },
    {
      "cell_type": "markdown",
      "metadata": {
        "id": "S1LFwXneA0dU"
      },
      "source": [
        "## Normalizing data"
      ]
    },
    {
      "cell_type": "markdown",
      "metadata": {
        "id": "kgLfyl3oA4VT"
      },
      "source": [
        "To get better results for our model, we need to normalize the input variables:"
      ]
    },
    {
      "cell_type": "code",
      "metadata": {
        "id": "ITHcJC7FA_D-"
      },
      "source": [
        "# setting x and y\n",
        "x = trial[xnames]\n",
        "y = trial[yname].astype(int) # y values can only be 1 or 0, that is why they are changed into an integer\n",
        "\n",
        "# converting values into a numpy array (not sure if this step is necessary)\n",
        "x = np.array(x)\n",
        "y = np.array(y)"
      ],
      "execution_count": 15,
      "outputs": []
    },
    {
      "cell_type": "code",
      "metadata": {
        "id": "t2xPm6Y6A9Lv"
      },
      "source": [
        "# this uses the keras normalizing method\n",
        "x = tf.keras.utils.normalize(x)"
      ],
      "execution_count": 16,
      "outputs": []
    },
    {
      "cell_type": "markdown",
      "metadata": {
        "id": "f20ymi2Y08sp"
      },
      "source": [
        "## Splitting data"
      ]
    },
    {
      "cell_type": "code",
      "metadata": {
        "id": "LyRUlVqn1XoU"
      },
      "source": [
        "x_train, x_test, y_train, y_test = train_test_split(x, y, test_size=0.3, random_state=42) # train_test_split was imported in the beginning"
      ],
      "execution_count": 17,
      "outputs": []
    },
    {
      "cell_type": "markdown",
      "metadata": {
        "id": "PP2sWzqBBqjJ"
      },
      "source": [
        "## Final checkups\n",
        "Here's a summary of what the data looks like now"
      ]
    },
    {
      "cell_type": "code",
      "metadata": {
        "colab": {
          "base_uri": "https://localhost:8080/"
        },
        "id": "NU7a2MC3BwjO",
        "outputId": "43c81bdf-4e77-4d58-b96f-cc9f75a9511b"
      },
      "source": [
        "print(x_train.shape)\n",
        "print(y_train.shape)\n",
        "print(x_test.shape)\n",
        "print(y_test.shape)"
      ],
      "execution_count": 18,
      "outputs": [
        {
          "output_type": "stream",
          "text": [
            "(540, 9)\n",
            "(540,)\n",
            "(232, 9)\n",
            "(232,)\n"
          ],
          "name": "stdout"
        }
      ]
    },
    {
      "cell_type": "markdown",
      "metadata": {
        "id": "BaED6lwkliI5"
      },
      "source": [
        "# 2 - Preparing data and environment"
      ]
    },
    {
      "cell_type": "markdown",
      "metadata": {
        "id": "UD3Kg5_u9MUG"
      },
      "source": [
        "## Creating data pre-processing class"
      ]
    },
    {
      "cell_type": "code",
      "metadata": {
        "id": "tPiVqOp_lz4K"
      },
      "source": [
        "class dataPreprocessing:\n",
        "  def __init__(self, dataframe, xnames=['Sector_score', 'PARA_A','PARA_B', 'TOTAL', 'numbers', 'Money_Value', 'District', 'Loss', 'History'], yname='Risk', normalize=False, convert_to_array=True, test_size=0.3):\n",
        "    # save some settings as attributed\n",
        "    self.xnames = xnames\n",
        "    self.yname = yname\n",
        "    \n",
        "    self.data = dataframe.copy()\n",
        "    # drop na values\n",
        "    self.data = self.data.dropna()\n",
        "    # get rid of weird locations\n",
        "    self.data = self.data[(self.data.LOCATION_ID != 'LOHARU')]\n",
        "    self.data = self.data[(self.data.LOCATION_ID != 'NUH')]\n",
        "    self.data = self.data[(self.data.LOCATION_ID != 'SAFIDON')]\n",
        "    self.data = self.data.astype(float)\n",
        "\n",
        "    # setting x and y\n",
        "    self.x = self.data[xnames]\n",
        "    self.y = self.data[yname]\n",
        "\n",
        "    # converting values into a numpy array (not sure if this step is necessary)\n",
        "    # Default: True\n",
        "    if convert_to_array is True:\n",
        "      self.x = np.array(self.x)\n",
        "      self.y = np.array(self.y)\n",
        "\n",
        "    # this uses the keras normalizing method\n",
        "    # Default: False\n",
        "    if normalize is True:\n",
        "      self.x = tf.keras.utils.normalize(self.x)\n",
        "\n",
        "    self.x_train, self.x_test, self.y_train, self.y_test = train_test_split(self.x, self.y, test_size=test_size, random_state=42) # train_test_split was imported in the beginning"
      ],
      "execution_count": 19,
      "outputs": []
    },
    {
      "cell_type": "markdown",
      "metadata": {
        "id": "sWfEYyqSI2-C"
      },
      "source": [
        "## Generating datasets"
      ]
    },
    {
      "cell_type": "code",
      "metadata": {
        "colab": {
          "base_uri": "https://localhost:8080/"
        },
        "id": "qfpRGyk6oSvu",
        "outputId": "f13b8b31-0e33-4815-adfc-7b192c6e7a11"
      },
      "source": [
        "# default data:\n",
        "trial = dataPreprocessing(trial_original) # all default values\n",
        "trial_n = dataPreprocessing(trial_original) # all default values. Normalized.\n",
        "\n",
        "# stripping TOTAL and Sector_Score\n",
        "trial2 = dataPreprocessing(trial_original, ['PARA_A', 'PARA_B', 'numbers', 'Money_Value', 'District', 'Loss', 'History'])\n",
        "trial2_n = dataPreprocessing(trial_original, ['PARA_A', 'PARA_B', 'numbers', 'Money_Value', 'District', 'Loss', 'History'], normalize=True)\n",
        "\n",
        "trial_r = dataPreprocessing(trial_original, yname='Score') # dataset for regressions.\n",
        "trial_r_n = dataPreprocessing(trial_original, yname='Score', normalize=True) # dataset for regressions. Normalized.\n",
        "print(\"data ready\")"
      ],
      "execution_count": 20,
      "outputs": [
        {
          "output_type": "stream",
          "text": [
            "data ready\n"
          ],
          "name": "stdout"
        }
      ]
    },
    {
      "cell_type": "markdown",
      "metadata": {
        "id": "M4tXSOvhzyD3"
      },
      "source": [
        "## Creating functions for visualisations"
      ]
    },
    {
      "cell_type": "code",
      "metadata": {
        "id": "XCmZx2oMzxxz"
      },
      "source": [
        "def receiver_operating_characteristic(model, x_data, y_data, name=\"model\"):\n",
        "  plt.figure()\n",
        "  # Compute False postive rate, and True positive rate\n",
        "  fpr, tpr, thresholds = metrics.roc_curve(y_data, model.predict_proba(x_data)[:,1])\n",
        "  # Calculate Area under the curve to display on the plot\n",
        "  auc = metrics.roc_auc_score(y_data,model.predict(x_data))\n",
        "  # Now, plot the computed values\n",
        "  plt.plot(fpr, tpr, label='%s ROC (area = %0.2f)' % (name, auc))\n",
        "  # Custom settings for the plot \n",
        "  plt.plot([0, 1], [0, 1],'r--')\n",
        "  plt.xlim([0.0, 1.0])\n",
        "  plt.ylim([0.0, 1.05])\n",
        "  plt.xlabel('1-Specificity(False Positive Rate)')\n",
        "  plt.ylabel('Sensitivity(True Positive Rate)')\n",
        "  plt.title(name+': Receiver Operating Characteristic')\n",
        "  plt.legend(loc=\"lower right\")\n",
        "  plt.show()\n",
        "\n",
        "# Plot the confusion matrix for classification models\n",
        "def confusion_matrix_visualization(model, x_data, y_data, name=\"model\", raw=0):\n",
        "  cm_r = confusion_matrix(y_data, model.predict(x_data))\n",
        "  if raw==0:\n",
        "    #plt.title(name+': Confusion matrix')\n",
        "    sns.set(font_scale=1.7)\n",
        "    cmap = sns.diverging_palette(220, 20, sep=20, as_cmap=True)\n",
        "    map = sns.heatmap(cm_r,annot=True,fmt=\"d\", cbar=False, cmap=cmap)\n",
        "    #plt.show()\n",
        "  else:\n",
        "    tn, fp, fn, tp = cm_r.ravel()\n",
        "    print('true negatives:', tn)\n",
        "    print('false positives:', fp)\n",
        "    print('false negatives:', fn)\n",
        "    print('true positives:', tp)\n",
        "\n",
        "\n",
        "# Plot the confusion matrix for own data (same as the other function, only takes other inputs)\n",
        "def confusion_matrix_visualization_raw(y_data_true, y_data_predict, name=\"model\", raw=0):\n",
        "  cm_r = confusion_matrix(y_data_true, y_data_predict)\n",
        "  if raw==0:\n",
        "    #plt.title(name+': Confusion matrix')\n",
        "    sns.set(font_scale=1.7)\n",
        "    cmap = sns.diverging_palette(220, 20, sep=20, as_cmap=True)\n",
        "    map = sns.heatmap(cm_r,annot=True,fmt=\"d\", cbar=False, cmap=cmap)\n",
        "    #plt.show()\n",
        "  else:\n",
        "    tn, fp, fn, tp = cm_r.ravel()\n",
        "    print('true negatives:', tn)\n",
        "    print('false positives:', fp)\n",
        "    print('false negatives:', fn)\n",
        "    print('true positives:', tp)"
      ],
      "execution_count": 21,
      "outputs": []
    },
    {
      "cell_type": "markdown",
      "metadata": {
        "id": "X76it4vQ9bST"
      },
      "source": [
        "## Creating functions for regression models (to convert)"
      ]
    },
    {
      "cell_type": "code",
      "metadata": {
        "id": "l27oYk2A9aRo"
      },
      "source": [
        "# converting regression model data into classification data\n",
        "# the threshold defines at which point a value should be classified as 1\n",
        "# also calculates accuracy\n",
        "def convert_reg_to_class(y_data_true, y_data_predict, threshold=2.1):\n",
        "  # switching predicted y values\n",
        "  y_data_predict = y_data_predict.copy()\n",
        "  y_data_predict = np.reshape(y_data_predict, (len(y_data_predict),))\n",
        "  for e,value in enumerate(y_data_predict):\n",
        "    if value>=threshold:\n",
        "      y_data_predict[e] = 1\n",
        "    else:\n",
        "      y_data_predict[e] = 0\n",
        "\n",
        "  # switching true y values\n",
        "  y_data_true = y_data_true.copy() # copying the data just to make sure it is not in any class\n",
        "  y_data_true = np.reshape(y_data_true, (len(y_data_true),))\n",
        "  for e,value in enumerate(y_data_true): #trial_r_n.y_test\n",
        "    if value>2:\n",
        "      y_data_true[e] = 1\n",
        "    else:\n",
        "      y_data_true[e] = 0\n",
        "\n",
        "  # calculating accuracy\n",
        "  accuracy = 0\n",
        "  for e,i in enumerate(y_data_predict):\n",
        "    if i==y_data_true[e]:\n",
        "      accuracy = accuracy + 1\n",
        "  accuracy = accuracy / len(y_data_predict)\n",
        "  \n",
        "  return {'y_data_true':y_data_true, 'y_data_predict':y_data_predict, 'accuracy':accuracy}"
      ],
      "execution_count": 22,
      "outputs": []
    },
    {
      "cell_type": "markdown",
      "metadata": {
        "id": "k4A7bXEuPbgE"
      },
      "source": [
        "# 3 - Modelling & Evaluation \n",
        "\n"
      ]
    },
    {
      "cell_type": "markdown",
      "metadata": {
        "id": "MnHpmQ1GPiBI"
      },
      "source": [
        "## 3.1 K_Neighbours"
      ]
    },
    {
      "cell_type": "code",
      "metadata": {
        "id": "uaKkJZsRMqiG"
      },
      "source": [
        "def k_neighbors(data, grid_params={'n_neighbors': [1, 2, 3, 4, 5, 6, 7, 8, 9, 10]}, cv=3, n_jobs=-1, verbose=0):\n",
        "\n",
        "  gs = GridSearchCV (KNeighborsClassifier(), grid_params, verbose = verbose, cv = cv, n_jobs = n_jobs)\n",
        "\n",
        "  # You were using the normal classifier for your final evaluation, not the gridsearchcv one. Most of that code is not necessary\n",
        "  #gs_results = gs.fit(data.x_train, data.y_train)\n",
        "  #kn_model = KNeighborsClassifier()\n",
        "  #kn_model.fit(data.x_train, data.y_train)\n",
        "  #kn_model.predict(data.x_train)\n",
        "  #print(kn_model.score(data.x_train, data.y_train), kn_model.score(data.x_test, data.y_test))\n",
        "  gs.fit(data.x_train, data.y_train)\n",
        "  print(gs.score(data.x_train, data.y_train), gs.score(data.x_test, data.y_test))\n",
        "  return gs"
      ],
      "execution_count": 23,
      "outputs": []
    },
    {
      "cell_type": "code",
      "metadata": {
        "colab": {
          "base_uri": "https://localhost:8080/"
        },
        "id": "mIYxqBdzsDgt",
        "outputId": "450259eb-0f70-448d-db2f-92f4b7c0e6a5"
      },
      "source": [
        "# testing\n",
        "k_0 = k_neighbors(trial)\n",
        "k_1 = k_neighbors(trial_n)\n",
        "k_2 = k_neighbors(trial2)\n",
        "k_3 = k_neighbors(trial2_n)"
      ],
      "execution_count": 24,
      "outputs": [
        {
          "output_type": "stream",
          "text": [
            "1.0 0.9612068965517241\n",
            "1.0 0.9612068965517241\n",
            "1.0 0.9568965517241379\n",
            "0.9740740740740741 0.9612068965517241\n"
          ],
          "name": "stdout"
        }
      ]
    },
    {
      "cell_type": "markdown",
      "metadata": {
        "id": "48MamL0d2P3Q"
      },
      "source": [
        "```\r\n",
        "# Results stay the same. trial outperforms.\r\n",
        "1.0 0.9612068965517241\r\n",
        "1.0 0.9612068965517241\r\n",
        "1.0 0.9568965517241379\r\n",
        "0.9740740740740741 0.9612068965517241\r\n",
        "```"
      ]
    },
    {
      "cell_type": "markdown",
      "metadata": {
        "id": "4OVJEYdVcAix"
      },
      "source": [
        "VISUALIZATION"
      ]
    },
    {
      "cell_type": "code",
      "metadata": {
        "colab": {
          "base_uri": "https://localhost:8080/",
          "height": 555
        },
        "id": "nKg3S6CazZRy",
        "outputId": "e318c61b-d55d-4d6c-c257-16700e18d87c"
      },
      "source": [
        "# visualization with dataset trial (not normalized, both perform equally well)\n",
        "receiver_operating_characteristic(k_0, trial.x_test, trial.y_test)\n",
        "confusion_matrix_visualization(k_0, trial.x_test, trial.y_test)"
      ],
      "execution_count": 25,
      "outputs": [
        {
          "output_type": "display_data",
          "data": {
            "image/png": "[encoded data removed]",
            "text/plain": [
              "<Figure size 432x288 with 1 Axes>"
            ]
          },
          "metadata": {
            "tags": [],
            "needs_background": "light"
          }
        },
        {
          "output_type": "display_data",
          "data": {
            "image/png": "[encoded data removed]",
            "text/plain": [
              "<Figure size 432x288 with 1 Axes>"
            ]
          },
          "metadata": {
            "tags": []
          }
        }
      ]
    },
    {
      "cell_type": "markdown",
      "metadata": {
        "id": "RfywY0zyPnRU"
      },
      "source": [
        "## 3.2 RandomForest (RF)"
      ]
    },
    {
      "cell_type": "code",
      "metadata": {
        "id": "qP_SqjRBhDja"
      },
      "source": [
        "# Old model:\n",
        "#rf_model = RandomForestClassifier()\n",
        "#rf_model.fit(x_train, y_train)\n",
        "#print(rf_model.score(x_train, y_train), rf_model.score(x_test, y_test))\n",
        "\n",
        "# optimized model\n",
        "def random_forest(data, n_estimators=[10,50,100,200], max_depth=['None',4,5,6,7,8], cv=3, n_jobs=-1, verbose=0):\n",
        "  grid_params = {'max_features': ['auto','sqrt','log2'], 'n_estimators' : n_estimators, 'max_depth' :max_depth, 'criterion': ['gini','entropy']}\n",
        "  gs = GridSearchCV (RandomForestClassifier(), grid_params, verbose = verbose, cv = cv, n_jobs = n_jobs)\n",
        "  gs_results = gs.fit(data.x_train, data.y_train)\n",
        "  print(gs.score(data.x_train, data.y_train), gs.score(data.x_test, data.y_test))\n",
        "  return gs"
      ],
      "execution_count": 26,
      "outputs": []
    },
    {
      "cell_type": "code",
      "metadata": {
        "colab": {
          "base_uri": "https://localhost:8080/"
        },
        "id": "jTmgrgjTsIUl",
        "outputId": "79c04a03-2679-4f9f-9371-51551df065f7"
      },
      "source": [
        "# testing\n",
        "r_0 = random_forest(trial)\n",
        "r_1 = random_forest(trial_n)\n",
        "r_2 = random_forest(trial2)\n",
        "r_3 = random_forest(trial2_n)"
      ],
      "execution_count": 27,
      "outputs": [
        {
          "output_type": "stream",
          "text": [
            "1.0 0.978448275862069\n",
            "1.0 0.9741379310344828\n",
            "1.0 0.978448275862069\n",
            "0.9962962962962963 0.978448275862069\n"
          ],
          "name": "stdout"
        }
      ]
    },
    {
      "cell_type": "markdown",
      "metadata": {
        "id": "PfBQ_q-t2XIk"
      },
      "source": [
        "```\r\n",
        "# Results change with re-run. Generally, all are the same. Trial2 outperforms a bit.\r\n",
        "0.9981481481481481 0.9698275862068966\r\n",
        "0.9944444444444445 0.9698275862068966\r\n",
        "0.9944444444444445 0.9698275862068966\r\n",
        "0.9962962962962963 0.9741379310344828\r\n",
        "```"
      ]
    },
    {
      "cell_type": "markdown",
      "metadata": {
        "id": "o0YQuduCbr3Z"
      },
      "source": [
        "VISUALIZATION"
      ]
    },
    {
      "cell_type": "code",
      "metadata": {
        "colab": {
          "base_uri": "https://localhost:8080/",
          "height": 603
        },
        "id": "mIUXVdQy1nBS",
        "outputId": "d13217bc-9bd9-4f67-cca7-42d381bea216"
      },
      "source": [
        "# visualization with dataset trial_n (normalized, because it works better)\n",
        "receiver_operating_characteristic(r_1, trial_n.x_test, trial_n.y_test)\n",
        "confusion_matrix_visualization(r_1, trial_n.x_test, trial_n.y_test)"
      ],
      "execution_count": 28,
      "outputs": [
        {
          "output_type": "display_data",
          "data": {
            "image/png": "[encoded data removed]",
            "text/plain": [
              "<Figure size 432x288 with 1 Axes>"
            ]
          },
          "metadata": {
            "tags": []
          }
        },
        {
          "output_type": "display_data",
          "data": {
            "image/png": "[encoded data removed]",
            "text/plain": [
              "<Figure size 432x288 with 1 Axes>"
            ]
          },
          "metadata": {
            "tags": []
          }
        }
      ]
    },
    {
      "cell_type": "markdown",
      "metadata": {
        "id": "JDUc0s6C_JQS"
      },
      "source": [
        "## 3.3 DecisionTree (DT)"
      ]
    },
    {
      "cell_type": "code",
      "metadata": {
        "id": "IyqxhaCIlct7"
      },
      "source": [
        "def decision_tree(data):\n",
        "  dt_model = DecisionTreeClassifier(random_state=123)\n",
        "  dt_model.fit(data.x_train, data.y_train)\n",
        "  print(dt_model.score(data.x_train, data.y_train), dt_model.score(data.x_test, data.y_test))\n",
        "  return dt_model"
      ],
      "execution_count": 29,
      "outputs": []
    },
    {
      "cell_type": "code",
      "metadata": {
        "colab": {
          "base_uri": "https://localhost:8080/"
        },
        "id": "uiy-av_8tFUk",
        "outputId": "ab08e1da-5e1f-4fdb-b632-64c737fc4f9d"
      },
      "source": [
        "# testing\n",
        "dt_0 = decision_tree(trial)\n",
        "dt_1 = decision_tree(trial_n)\n",
        "dt_2 = decision_tree(trial2)\n",
        "dt_3 = decision_tree(trial2_n)"
      ],
      "execution_count": 30,
      "outputs": [
        {
          "output_type": "stream",
          "text": [
            "1.0 0.9741379310344828\n",
            "1.0 0.9741379310344828\n",
            "1.0 0.9698275862068966\n",
            "1.0 0.9655172413793104\n"
          ],
          "name": "stdout"
        }
      ]
    },
    {
      "cell_type": "markdown",
      "metadata": {
        "id": "WgFqgWzU2bTY"
      },
      "source": [
        "```\r\n",
        "# Results stay the same. trial outperforms\r\n",
        "1.0 0.9741379310344828\r\n",
        "1.0 0.9741379310344828\r\n",
        "1.0 0.9698275862068966\r\n",
        "1.0 0.9655172413793104\r\n",
        "```"
      ]
    },
    {
      "cell_type": "markdown",
      "metadata": {
        "id": "nJlwxWZKdHNj"
      },
      "source": [
        "VISUALIZATION"
      ]
    },
    {
      "cell_type": "code",
      "metadata": {
        "colab": {
          "base_uri": "https://localhost:8080/",
          "height": 603
        },
        "id": "TUq3FeFd1sbj",
        "outputId": "c07068db-ced4-41a4-87c1-7709dda88baa"
      },
      "source": [
        "# visualization with dataset trial (not normalized, both perform equally well)\n",
        "receiver_operating_characteristic(dt_0, trial.x_test, trial.y_test)\n",
        "confusion_matrix_visualization(dt_0, trial.x_test, trial.y_test)"
      ],
      "execution_count": 31,
      "outputs": [
        {
          "output_type": "display_data",
          "data": {
            "image/png": "[encoded data removed]",
            "text/plain": [
              "<Figure size 432x288 with 1 Axes>"
            ]
          },
          "metadata": {
            "tags": []
          }
        },
        {
          "output_type": "display_data",
          "data": {
            "image/png": "[encoded data removed]",
            "text/plain": [
              "<Figure size 432x288 with 1 Axes>"
            ]
          },
          "metadata": {
            "tags": []
          }
        }
      ]
    },
    {
      "cell_type": "markdown",
      "metadata": {
        "id": "e5bYLkzin9uy"
      },
      "source": [
        "Computation of raw confusion matrix:"
      ]
    },
    {
      "cell_type": "code",
      "metadata": {
        "id": "hbHDMj11m343",
        "colab": {
          "base_uri": "https://localhost:8080/"
        },
        "outputId": "5aeb028c-1793-42f2-b375-3078fe8f269d"
      },
      "source": [
        "confusion_matrix_visualization(dt_0, trial.x_test, trial.y_test, raw=1)"
      ],
      "execution_count": 32,
      "outputs": [
        {
          "output_type": "stream",
          "text": [
            "true negatives: 74\n",
            "false positives: 2\n",
            "false negatives: 4\n",
            "true positives: 152\n"
          ],
          "name": "stdout"
        }
      ]
    },
    {
      "cell_type": "markdown",
      "metadata": {
        "id": "MUtoR0fWPp-j"
      },
      "source": [
        "## 3.4 Neural Network (NN)"
      ]
    },
    {
      "cell_type": "markdown",
      "metadata": {
        "id": "0SkmQJLGoeb_"
      },
      "source": [
        "Sources:\n",
        "\n",
        "https://www.tensorflow.org/tutorials/load_data/csv"
      ]
    },
    {
      "cell_type": "code",
      "metadata": {
        "id": "-RfooEVsYiCN"
      },
      "source": [
        "def neural_network(data, epochs=1000, verbose=0):\n",
        "  nn_model = tf.keras.models.Sequential([\n",
        "  tf.keras.layers.InputLayer(input_shape=(len(data.xnames))),\n",
        "  tf.keras.layers.Dense(2)\n",
        "  ])\n",
        "\n",
        "  loss_fn = tf.keras.losses.SparseCategoricalCrossentropy(from_logits=True)\n",
        "\n",
        "  nn_model.compile(optimizer='adam',\n",
        "                loss=loss_fn,\n",
        "                metrics=['accuracy'])\n",
        "\n",
        "  result = nn_model.fit(data.x_train, data.y_train, epochs=epochs, verbose=verbose)\n",
        "  print(nn_model.evaluate(data.x_train,  data.y_train)[1] ,nn_model.evaluate(data.x_test,  data.y_test, verbose=0)[1]) # the [1] leaves out the loss and only shows accuracy\n",
        "  return nn_model"
      ],
      "execution_count": 33,
      "outputs": []
    },
    {
      "cell_type": "code",
      "metadata": {
        "id": "Xr7VaVTtZcmx",
        "colab": {
          "base_uri": "https://localhost:8080/"
        },
        "outputId": "a6468527-cda6-4b0f-a881-192ab163f9d7"
      },
      "source": [
        "# testing\n",
        "nn_0 = neural_network(trial)\n",
        "nn_1 = neural_network(trial_n)\n",
        "nn_2 = neural_network(trial2)\n",
        "nn_3 = neural_network(trial2_n)"
      ],
      "execution_count": 34,
      "outputs": [
        {
          "output_type": "stream",
          "text": [
            "17/17 [==============================] - 0s 1ms/step - loss: 0.1079 - accuracy: 0.9685\n",
            "0.9685184955596924 0.9267241358757019\n",
            "17/17 [==============================] - 0s 2ms/step - loss: 0.1101 - accuracy: 0.9685\n",
            "0.9685184955596924 0.931034505367279\n",
            "17/17 [==============================] - 0s 2ms/step - loss: 0.1124 - accuracy: 0.9685\n",
            "0.9685184955596924 0.9482758641242981\n",
            "17/17 [==============================] - 0s 2ms/step - loss: 0.1551 - accuracy: 0.9630\n",
            "0.9629629850387573 0.9396551847457886\n"
          ],
          "name": "stdout"
        }
      ]
    },
    {
      "cell_type": "markdown",
      "metadata": {
        "id": "G4-LXE082kOM"
      },
      "source": [
        "```\r\n",
        "# Results change with re-run. trial2 outperforms.\r\n",
        "17/17 [==============================] - 0s 2ms/step - loss: 0.1080 - accuracy: 0.9685\r\n",
        "0.9685184955596924 0.931034505367279\r\n",
        "17/17 [==============================] - 0s 2ms/step - loss: 0.1085 - accuracy: 0.9685\r\n",
        "0.9685184955596924 0.9267241358757019\r\n",
        "17/17 [==============================] - 0s 2ms/step - loss: 0.1118 - accuracy: 0.9685\r\n",
        "0.9685184955596924 0.943965494632721\r\n",
        "17/17 [==============================] - 0s 2ms/step - loss: 0.1544 - accuracy: 0.9574\r\n",
        "0.9574074149131775 0.9267241358757019\r\n",
        "```"
      ]
    },
    {
      "cell_type": "code",
      "metadata": {
        "colab": {
          "base_uri": "https://localhost:8080/",
          "height": 277
        },
        "id": "VwKmQwnONayQ",
        "outputId": "fd90adc8-9b50-4417-f5e5-bff375553bb3"
      },
      "source": [
        "# visualization with dataset trial2 (not normalized, for some reason this works better)\n",
        "confusion_matrix_visualization_raw(trial2.y_test, np.argmax(nn_2.predict(trial2.x_test), axis=1))"
      ],
      "execution_count": 35,
      "outputs": [
        {
          "output_type": "display_data",
          "data": {
            "image/png": "[encoded data removed]",
            "text/plain": [
              "<Figure size 432x288 with 1 Axes>"
            ]
          },
          "metadata": {
            "tags": []
          }
        }
      ]
    },
    {
      "cell_type": "markdown",
      "metadata": {
        "id": "mKCC0FEiGgg0"
      },
      "source": [
        "## 3.5 Deep Neural Network (DNN)"
      ]
    },
    {
      "cell_type": "code",
      "metadata": {
        "id": "Gep-FNbxG7Yu"
      },
      "source": [
        "def deep_neural_network(data, model=[['Dense',50, 'relu'], ['Dropout', 0.2], ['Dense', '20', 'relu']], epochs=1000, verbose=0):\n",
        "  # getting correct model\n",
        "  dnn_model = tf.keras.models.Sequential(tf.keras.layers.InputLayer(input_shape=(len(data.xnames))))\n",
        "  for layer in model:\n",
        "    if layer[0]=='Dense':\n",
        "      dnn_model.add(tf.keras.layers.Dense(layer[1], activation=layer[2]))\n",
        "    elif layer[0]=='Dropout':\n",
        "      dnn_model.add(tf.keras.layers.Dropout(layer[1]))\n",
        "\n",
        "  # adding last layer\n",
        "  dnn_model.add(tf.keras.layers.Dense(2))\n",
        "\n",
        "  loss_fn = tf.keras.losses.SparseCategoricalCrossentropy(from_logits=True)\n",
        "\n",
        "  dnn_model.compile(optimizer='adam',\n",
        "                loss=loss_fn,\n",
        "                metrics=['accuracy'])\n",
        "\n",
        "  result = dnn_model.fit(data.x_train, data.y_train, epochs=epochs, verbose=verbose)\n",
        "  print(dnn_model.evaluate(data.x_train,  data.y_train, verbose=0)[1], dnn_model.evaluate(data.x_test,  data.y_test, verbose=0)[1])\n",
        "  return dnn_model"
      ],
      "execution_count": 36,
      "outputs": []
    },
    {
      "cell_type": "code",
      "metadata": {
        "id": "5zq4wvCfG9tL",
        "colab": {
          "base_uri": "https://localhost:8080/"
        },
        "outputId": "4c5f62f4-a0c5-466c-c8f5-0f07e7dfdf19"
      },
      "source": [
        "# testing\n",
        "dnn_0 = deep_neural_network(trial)\n",
        "dnn_1 = deep_neural_network(trial_n)\n",
        "dnn_2 = deep_neural_network(trial2)\n",
        "dnn_3 = deep_neural_network(trial2_n)"
      ],
      "execution_count": 37,
      "outputs": [
        {
          "output_type": "stream",
          "text": [
            "0.9981481432914734 0.982758641242981\n",
            "0.9981481432914734 0.9655172228813171\n",
            "0.9944444298744202 0.9741379022598267\n",
            "0.9962962865829468 0.9698275923728943\n"
          ],
          "name": "stdout"
        }
      ]
    },
    {
      "cell_type": "markdown",
      "metadata": {
        "id": "tIvL_Qbs2uNp"
      },
      "source": [
        "```\r\n",
        "# Results change with re-run. Normalized performs better.\r\n",
        "0.9962962865829468 0.9698275923728943\r\n",
        "0.9962962865829468 0.9741379022598267\r\n",
        "0.9962962865829468 0.9741379022598267\r\n",
        "0.9907407164573669 0.9741379022598267\r\n",
        "```"
      ]
    },
    {
      "cell_type": "code",
      "metadata": {
        "colab": {
          "base_uri": "https://localhost:8080/",
          "height": 277
        },
        "id": "wneCIKG0NFxV",
        "outputId": "09f04282-6ef6-4251-d060-427f30433f3c"
      },
      "source": [
        "# visualization with dataset trial2 (not normalized, for some reason this works better)\n",
        "confusion_matrix_visualization_raw(trial2.y_test, np.argmax(dnn_2.predict(trial2.x_test), axis=1))"
      ],
      "execution_count": 38,
      "outputs": [
        {
          "output_type": "display_data",
          "data": {
            "image/png": "[encoded data removed]",
            "text/plain": [
              "<Figure size 432x288 with 1 Axes>"
            ]
          },
          "metadata": {
            "tags": []
          }
        }
      ]
    },
    {
      "cell_type": "markdown",
      "metadata": {
        "id": "JUjXC4ajxCMT"
      },
      "source": [
        "##3.6 Regression model: Linear Regression\n",
        "Instead of using `Risk` as y variable, we could also use `Score` and make a regression out of this model.\n",
        "\n",
        "For this, we will have to use a different dataset `trial_r` and `trial_r_n` (specified above)."
      ]
    },
    {
      "cell_type": "markdown",
      "metadata": {
        "id": "DCRXpG6S9zmE"
      },
      "source": [
        "**Regressions cannot give you an \"accuracy\" on your dataset. Instead they tell you the deviation from the y values. That is why, in order to compare the regression models with the classification models, we have to convert the regression models using a threshold.**"
      ]
    },
    {
      "cell_type": "code",
      "metadata": {
        "id": "9J7-4muZxKqw"
      },
      "source": [
        "def linear_regression(data):\n",
        "  reg_model = LinearRegression()\n",
        "  reg_model.fit(data.x_train, data.y_train)\n",
        "  print(\"Loss:\", reg_model.score(data.x_train, data.y_train), reg_model.score(data.x_test, data.y_test))\n",
        "  return reg_model"
      ],
      "execution_count": 39,
      "outputs": []
    },
    {
      "cell_type": "code",
      "metadata": {
        "colab": {
          "base_uri": "https://localhost:8080/"
        },
        "id": "bpqBjuuIxw79",
        "outputId": "0938648e-7bf9-4b95-d915-bd3ba5d0b350"
      },
      "source": [
        "# testing\n",
        "lr_0 = linear_regression(trial_r)\n",
        "lr_1 = linear_regression(trial_r_n)\n",
        "\n",
        "# converting regression to classification values\n",
        "result0 = convert_reg_to_class(trial_r.y_train, lr_1.predict(trial_r.x_train))\n",
        "result1 = convert_reg_to_class(trial_r.y_test, lr_1.predict(trial_r.x_test))\n",
        "print(\"Accuracy at 2.1 theshold:\", result0['accuracy'], result1['accuracy'])\n",
        "\n",
        "# converting normalized regression to classification values\n",
        "result0 = convert_reg_to_class(trial_r_n.y_train, lr_1.predict(trial_r_n.x_train))\n",
        "result1 = convert_reg_to_class(trial_r_n.y_test, lr_1.predict(trial_r_n.x_test))\n",
        "print(\"Accuracy at 2.1 theshold:\", result0['accuracy'], result1['accuracy'])"
      ],
      "execution_count": 40,
      "outputs": [
        {
          "output_type": "stream",
          "text": [
            "Loss: 0.669496188417347 -2.591240581829344\n",
            "Loss: 0.809126412429765 0.7414148690717144\n",
            "Accuracy at 2.1 theshold: 0.6944444444444444 0.6853448275862069\n",
            "Accuracy at 2.1 theshold: 0.6907407407407408 0.7112068965517241\n"
          ],
          "name": "stdout"
        }
      ]
    },
    {
      "cell_type": "markdown",
      "metadata": {
        "id": "VQoDPRS521Aj"
      },
      "source": [
        "```\r\n",
        "# Results stay the same. trial_r_n outperforms.\r\n",
        "Loss: 0.669496188417347 -2.591240581829344\r\n",
        "Loss: 0.809126412429765 0.7414148690717144\r\n",
        "Accuracy at 2.1 theshold: 0.6944444444444444 0.6853448275862069\r\n",
        "Accuracy at 2.1 theshold: 0.6907407407407408 0.7112068965517241\r\n",
        "```"
      ]
    },
    {
      "cell_type": "code",
      "metadata": {
        "colab": {
          "base_uri": "https://localhost:8080/",
          "height": 362
        },
        "id": "sf2Kiowu4VHh",
        "outputId": "5426e10f-ad3b-4f7e-9b68-7f515172115d"
      },
      "source": [
        "# Finding the right threshold (for normalized data set because it performs much better):\n",
        "best_threshold = {'threshold':0, 'accuracy':0} # pre-defining data\n",
        "\n",
        "for i in range(int(1.8*1000), int(3.0*1000)):\n",
        "  # trying the current threshold\n",
        "  result = convert_reg_to_class(trial_r_n.y_test, lr_1.predict(trial_r_n.x_test), float(i/1000))\n",
        "  # checking if the current threshold is the best one\n",
        "  if best_threshold['accuracy'] < result['accuracy']:\n",
        "    best_threshold = {'threshold':float(i/1000), 'accuracy':result['accuracy']}\n",
        "\n",
        "print(best_threshold)\n",
        "\n",
        "\n",
        "\n",
        "# visualization (using the best threshold)\n",
        "result = convert_reg_to_class(trial_r_n.y_test, lr_1.predict(trial_r_n.x_test), best_threshold['threshold'])\n",
        "\n",
        "confusion_matrix_visualization_raw(result['y_data_true'], result['y_data_predict'])\n",
        "confusion_matrix_visualization_raw(result['y_data_true'], result['y_data_predict'], raw=1)"
      ],
      "execution_count": 41,
      "outputs": [
        {
          "output_type": "stream",
          "text": [
            "{'threshold': 2.24, 'accuracy': 0.8793103448275862}\n",
            "true negatives: 70\n",
            "false positives: 6\n",
            "false negatives: 22\n",
            "true positives: 134\n"
          ],
          "name": "stdout"
        },
        {
          "output_type": "display_data",
          "data": {
            "image/png": "[encoded data removed]",
            "text/plain": [
              "<Figure size 432x288 with 1 Axes>"
            ]
          },
          "metadata": {
            "tags": []
          }
        }
      ]
    },
    {
      "cell_type": "markdown",
      "metadata": {
        "id": "huQchqPW24RE"
      },
      "source": [
        "```\r\n",
        "{'threshold': 2.24, 'accuracy': 0.8793103448275862}\r\n",
        "```"
      ]
    },
    {
      "cell_type": "markdown",
      "metadata": {
        "id": "Gjw6hnAFHVir"
      },
      "source": [
        "## 3.7 Regression model: Deep Neural Network\n",
        "Instead of using `Risk` as y variable, we could also use `Score` and make a regression out of this model.\n",
        "\n",
        "For this, we will have to use a different dataset (specified above)."
      ]
    },
    {
      "cell_type": "code",
      "metadata": {
        "id": "Z4Ul94MhJh4t"
      },
      "source": [
        "def deep_neural_network_regression(data, model=[['Dense',50, 'relu'], ['Dropout', 0.2], ['Dense', '20', 'relu']], epochs=1000, verbose=0):\n",
        "  # getting correct model\n",
        "  dnn_model = tf.keras.models.Sequential(tf.keras.layers.InputLayer(input_shape=(len(data.xnames))))\n",
        "  for layer in model:\n",
        "    if layer[0]=='Dense':\n",
        "      dnn_model.add(tf.keras.layers.Dense(layer[1], activation=layer[2]))\n",
        "    elif layer[0]=='Dropout':\n",
        "      dnn_model.add(tf.keras.layers.Dropout(layer[1]))\n",
        "\n",
        "  # adding last layer\n",
        "  dnn_model.add(tf.keras.layers.Dense(1))\n",
        "\n",
        "  dnn_model.compile(optimizer='adam',\n",
        "                loss=\"mean_absolute_error\") # , metrics=['accuracy']\n",
        "\n",
        "  result = dnn_model.fit(data.x_train, data.y_train, epochs=epochs, verbose=verbose)\n",
        "  print('Loss:', dnn_model.evaluate(data.x_train,  data.y_train, verbose=0), dnn_model.evaluate(data.x_test,  data.y_test, verbose=0))\n",
        "  return dnn_model"
      ],
      "execution_count": 42,
      "outputs": []
    },
    {
      "cell_type": "code",
      "metadata": {
        "colab": {
          "base_uri": "https://localhost:8080/"
        },
        "id": "ZayDa6UBKL0N",
        "outputId": "212a775c-3038-4bd5-e8a2-ef42e2acdf8a"
      },
      "source": [
        "# testing\n",
        "dnnr_0 = deep_neural_network_regression(trial_r)\n",
        "dnnr_1 = deep_neural_network_regression(trial_r_n)"
      ],
      "execution_count": 43,
      "outputs": [
        {
          "output_type": "stream",
          "text": [
            "Loss: 0.1550959199666977 0.240566685795784\n",
            "Loss: 0.0967903658747673 0.13941015303134918\n"
          ],
          "name": "stdout"
        }
      ]
    },
    {
      "cell_type": "markdown",
      "metadata": {
        "id": "Lsz5-9j0bQRT"
      },
      "source": [
        "In order to compare the regression results with the classification results, the regression needs to be converted into a 1 or 0 classification:"
      ]
    },
    {
      "cell_type": "code",
      "metadata": {
        "colab": {
          "base_uri": "https://localhost:8080/",
          "height": 362
        },
        "id": "hqpQBiJv55Uo",
        "outputId": "cfc05594-3cba-4ae3-e712-dd59b6d2a51c"
      },
      "source": [
        "# visualization for 2.1 default threshold (only for normalized data set because it performs much better)\n",
        "result = convert_reg_to_class(trial_r_n.y_test, dnnr_1.predict(trial_r_n.x_test))\n",
        "print(\"Accuracy: \", result['accuracy'])\n",
        "\n",
        "confusion_matrix_visualization_raw(result['y_data_true'], result['y_data_predict'])\n",
        "confusion_matrix_visualization_raw(result['y_data_true'], result['y_data_predict'], raw=1)"
      ],
      "execution_count": 44,
      "outputs": [
        {
          "output_type": "stream",
          "text": [
            "Accuracy:  0.9525862068965517\n",
            "true negatives: 68\n",
            "false positives: 8\n",
            "false negatives: 3\n",
            "true positives: 153\n"
          ],
          "name": "stdout"
        },
        {
          "output_type": "display_data",
          "data": {
            "image/png": "[encoded data removed]",
            "text/plain": [
              "<Figure size 432x288 with 1 Axes>"
            ]
          },
          "metadata": {
            "tags": []
          }
        }
      ]
    },
    {
      "cell_type": "markdown",
      "metadata": {
        "id": "xhTzdnrL27vE"
      },
      "source": [
        "```\r\n",
        "# Result change with re-run. Normalized outperforms.\r\n",
        "Accuracy:  0.9482758620689655\r\n",
        "```"
      ]
    },
    {
      "cell_type": "code",
      "metadata": {
        "colab": {
          "base_uri": "https://localhost:8080/",
          "height": 362
        },
        "id": "B1ZEpygKLFIJ",
        "outputId": "353ed308-90f6-4e6f-919b-86cfb78e192b"
      },
      "source": [
        "# finding the right threshold and then trying again (might be overfitting\n",
        "# , which is why finding the right threshold is disencouraged)\n",
        "\n",
        "best_threshold = {'threshold':0, 'accuracy':0}\n",
        "for i in range(int(1.8*1000), int(3.0*1000)):\n",
        "  # testing current threshold\n",
        "  result = convert_reg_to_class(trial_r_n.y_test, dnnr_1.predict(trial_r_n.x_test), float(i/1000))\n",
        "  # checking if the current threshold is the best one\n",
        "  if best_threshold['accuracy'] < result['accuracy']:\n",
        "    best_threshold = {'threshold':float(i/1000), 'accuracy':result['accuracy']}\n",
        "\n",
        "print(best_threshold)\n",
        "\n",
        "# visualizing again, now with the right threshold\n",
        "result = convert_reg_to_class(trial_r_n.y_test, dnnr_1.predict(trial_r_n.x_test), best_threshold['threshold'])\n",
        "confusion_matrix_visualization_raw(result['y_data_true'], result['y_data_predict'])\n",
        "confusion_matrix_visualization_raw(result['y_data_true'], result['y_data_predict'], raw=1)"
      ],
      "execution_count": 45,
      "outputs": [
        {
          "output_type": "stream",
          "text": [
            "{'threshold': 2.037, 'accuracy': 0.9612068965517241}\n",
            "true negatives: 67\n",
            "false positives: 9\n",
            "false negatives: 0\n",
            "true positives: 156\n"
          ],
          "name": "stdout"
        },
        {
          "output_type": "display_data",
          "data": {
            "image/png": "[encoded data removed]",
            "text/plain": [
              "<Figure size 432x288 with 1 Axes>"
            ]
          },
          "metadata": {
            "tags": []
          }
        }
      ]
    },
    {
      "cell_type": "markdown",
      "metadata": {
        "id": "sTM0lc9Q2__z"
      },
      "source": [
        "```\r\n",
        "{'threshold': 2.024, 'accuracy': 0.9568965517241379}\r\n",
        "```"
      ]
    },
    {
      "cell_type": "markdown",
      "metadata": {
        "id": "aTcRt5gjIS2K"
      },
      "source": [
        "## 3.8 NO-ML: Not using a machine learning model at all\n",
        "Why even use a ML model if the whole system is based on the following conditions:"
      ]
    },
    {
      "cell_type": "markdown",
      "metadata": {
        "id": "kHDvlciFIf9l"
      },
      "source": [
        "If ANY of the scores (A,B,Marks,Money_Marks, Loss_Score, history_score) goes above 2, then the risk = 1 *(verified for all scores that each individual one is relevant if there is an entry that has a value 2 for all scores except one)*:\n",
        "- All scores start at 2\n",
        "- if Para A is >=1 then Score A = 4\n",
        "- if Para B is >=1 then *usually* Score B > 2. There are a few exceptions to this but it doesn't make any sense at all (maybe errors in the dataset?). Still, Para B >=1 results in risk=1.\n",
        "- if numbers is >= 5 then Marks >2\n",
        "- if money_value > 5 then Money_marks >2\n",
        "- if loss >0 (can only be 0 or 1) then loss_score = 4\n",
        "- if history >0 then history_score > 2\n",
        "\n",
        "Not a score but:\n",
        "- if district >2 then risk =1\n",
        "\n",
        "More insights:\n",
        "- **Total** value does not affect the risk value -> one entry shows this as it has a high value but all other scores are at 2, making it a non-risk company\n",
        "- Sector_score has no influence on the risk level (that I could identify)\n",
        "\n",
        "Result:\n",
        "This algorithm predicts all risk scores correctly except for 12 entries, all of which have the same sector_score of 3.89. That sector has either bribed the auditing company or there is a special condition for some of the companies in this sector not to be audited. **The critical feature for this error is Para_B**\n",
        "\n",
        "Final accuracy on the whole dataset: 98.3%"
      ]
    },
    {
      "cell_type": "code",
      "metadata": {
        "colab": {
          "base_uri": "https://localhost:8080/"
        },
        "id": "_1yk5zHsSpd8",
        "outputId": "442a167d-4a6c-4cc0-829b-78276382106f"
      },
      "source": [
        "# creating new dataset:\n",
        "trial_no_ml = dataPreprocessing(trial_original, ['PARA_A', 'PARA_B', 'numbers', 'Money_Value', 'Loss', 'History', 'District', 'Sector_score'], test_size=0.0001) # all default values. Normalized.\n",
        "\n",
        "# predefine result and accuracy\n",
        "print(\"Variables: \", trial_no_ml.xnames)\n",
        "result = np.array([])\n",
        "accuracy = 0\n",
        "# all conditions\n",
        "for e,i in enumerate(trial_no_ml.x_train):\n",
        "\n",
        "  #  PARA_A      PARA_B    numbers  money_value  loss     history   district\n",
        "  if i[0]>=1 or i[1]>=1 or i[2]>5 or i[3]>=5 or i[4]>0 or i[5]>0 or i[6]>2:\n",
        "    value = 1\n",
        "    result = np.append(result, [1])\n",
        "  else:\n",
        "    value = 0\n",
        "    result = np.append(result, [0])\n",
        "\n",
        "  # check accuracy\n",
        "  if value == trial_no_ml.y_train[e]:\n",
        "    accuracy = accuracy + 1\n",
        "  else:\n",
        "    print(f\"Wrong (pred:{value}, real:{trial_no_ml.y_train[e]}): {i}\")\n",
        "\n",
        "# calculate final accuracy\n",
        "accuracy = accuracy / len(trial_no_ml.x_train)\n",
        "print(\"Accuracy: \", accuracy)"
      ],
      "execution_count": 46,
      "outputs": [
        {
          "output_type": "stream",
          "text": [
            "Variables:  ['PARA_A', 'PARA_B', 'numbers', 'Money_Value', 'Loss', 'History', 'District', 'Sector_score']\n",
            "Wrong (pred:1, real:0.0): [0.   2.97 5.   2.84 0.   0.   2.   3.89]\n",
            "Wrong (pred:1, real:0.0): [0.   1.05 5.   0.16 0.   0.   2.   3.89]\n",
            "Wrong (pred:1, real:0.0): [0.   1.03 5.   0.   0.   0.   2.   3.89]\n",
            "Wrong (pred:1, real:0.0): [0.62 2.02 5.   0.11 0.   0.   2.   3.89]\n",
            "Wrong (pred:1, real:0.0): [0.74 1.   5.   0.   0.   0.   2.   3.89]\n",
            "Wrong (pred:1, real:0.0): [0.   2.27 5.   2.62 0.   0.   2.   3.89]\n",
            "Wrong (pred:1, real:0.0): [0.   1.03 5.   2.43 0.   0.   2.   3.89]\n",
            "Wrong (pred:1, real:0.0): [0.    1.1   5.    0.007 0.    0.    2.    3.89 ]\n",
            "Wrong (pred:1, real:0.0): [0.   1.88 5.   0.   0.   0.   2.   3.89]\n",
            "Wrong (pred:1, real:0.0): [0.   1.61 5.   2.51 0.   0.   2.   3.89]\n",
            "Wrong (pred:1, real:0.0): [0.   1.02 5.   0.   0.   0.   2.   3.89]\n",
            "Wrong (pred:1, real:0.0): [0.   1.76 5.   1.08 0.   0.   2.   3.89]\n",
            "Wrong (pred:1, real:0.0): [0.   4.83 5.   0.94 0.   0.   2.   3.89]\n",
            "Accuracy:  0.9831387808041504\n"
          ],
          "name": "stdout"
        }
      ]
    },
    {
      "cell_type": "code",
      "metadata": {
        "colab": {
          "base_uri": "https://localhost:8080/",
          "height": 345
        },
        "id": "Kr6SkXeAZJuV",
        "outputId": "11a1494c-4efb-44db-ee88-448e6564a060"
      },
      "source": [
        "# visualisation\n",
        "confusion_matrix_visualization_raw(trial_no_ml.y_train, result)\n",
        "confusion_matrix_visualization_raw(trial_no_ml.y_train, result, raw=1)"
      ],
      "execution_count": 47,
      "outputs": [
        {
          "output_type": "stream",
          "text": [
            "true negatives: 272\n",
            "false positives: 13\n",
            "false negatives: 0\n",
            "true positives: 486\n"
          ],
          "name": "stdout"
        },
        {
          "output_type": "display_data",
          "data": {
            "image/png": "[encoded data removed]",
            "text/plain": [
              "<Figure size 432x288 with 1 Axes>"
            ]
          },
          "metadata": {
            "tags": []
          }
        }
      ]
    },
    {
      "cell_type": "markdown",
      "metadata": {
        "id": "WItmLTz3QO1F"
      },
      "source": [
        "# 4 - Results"
      ]
    },
    {
      "cell_type": "markdown",
      "metadata": {
        "id": "h2TrfFzYQRYG"
      },
      "source": [
        "# 5 - Final remarks"
      ]
    },
    {
      "cell_type": "markdown",
      "metadata": {
        "id": "UzZHlAL-GoXL"
      },
      "source": [
        "# 6 - Appendix (and code that is not needed anymore but that might be useful to the team)"
      ]
    }
  ]
}